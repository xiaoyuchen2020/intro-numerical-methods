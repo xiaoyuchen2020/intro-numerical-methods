{
 "cells": [
  {
   "cell_type": "code",
   "execution_count": 1,
   "metadata": {},
   "outputs": [],
   "source": [
    "%matplotlib inline\n",
    "import numpy\n",
    "import matplotlib.pyplot as plt"
   ]
  },
  {
   "cell_type": "markdown",
   "metadata": {
    "deletable": false,
    "editable": false,
    "nbgrader": {
     "cell_type": "markdown",
     "checksum": "935818b1cc5498fcab64162ff74a4e0a",
     "grade": false,
     "grade_id": "cell-6537906896021329",
     "locked": true,
     "schema_version": 3,
     "solution": false
    }
   },
   "source": [
    "Before you turn this problem in, make sure everything runs as expected. First, restart the kernel (in the menubar, select Kernel $\\rightarrow$ Restart) and then run all cells (in the menubar, select Cell $\\rightarrow$ Run All).\n",
    "\n",
    "Make sure you fill in any place that says YOUR CODE HERE or \"YOUR ANSWER HERE\", as well as your name and collaborators below:"
   ]
  },
  {
   "cell_type": "markdown",
   "metadata": {
    "deletable": false,
    "editable": false,
    "nbgrader": {
     "cell_type": "markdown",
     "checksum": "0b16d783d23daac019787229d4c2e61a",
     "grade": false,
     "grade_id": "cell-5502088417300118",
     "locked": true,
     "schema_version": 3,
     "solution": false
    }
   },
   "source": [
    "# HW 3:  Interpolation and applications"
   ]
  },
  {
   "cell_type": "markdown",
   "metadata": {
    "deletable": false,
    "editable": false,
    "nbgrader": {
     "cell_type": "markdown",
     "checksum": "09aa3e7992cd994495709007184999f6",
     "grade": false,
     "grade_id": "cell-82472618555790",
     "locked": true,
     "schema_version": 3,
     "solution": false
    }
   },
   "source": [
    "## Question 1\n",
    "\n",
    "Consider data at three points $(x_0, y_0) = (0, 0)$, $(x_1, y_1) = (1, 2)$, and $(x_2, y_2) = (2, 2)$."
   ]
  },
  {
   "cell_type": "markdown",
   "metadata": {
    "deletable": false,
    "editable": false,
    "nbgrader": {
     "cell_type": "markdown",
     "checksum": "3b84eeedf2d36dfc3754dc397cd38e54",
     "grade": false,
     "grade_id": "cell-8265701073131704",
     "locked": true,
     "schema_version": 3,
     "solution": false
    }
   },
   "source": [
    "**(a)** [ 8 pts] Analytically find coefficients of the interpolating  polynomial $P_2(x)$ that passes through these three points in the following bases\n",
    "1. Monomial: $P(x) = p_0 + p_1 x + p_2 x^2$\n",
    "1. Lagrange: $P(x) = \\sum^2_{k=0} y_k \\ell_k(x)$\n",
    "\n",
    "\n",
    "and show that, independent of basis it's always the same polynomial.\n",
    "\n"
   ]
  },
  {
   "cell_type": "markdown",
   "metadata": {
    "deletable": false,
    "nbgrader": {
     "cell_type": "markdown",
     "checksum": "bdca4a8eb957567c3f00677e6a635cfa",
     "grade": true,
     "grade_id": "cell-3823725410153810",
     "locked": false,
     "points": 8,
     "schema_version": 3,
     "solution": true
    }
   },
   "source": [
    "For monomial, we have that \n",
    "\\begin{align*}\n",
    "0 &= p_0 \\\\\n",
    "2 &= p_0 + p_1 + p_2 \\\\\n",
    "2 &= p_0 + 2 p_1 + 4 p_2\n",
    "\\end{align*}\n",
    "Thus, \n",
    "\\begin{align*}\n",
    "p_0 &= 0 \\\\\n",
    "p_1 &= 3 \\\\ \n",
    "p_2 &= -1\n",
    "\\end{align*}\n",
    "We have monomial $P(x) = 3x - x^2$. \n",
    "\n",
    "For lagrange, \n",
    "\\begin{align*}\n",
    "\\ell_0(x) = \\frac{x-1}{0-1} \\cdot \\frac{x-2}{0-2} = \\frac{1}{2} x^2 - \\frac{3}{2} x + 1\\\\\n",
    "\\ell_1(x) = \\frac{x-0}{1-0} \\cdot \\frac{x-2}{1-2} = -x^2 + 2x\\\\\n",
    "\\ell_2(x) = \\frac{x-0}{2-0} \\cdot \\frac{x-1}{2-1} = \\frac{1}{2} x^2 - \\frac{1}{2} x\\\\\n",
    "\\end{align*}\n",
    "The Lagrange interpolating polynomial is \n",
    "\\begin{align*}\n",
    "L(x) &= 0 \\cdot (\\frac{1}{2} x^2 - \\frac{3}{2} x + 1) + 2 \\cdot (-x^2 + 2x) + 2 \\cdot (\\frac{1}{2} x^2 - \\frac{1}{2} x) \\\\ \n",
    "&= -x^2 + 3x\n",
    "\\end{align*}\n",
    "\n",
    "These two methods give the same polynomial. "
   ]
  },
  {
   "cell_type": "markdown",
   "metadata": {
    "deletable": false,
    "editable": false,
    "nbgrader": {
     "cell_type": "markdown",
     "checksum": "ace8c21d5f29d3cdcc7da5754f17aeb5",
     "grade": false,
     "grade_id": "cell-3903963456629954",
     "locked": true,
     "schema_version": 3,
     "solution": false
    }
   },
   "source": [
    "**(b)** [4 pts] Any $N+1$ distinct values of $x$ uniquely define the $N+1$ Lagrange polynomials $\\ell_0(x), \\ell_1(x)\\ldots\\ell_N(x)$\n",
    "\n",
    "show that these functions satisfy \n",
    "\n",
    "$$\\sum^N_{i=0} \\ell_i(x) = 1$$\n",
    "\n",
    "for all values of $x$ (not just the nodes).  We say that the Lagrange polynomials form a \"Partition of Unity\" because they always sum to 1.\n",
    "\n",
    "Hint:  consider interpolation of a constant function, $f(x) = c$ sampled at $N+1$ distinct points.\n"
   ]
  },
  {
   "cell_type": "markdown",
   "metadata": {
    "deletable": false,
    "nbgrader": {
     "cell_type": "markdown",
     "checksum": "a45926dd69a036c2edfd6cf82189426c",
     "grade": true,
     "grade_id": "cell-5902170639545808",
     "locked": false,
     "points": 4,
     "schema_version": 3,
     "solution": true
    }
   },
   "source": [
    "We have \n",
    "\\begin{align*}\n",
    "\\sum^N_{i=0} \\ell_i(x) = \\sum^N_{i=0} y_i \\ell_i(x), \\text{ where } y_i = 1 \\  \\forall i. \n",
    "\\end{align*}\n",
    "Use $L(x) = \\sum^N_{i=0} y_i \\ell_i(x) = f(x)$, where in this case $y_i = 1$ for all $i$ gives constant $f(x)$ with value $1$. Thus, \n",
    "\\begin{align*}\n",
    "\\sum^N_{i=0} y_i \\ell_i(x) = 1 = \\sum^N_{i=0} \\ell_i(x). \n",
    "\\end{align*}"
   ]
  },
  {
   "cell_type": "markdown",
   "metadata": {
    "deletable": false,
    "editable": false,
    "nbgrader": {
     "cell_type": "markdown",
     "checksum": "ac4c96d7d73e5fc2bed61803c1dfe1b6",
     "grade": false,
     "grade_id": "cell-6806070912155660",
     "locked": true,
     "schema_version": 3,
     "solution": false
    }
   },
   "source": [
    "## Question 2: Fun with Chebyshev Polynomials"
   ]
  },
  {
   "cell_type": "markdown",
   "metadata": {
    "deletable": false,
    "editable": false,
    "nbgrader": {
     "cell_type": "markdown",
     "checksum": "41e33ea4dd4d761a50dc408a19e71687",
     "grade": false,
     "grade_id": "cell-8344454aa3c6cd29",
     "locked": true,
     "schema_version": 3,
     "solution": false,
     "task": false
    }
   },
   "source": [
    "**(a)** [4 pts] The $n$th Chebyshev polynomial is characterized (up to a constant) by the identity\n",
    "\n",
    "$$T_n(\\cos \\theta) = \\cos (n \\theta)$$\n",
    "\n",
    "Use this identity to show that the Chebyshev polynomials are orthogonal on $x\\in[-1,1]$ with respect to the weight\n",
    "\n",
    "$$\\omega(x) = \\frac{1}{\\sqrt{1 - x^2}}$$\n",
    "\n",
    "To do this you must prove that\n",
    "\n",
    "$$\\int^1_{-1} \\omega(x) T_n(x) T_m(x) dx = \\left \\{ \\begin{aligned} \n",
    "a & ~ & m = n \\\\ \n",
    "0 & ~ & m \\neq n \n",
    "\\end{aligned} \\right .$$\n",
    "\n",
    "where $a$ is a finite constant (also find this coefficient).  Note that you may have multiple non-zero coefficients $a$.  Make sure to cover all these cases and list the conditions that you will find these values."
   ]
  },
  {
   "cell_type": "markdown",
   "metadata": {
    "deletable": false,
    "nbgrader": {
     "cell_type": "markdown",
     "checksum": "30fc92751374bb2710d4fe7648e32a75",
     "grade": true,
     "grade_id": "cell-8354694405440956",
     "locked": false,
     "points": 4,
     "schema_version": 3,
     "solution": true
    }
   },
   "source": [
    "For \n",
    "\\begin{align*}\n",
    "    \\int^1_{-1} \\omega(x) T_n(x) T_m(x) dx, \n",
    "\\end{align*}\n",
    "we use substitution $x = \\cos(\\theta)$. Then, \n",
    "\\begin{align*}\n",
    "    &\\int_0^{\\pi} \\frac{1}{\\sqrt{1 - \\cos^x(\\theta)}} T_n(\\cos(\\theta)) T_m(\\cos(\\theta)) (-\\sin(\\theta)) d\\theta \\\\ \n",
    "    =& \\int_0^{\\pi} \\frac{\\cos(n\\theta)\\cos(m\\theta)}{\\sin(\\theta)} (-\\sin(\\theta)) d\\theta \\\\ \n",
    "    =& -\\int_0^{\\pi} \\cos(n\\theta)\\cos(m\\theta) d\\theta \\\\ \n",
    "    =& \\int_0^{\\pi} \\frac{1}{2} (\\cos(\\theta(m-n)) + \\cos(\\theta(m+n))) d\\theta\n",
    "\\end{align*}\n",
    "\n",
    "When $m \\neq n$, it gives \n",
    "\\begin{align*}\n",
    "    \\left[ \\frac{1}{2} \\frac{\\sin(\\theta(m-n))}{m-n} + \\frac{1}{2} \\frac{\\sin(\\theta(m+n))}{m+n}\\right]_0^{\\pi} = 0\n",
    "\\end{align*}\n",
    "\n",
    "When $m = n \\neq 0$, it gives \n",
    "\\begin{align*}\n",
    "    &\\int_0^{\\pi} \\frac{1}{2} (\\cos(0) + \\cos(2n\\theta)) d\\theta \\\\ \n",
    "    =& \\int_0^{\\pi} \\frac{1}{2} (1 + \\cos(2n \\theta)) d\\theta \\\\ \n",
    "    =& \\frac{\\pi}{2} + [\\frac{\\sin(2n\\theta)}{2n}]_0^{\\pi} \\\\ \n",
    "    =& \\frac{\\pi}{2}\n",
    "\\end{align*}\n",
    "\n",
    "When $m = n = 0$, it gives \n",
    "\\begin{align*}\n",
    "    &\\int_0^{\\pi} \\frac{1}{2} (\\cos(0) + \\cos(0)) d\\theta \\\\ \n",
    "    =& \\int_0^{\\pi} 1 d\\theta \\\\ \n",
    "    =& \\pi\n",
    "\\end{align*}\n",
    "\n",
    "Thus, we have \n",
    "\\begin{align*}\n",
    "\\int^1_{-1} \\omega(x) T_n(x) T_m(x) dx = \n",
    "\\begin{cases} \n",
    "0 & ~ & m \\neq n \\\\ \n",
    "\\pi & ~ & m = n = 0 \\\\\n",
    "\\frac{\\pi}{2} & ~ & m = n \\neq 0\n",
    "\\end{cases} \n",
    "\\end{align*}"
   ]
  },
  {
   "cell_type": "markdown",
   "metadata": {
    "deletable": false,
    "editable": false,
    "nbgrader": {
     "cell_type": "markdown",
     "checksum": "c767e02a08f81d53ec9d7b08448c8155",
     "grade": false,
     "grade_id": "cell-87edfee5e38ec2f5",
     "locked": true,
     "schema_version": 3,
     "solution": false,
     "task": false
    }
   },
   "source": [
    "**(b)** [4 pts] Consider the  Gaussian \n",
    "$$ f(x) = e^{-(x-3)^2} $$ on the interval $x\\in[0,6]$\n",
    "\n",
    "make a plot comparing the polynomial interpolant through $N=11$ points using \n",
    "* Evenly spaced points\n",
    "* The appropriate Chebyshev nodes (i.e. roots of $T_{11}$: **note** you will need to transform the nodes defined on the interval $s\\in[-1,1]$ to $x\\in[0,6]$)\n",
    "\n",
    "Be sure to show both the interpolation points and a reasonably resolved interpolating polynomial $P_{10}(x)$, and label all lines and axes.\n",
    "\n",
    "You can use any of the routines from the notes or `numpy.polyfit` and `numpy.polyval`.  \n",
    "For fun, experiment with other functions (e.g. Runge's function $f(x) = 1/(1 + 25x^2)$)"
   ]
  },
  {
   "cell_type": "code",
   "execution_count": 13,
   "metadata": {
    "deletable": false,
    "nbgrader": {
     "cell_type": "code",
     "checksum": "2a1162be101f1f24b8346ec12954767b",
     "grade": true,
     "grade_id": "cell-02c4fc987bf9ddca",
     "locked": false,
     "points": 4,
     "schema_version": 3,
     "solution": true,
     "task": false
    }
   },
   "outputs": [
    {
     "data": {
      "image/png": "[encoded data removed]",
      "text/plain": [
       "<Figure size 640x480 with 1 Axes>"
      ]
     },
     "metadata": {},
     "output_type": "display_data"
    }
   ],
   "source": [
    "f = lambda x: numpy.exp(-(x-3)**2)\n",
    "x = numpy.linspace(0, 6, 1000)\n",
    "\n",
    "# Interpolation with N evenly spaced points\n",
    "N = 11\n",
    "x_even = numpy.linspace(0, 6, N)\n",
    "y_even = f(x_even)\n",
    "f_even = numpy.polyfit(x_even, y_even, N-1)\n",
    "fx_even = numpy.polyval(f_even, x)\n",
    "\n",
    "# Interpolation with Chebyshev points\n",
    "N = 11\n",
    "x_cheb = numpy.cos((2.0 * numpy.arange(1, N + 1) - 1.0) / (2.0 * N) * numpy.pi)\n",
    "x_cheb = (x_cheb + 1) * 3 # Map x_cheb from [-1, 1] to [0, 6]\n",
    "y_cheb = f(x_cheb)\n",
    "f_cheb = numpy.polyfit(x_cheb, y_cheb, N-1)\n",
    "fx_cheb = numpy.polyval(f_cheb, x)\n",
    "\n",
    "fig = plt.figure()\n",
    "axes = fig.add_subplot(1, 1, 1)\n",
    "axes.plot(x, f(x), 'r', label=\"f(x)\")\n",
    "axes.plot(x_even, y_even, 'bo')\n",
    "axes.plot(x, fx_even, 'b', label=\"Evenly Spaced Interpolation\")\n",
    "axes.plot(x_cheb, y_cheb, 'go')\n",
    "axes.plot(x, fx_cheb, 'g', label=\"Chebyshev Interpolation\")\n",
    "axes.set_xlabel(\"x\")\n",
    "axes.set_ylabel(\"f(x)\")\n",
    "axes.set_title(\"Gaussian function\")\n",
    "axes.legend(loc=1)\n",
    "plt.show()"
   ]
  },
  {
   "cell_type": "markdown",
   "metadata": {
    "deletable": false,
    "editable": false,
    "nbgrader": {
     "cell_type": "markdown",
     "checksum": "407a3047713db39c9682e9671ffcac56",
     "grade": false,
     "grade_id": "cell-963631730bd282f4",
     "locked": true,
     "schema_version": 3,
     "solution": false,
     "task": false
    }
   },
   "source": [
    "**(c)** [4 pts] define the relative error as\n",
    "        \n",
    "$$\n",
    " r = \\frac{||f(x) - P_N(x)||}{||f(x)||}\n",
    "$$\n",
    "\n",
    "where $||\\cdot||$ is an appropriate norm (length) of a vector, in python you can calculate this by\n",
    "\n",
    "```python\n",
    "x = numpy.linspace(x_min, x_max)\n",
    "P_N = numpy.polyval(p, x)\n",
    "\n",
    "err = f(x) - P_N(x)\n",
    "r = numpy.linalg.norm(err)/numpy.linalg.norm(f(x))\n",
    "```\n",
    "\n",
    "* Make a well labeled plot showing log(r) vs number of grid points $N$ for $N\\in[5,30]$ \n",
    "* Comment briefly on your results. Some questions to consider are:\n",
    "    *  does $P_N(x)\\rightarrow f(x)$ as $N\\rightarrow\\infty$?\n",
    "    *  Is one interpolant more accurate than the other?\n",
    "    * Anything else you notice"
   ]
  },
  {
   "cell_type": "code",
   "execution_count": 15,
   "metadata": {
    "deletable": false,
    "nbgrader": {
     "cell_type": "code",
     "checksum": "b501a285d15a7fef6e0dbb6a2fca307e",
     "grade": true,
     "grade_id": "cell-3a61e29e4740bd7d",
     "locked": false,
     "points": 4,
     "schema_version": 3,
     "solution": true,
     "task": false
    }
   },
   "outputs": [
    {
     "name": "stderr",
     "output_type": "stream",
     "text": [
      "C:\\Users\\31040\\AppData\\Local\\Temp\\ipykernel_19388\\235444454.py:8: RankWarning: Polyfit may be poorly conditioned\n",
      "  p = numpy.polyfit(x_even, y_even, N-1)\n",
      "C:\\Users\\31040\\AppData\\Local\\Temp\\ipykernel_19388\\235444454.py:8: RankWarning: Polyfit may be poorly conditioned\n",
      "  p = numpy.polyfit(x_even, y_even, N-1)\n",
      "C:\\Users\\31040\\AppData\\Local\\Temp\\ipykernel_19388\\235444454.py:8: RankWarning: Polyfit may be poorly conditioned\n",
      "  p = numpy.polyfit(x_even, y_even, N-1)\n",
      "C:\\Users\\31040\\AppData\\Local\\Temp\\ipykernel_19388\\235444454.py:17: RankWarning: Polyfit may be poorly conditioned\n",
      "  p = numpy.polyfit(x_cheb, y_cheb, N-1)\n",
      "C:\\Users\\31040\\AppData\\Local\\Temp\\ipykernel_19388\\235444454.py:8: RankWarning: Polyfit may be poorly conditioned\n",
      "  p = numpy.polyfit(x_even, y_even, N-1)\n",
      "C:\\Users\\31040\\AppData\\Local\\Temp\\ipykernel_19388\\235444454.py:17: RankWarning: Polyfit may be poorly conditioned\n",
      "  p = numpy.polyfit(x_cheb, y_cheb, N-1)\n",
      "C:\\Users\\31040\\AppData\\Local\\Temp\\ipykernel_19388\\235444454.py:8: RankWarning: Polyfit may be poorly conditioned\n",
      "  p = numpy.polyfit(x_even, y_even, N-1)\n",
      "C:\\Users\\31040\\AppData\\Local\\Temp\\ipykernel_19388\\235444454.py:17: RankWarning: Polyfit may be poorly conditioned\n",
      "  p = numpy.polyfit(x_cheb, y_cheb, N-1)\n",
      "C:\\Users\\31040\\AppData\\Local\\Temp\\ipykernel_19388\\235444454.py:8: RankWarning: Polyfit may be poorly conditioned\n",
      "  p = numpy.polyfit(x_even, y_even, N-1)\n",
      "C:\\Users\\31040\\AppData\\Local\\Temp\\ipykernel_19388\\235444454.py:17: RankWarning: Polyfit may be poorly conditioned\n",
      "  p = numpy.polyfit(x_cheb, y_cheb, N-1)\n",
      "C:\\Users\\31040\\AppData\\Local\\Temp\\ipykernel_19388\\235444454.py:8: RankWarning: Polyfit may be poorly conditioned\n",
      "  p = numpy.polyfit(x_even, y_even, N-1)\n",
      "C:\\Users\\31040\\AppData\\Local\\Temp\\ipykernel_19388\\235444454.py:17: RankWarning: Polyfit may be poorly conditioned\n",
      "  p = numpy.polyfit(x_cheb, y_cheb, N-1)\n",
      "C:\\Users\\31040\\AppData\\Local\\Temp\\ipykernel_19388\\235444454.py:8: RankWarning: Polyfit may be poorly conditioned\n",
      "  p = numpy.polyfit(x_even, y_even, N-1)\n",
      "C:\\Users\\31040\\AppData\\Local\\Temp\\ipykernel_19388\\235444454.py:17: RankWarning: Polyfit may be poorly conditioned\n",
      "  p = numpy.polyfit(x_cheb, y_cheb, N-1)\n",
      "C:\\Users\\31040\\AppData\\Local\\Temp\\ipykernel_19388\\235444454.py:8: RankWarning: Polyfit may be poorly conditioned\n",
      "  p = numpy.polyfit(x_even, y_even, N-1)\n",
      "C:\\Users\\31040\\AppData\\Local\\Temp\\ipykernel_19388\\235444454.py:17: RankWarning: Polyfit may be poorly conditioned\n",
      "  p = numpy.polyfit(x_cheb, y_cheb, N-1)\n",
      "C:\\Users\\31040\\AppData\\Local\\Temp\\ipykernel_19388\\235444454.py:8: RankWarning: Polyfit may be poorly conditioned\n",
      "  p = numpy.polyfit(x_even, y_even, N-1)\n",
      "C:\\Users\\31040\\AppData\\Local\\Temp\\ipykernel_19388\\235444454.py:17: RankWarning: Polyfit may be poorly conditioned\n",
      "  p = numpy.polyfit(x_cheb, y_cheb, N-1)\n",
      "C:\\Users\\31040\\AppData\\Local\\Temp\\ipykernel_19388\\235444454.py:8: RankWarning: Polyfit may be poorly conditioned\n",
      "  p = numpy.polyfit(x_even, y_even, N-1)\n",
      "C:\\Users\\31040\\AppData\\Local\\Temp\\ipykernel_19388\\235444454.py:17: RankWarning: Polyfit may be poorly conditioned\n",
      "  p = numpy.polyfit(x_cheb, y_cheb, N-1)\n",
      "C:\\Users\\31040\\AppData\\Local\\Temp\\ipykernel_19388\\235444454.py:8: RankWarning: Polyfit may be poorly conditioned\n",
      "  p = numpy.polyfit(x_even, y_even, N-1)\n",
      "C:\\Users\\31040\\AppData\\Local\\Temp\\ipykernel_19388\\235444454.py:17: RankWarning: Polyfit may be poorly conditioned\n",
      "  p = numpy.polyfit(x_cheb, y_cheb, N-1)\n"
     ]
    },
    {
     "data": {
      "image/png": "[encoded data removed]",
      "text/plain": [
       "<Figure size 640x480 with 1 Axes>"
      ]
     },
     "metadata": {},
     "output_type": "display_data"
    }
   ],
   "source": [
    "x = numpy.linspace(0, 6)\n",
    "\n",
    "r_even_list = []\n",
    "r_cheb_list = []\n",
    "for N in range(5, 31):\n",
    "    x_even = numpy.linspace(0, 6, N)\n",
    "    y_even = f(x_even)\n",
    "    p = numpy.polyfit(x_even, y_even, N-1)\n",
    "    P_N = numpy.polyval(p, x)\n",
    "    err = f(x) - P_N\n",
    "    r = numpy.linalg.norm(err) / numpy.linalg.norm(f(x))\n",
    "    r_even_list.append(r)\n",
    "    \n",
    "    x_cheb = numpy.cos((2.0 * numpy.arange(1, N + 1) - 1.0) / (2.0 * N) * numpy.pi)\n",
    "    x_cheb = (x_cheb + 1) * 3\n",
    "    y_cheb = f(x_cheb)\n",
    "    p = numpy.polyfit(x_cheb, y_cheb, N-1)\n",
    "    P_N = numpy.polyval(p, x)\n",
    "    err = f(x) - P_N\n",
    "    r = numpy.linalg.norm(err) / numpy.linalg.norm(f(x))\n",
    "    r_cheb_list.append(r)\n",
    "\n",
    "fig = plt.figure()\n",
    "axes = fig.add_subplot(1, 1, 1)\n",
    "axes.plot(range(5, 31), numpy.log(r_even_list), label=\"Evenly Spaced\")\n",
    "axes.plot(range(5, 31), numpy.log(r_cheb_list), label=\"Chebyshev\")\n",
    "# axes.semilogy(range(5, 31), r_list)\n",
    "axes.set_xlabel(\"N\")\n",
    "axes.set_ylabel(\"Relative Error\")\n",
    "axes.set_title(\"Relative Error in Polynomial Interpolation\")\n",
    "axes.legend(loc=1)\n",
    "plt.show()"
   ]
  },
  {
   "cell_type": "markdown",
   "metadata": {
    "deletable": false,
    "nbgrader": {
     "cell_type": "markdown",
     "checksum": "e3b7bad1b549b90f5d44416f05d4d9c0",
     "grade": true,
     "grade_id": "cell-9bd361f6e06eb56c",
     "locked": false,
     "points": 2,
     "schema_version": 3,
     "solution": true,
     "task": false
    }
   },
   "source": [
    "Overall, $P_N(x) \\to f(x)$ as $N \\to \\infty$ since the relative error tends to decrease when $N$ increases. Chebyshev interpolant is more accurate comparing to the evenly sampled polynomial interpolation as we can see it always has lower error. It is also worth noting that having one more sampling point may lead to less accurate result, but result will eventually become more accurate if we keep adding more sampling points. "
   ]
  },
  {
   "cell_type": "markdown",
   "metadata": {
    "deletable": false,
    "editable": false,
    "nbgrader": {
     "cell_type": "markdown",
     "checksum": "27b49713fe8cae4dff40225f79ad92df",
     "grade": false,
     "grade_id": "cell-3224734890563854",
     "locked": true,
     "schema_version": 3,
     "solution": false
    }
   },
   "source": [
    "## Question 3\n",
    "\n",
    "We can often reformulate finite difference approximations as matrix-vector products.   \n",
    "\n",
    "Here we will construct a matrix   $D$  such that multiplying a vector of $\\mathbf{y}$ values would lead to a second order approximation of the First derivative for the given data. \n",
    "\n",
    "In other words, defining the two vectors   $\\mathbf{x}=[x_0, x_1,\\ldots,x_N]^T$ and $\\mathbf{y}=[y_0, y_1,\\ldots,y_N]^T$  such that\n",
    "\n",
    "$$\\mathbf{y} = f(\\mathbf{x})$$\n",
    "\n",
    "for some scalar function $f$,  find a matrix $D$ such that \n",
    "\n",
    "$$\n",
    "f'(\\mathbf{x}) \\approx D\\mathbf{y}\n",
    "$$"
   ]
  },
  {
   "cell_type": "markdown",
   "metadata": {
    "deletable": false,
    "editable": false,
    "nbgrader": {
     "cell_type": "markdown",
     "checksum": "75ec0cda1d28b8a0bcdb536eaff4233f",
     "grade": false,
     "grade_id": "cell-5c735e9080300d72",
     "locked": true,
     "schema_version": 3,
     "solution": false
    }
   },
   "source": [
    "**(a)** [16] Using any method of your choice, derive the following finite-difference formulas for 3 equispaced points $x_i, x_{i+1}, x_{i+2}$ \n",
    "\n",
    "* 2nd-order accurate approximation to the *1st derivative* at  point \n",
    "    * $x_i$ (forward differences)\n",
    "    * $x_{i+1}$ (centered differences)\n",
    "    * $x_{i+2}$ (backward differences)\n",
    "* 2nd-order accurate approximation to the *2nd derivative* evaluated at each point (hint: think before you grind)\n",
    "\n",
    "Some hints:\n",
    "1. consider the interpolating polynomial $P_2(x)$ through those 3 points and calculate $P'_2(x)$ at each point.\n",
    "2. the method of undetermined coefficients on Taylor's series can be useful here as well\n",
    "\n"
   ]
  },
  {
   "cell_type": "markdown",
   "metadata": {
    "deletable": false,
    "nbgrader": {
     "cell_type": "markdown",
     "checksum": "b46a1b3dc8a64dd94422b7611d5aac79",
     "grade": true,
     "grade_id": "cell-88d2d6f7dba4237d",
     "locked": false,
     "points": 16,
     "schema_version": 3,
     "solution": true
    }
   },
   "source": [
    "For forward first derivative, we have \n",
    "\\begin{align*}\n",
    "    F'(x_i) =& \\frac{a_0 F(x_i) + a_1 F(x_{i+1}) + a_2 F(x_{i+2})}{\\Delta x} \\\\ \n",
    "    =& \\frac{1}{\\Delta x} [ a_0(F(x) + F'(x) \\cdot 0 + \\frac{F''(x)}{2} \\cdot (0)^2) + a_1(F(x) \\\\\n",
    "    &+ F'(x) \\cdot \\Delta x + \\frac{F''(x)}{2} \\cdot (\\Delta x)^2) + a_2(F(x) + F'(x) \\cdot 2\\Delta x + \\frac{F''(x)}{2} \\cdot (2\\Delta x)^2) ]\n",
    "\\end{align*}\n",
    "Thus, we need \n",
    "\\begin{align*}\n",
    "    \\begin{cases}\n",
    "        a_0 + a_1 + a_2 = 0 \\\\ \n",
    "        a_1 + 2 a_2 = 1 \\\\ \n",
    "        a_1 + 4 a_2 = 0\n",
    "    \\end{cases}\n",
    "\\end{align*}\n",
    "This means $a_0 = - \\frac{3}{2}$, $a_1 = 2$, $a_2 = - \\frac{1}{2}$. \n",
    "\n",
    "For second derivative, we just change the left hand side to $F''(x_i)$ and the denominator at right hand side to $(\\Delta x)^2$. We get $a_0 = \\frac{1}{2}$, $a_1 = -1$, $a_2 = \\frac{1}{2}$. \n",
    "\n",
    "For centered difference, \n",
    "\\begin{align*}\n",
    "    F'(x_{i+1}) =& \\frac{1}{\\Delta x} [ a_0(F(x) + F'(x) \\cdot (-\\Delta x) + \\frac{F''(x)}{2} \\cdot (-\\Delta x)^2) + a_1(F(x) \\\\\n",
    "    &+ F'(x) \\cdot 0 + \\frac{F''(x)}{2} \\cdot (0)^2) + a_2(F(x) + F'(x) \\cdot \\Delta x + \\frac{F''(x)}{2} \\cdot (\\Delta x)^2) ]\n",
    "\\end{align*}\n",
    "Thus, $a_0 = - \\frac{1}{2}$, $a_1 = 0$, $a_2 = \\frac{1}{2}$. For second order, $a_0 = \\frac{1}{2}$, $a_1 = -1$, $a_2 = \\frac{1}{2}$. \n",
    "\n",
    "For backward difference, \n",
    "\\begin{align*}\n",
    "    F'(x_{i+2}) =& \\frac{1}{\\Delta x} [ a_0(F(x) + F'(x) \\cdot (-2\\Delta x) + \\frac{F''(x)}{2} \\cdot (-2\\Delta x)^2) + a_1(F(x) \\\\\n",
    "    &+ F'(x) \\cdot (-\\Delta x) + \\frac{F''(x)}{2} \\cdot (-\\Delta x)^2) + a_2(F(x) + F'(x) \\cdot 0 + \\frac{F''(x)}{2} \\cdot (0)^2) ]\n",
    "\\end{align*}\n",
    "Thus, $a_0 = \\frac{1}{2}$, $a_1 = -2$, $a_2 = \\frac{3}{2}$. For second order, $a_0 = \\frac{1}{2}$, $a_1 = -1$, $a_2 = \\frac{1}{2}$. "
   ]
  },
  {
   "cell_type": "markdown",
   "metadata": {
    "deletable": false,
    "editable": false,
    "nbgrader": {
     "cell_type": "markdown",
     "checksum": "5b4d3625936b76ee346bf8290df0a272",
     "grade": false,
     "grade_id": "cell-7885120873385504",
     "locked": true,
     "schema_version": 3,
     "solution": false
    }
   },
   "source": [
    "**(b)** [4] Now consider an equispaced set of points  $y_i = f(x_i)$.  Can you describe the structure of a consistent 2nd order, first derivative matrix $D$,  such that \n",
    "\n",
    "$$\n",
    "    f'(\\mathbf{x}) \\approx D\\mathbf{y}\n",
    "$$\n",
    "\n",
    "returns the consistent 1st derivative at every point (including the end points)"
   ]
  },
  {
   "cell_type": "markdown",
   "metadata": {
    "deletable": false,
    "nbgrader": {
     "cell_type": "markdown",
     "checksum": "615db92a0cea0a438f8d1bcb1b304b11",
     "grade": true,
     "grade_id": "cell-2125755949784286",
     "locked": false,
     "points": 4,
     "schema_version": 3,
     "solution": true
    }
   },
   "source": [
    "We can use forward difference method for $f'(x_0)$ and backward difference method for $f'(x_N)$. And use centered difference method for all the remaining points. Then for matrix $D$, the first three elements in the first row are given as the coefficients for the forward method. Similarly, the last three elements in the last row are the coefficients for backward method. For the remaining rows, row $i$ will only have non-zero elements at column $i-1$, $i$, $i+1$, while each of them are given by the coefficient of centered difference. "
   ]
  },
  {
   "cell_type": "markdown",
   "metadata": {
    "deletable": false,
    "editable": false,
    "nbgrader": {
     "cell_type": "markdown",
     "checksum": "81a305f8a973d9be62256992de1c1149",
     "grade": false,
     "grade_id": "cell-8815784455777695",
     "locked": true,
     "schema_version": 3,
     "solution": false
    }
   },
   "source": [
    "**(c)** [4] Using the function `fdcoeffV.py` described in class (and included with this homework), write a python function that takes in a numpy array of coordinates $x$ (not necessarily evenly spaced)  and returns a matrix $D$ that calculates the consistent 2nd-order 1st derivatives at each point using 3 nearest neighbors (be careful at the edges)\n",
    "\n",
    "Given this matrix $D$, it is easy to test it for various functions and meshes"
   ]
  },
  {
   "cell_type": "code",
   "execution_count": 23,
   "metadata": {
    "deletable": false,
    "nbgrader": {
     "cell_type": "code",
     "checksum": "0ccb77beb9410271354dbf3a474cb335",
     "grade": false,
     "grade_id": "cell-5516025382221234",
     "locked": false,
     "schema_version": 3,
     "solution": true
    }
   },
   "outputs": [],
   "source": [
    "from  fdcoeffV import fdcoeffV\n",
    "\n",
    "def D1(x):\n",
    "    \"\"\"\n",
    "    Computes a finite difference matrix for approximating the first derivative \n",
    "    with second-order accuracy using a consistent central difference scheme.\n",
    "    \n",
    "    x: ndarray of coordinates\n",
    "    D: ndarray\n",
    "        Matrix (2-D ndarray ) to calculate consistent 2nd order first derivative\n",
    "    \"\"\"\n",
    "    \n",
    "    D = numpy.zeros((len(x), len(x)))\n",
    "    \n",
    "    for i in range(len(x)):\n",
    "        if i == 0: \n",
    "            D[i, 0:3] = fdcoeffV(1, x[i], x[0:3])\n",
    "        elif i == len(x) - 1:\n",
    "            D[i, -3:] = fdcoeffV(1, x[i], x[-3:])\n",
    "        else:\n",
    "            D[i, i-1:i+2] = fdcoeffV(1, x[i], x[i-1:i+2])\n",
    "    return D"
   ]
  },
  {
   "cell_type": "code",
   "execution_count": 24,
   "metadata": {
    "deletable": false,
    "editable": false,
    "nbgrader": {
     "cell_type": "code",
     "checksum": "728edeeac8ee580c8b5451714396ff74",
     "grade": true,
     "grade_id": "cell-7511846809958937",
     "locked": true,
     "points": 4,
     "schema_version": 3,
     "solution": false
    }
   },
   "outputs": [
    {
     "name": "stdout",
     "output_type": "stream",
     "text": [
      "Uniform mesh: Success!\n",
      "Random mesh: Success!\n"
     ]
    }
   ],
   "source": [
    "# Let's test this using f(x) = sin(pi*x) on a uniform mesh\n",
    "N = 200\n",
    "x = numpy.linspace(-1, 1, N)\n",
    "dx = x[1]-x[0]\n",
    "\n",
    "pi = numpy.pi\n",
    "y = lambda x: numpy.sin(pi*x)\n",
    "y_prime = lambda x: pi*numpy.cos(pi*x)\n",
    "\n",
    "print(\"Uniform mesh: \",end='')\n",
    "numpy.testing.assert_allclose(numpy.dot(D1(x), y(x)), y_prime(x), rtol=1e-2)\n",
    "print(\"Success!\")\n",
    "\n",
    "# test on a randomized mesh\n",
    "x_rand = x + dx/3.*numpy.random.rand(N)\n",
    "print(\"Random mesh: \",end ='')\n",
    "numpy.testing.assert_allclose(numpy.dot(D1(x_rand), y(x_rand)), y_prime(x_rand), rtol=1e-2)\n",
    "print(\"Success!\")\n",
    "\n"
   ]
  },
  {
   "cell_type": "markdown",
   "metadata": {
    "deletable": false,
    "editable": false,
    "nbgrader": {
     "cell_type": "markdown",
     "checksum": "ae07a197d06352ba440c9a21e07f055a",
     "grade": false,
     "grade_id": "cell-894a7ec04fd0689b",
     "locked": true,
     "schema_version": 3,
     "solution": false,
     "task": false
    }
   },
   "source": [
    "**(d)** [6] make a beautiful convergence plot showing how the relative error in your finite element approximation\n",
    "\n",
    "$$ r = \\frac{||f'(\\mathbf{x}) - D\\mathbf{y}||}{||f'(\\mathbf{x})||}$$\n",
    "\n",
    " scales with mesh spacing $\\Delta x$ for $f(x) = \\sin(\\pi x)$ on the interval $x\\in[-1,1]$.  What is the expected rate of convergence?  Compare with the best fit straight line (in log space) to your error estimates."
   ]
  },
  {
   "cell_type": "code",
   "execution_count": 26,
   "metadata": {
    "deletable": false,
    "nbgrader": {
     "cell_type": "code",
     "checksum": "4500eb4ea647bfe57d5b35b583a5e97c",
     "grade": true,
     "grade_id": "cell-2dac3533cd822755",
     "locked": false,
     "points": 4,
     "schema_version": 3,
     "solution": true,
     "task": false
    }
   },
   "outputs": [
    {
     "name": "stderr",
     "output_type": "stream",
     "text": [
      "C:\\Users\\31040\\AppData\\Local\\Temp\\ipykernel_19388\\1241118185.py:23: RuntimeWarning: invalid value encountered in log\n",
      "  axes.plot(x, numpy.log(P), label=\"Best Fit Line\")\n"
     ]
    },
    {
     "data": {
      "image/png": "[encoded data removed]",
      "text/plain": [
       "<Figure size 640x480 with 1 Axes>"
      ]
     },
     "metadata": {},
     "output_type": "display_data"
    },
    {
     "name": "stdout",
     "output_type": "stream",
     "text": [
      "Expected rate of convergence:  0.5970912287296684\n"
     ]
    }
   ],
   "source": [
    "f = lambda x: numpy.sin(numpy.pi * x)\n",
    "f_prime = lambda x: numpy.pi * numpy.cos(numpy.pi * x)\n",
    "\n",
    "N = 100\n",
    "\n",
    "r_list = []\n",
    "delta_x_list = []\n",
    "for i in range(2, N): \n",
    "    x = numpy.linspace(-1, 1, i)\n",
    "    delta_x = x[1] - x[0]\n",
    "    D = D1(x)\n",
    "    err = f_prime(x) - numpy.dot(D, f(x))\n",
    "    r_list.append(numpy.linalg.norm(err) / numpy.linalg.norm(f_prime(x)))\n",
    "    delta_x_list.append(delta_x)\n",
    "    \n",
    "p = numpy.polyfit(delta_x_list, r_list, 1)\n",
    "x = numpy.linspace(delta_x_list[0], delta_x_list[-1], 100)\n",
    "P = numpy.polyval(p, x)\n",
    "\n",
    "fig = plt.figure()\n",
    "axes = fig.add_subplot(1, 1, 1)\n",
    "axes.plot(delta_x_list, numpy.log(r_list), label=\"Log Relative Error\")\n",
    "axes.plot(x, numpy.log(P), label=\"Best Fit Line\")\n",
    "axes.set_xlabel(\"$\\Delta x$\")\n",
    "axes.set_ylabel(\"Log Relative Error\")\n",
    "axes.set_title(\"Relative Error in First Derivative\")\n",
    "axes.legend(loc=1)\n",
    "plt.show()\n",
    "\n",
    "# Compute the expected rate of convergence\n",
    "print(\"Expected rate of convergence: \", p[0])"
   ]
  },
  {
   "cell_type": "markdown",
   "metadata": {
    "deletable": false,
    "nbgrader": {
     "cell_type": "markdown",
     "checksum": "26e78697e343f6e8a397e33cb9f745f8",
     "grade": true,
     "grade_id": "cell-cdbaae508b97aeab",
     "locked": false,
     "points": 2,
     "schema_version": 3,
     "solution": true,
     "task": false
    }
   },
   "source": [
    "The expected rate of convergence is about $0.597$. We can see from the graph that when $1 \\leq \\Delta x \\leq 2$, the relative error is really large and do not change significantly with $\\Delta x$. When $\\Delta x < 1$, the relative error starts to decrease significantly with decreasing $\\Delta x$. "
   ]
  },
  {
   "cell_type": "markdown",
   "metadata": {
    "deletable": false,
    "editable": false,
    "nbgrader": {
     "cell_type": "markdown",
     "checksum": "71695abb08cc03b3423e733ae2b932fa",
     "grade": false,
     "grade_id": "cell-1283048126092389",
     "locked": true,
     "schema_version": 3,
     "solution": false
    }
   },
   "source": [
    "**(e)** [4] Suppose we knew the *first derivative* of a function $f(x)$ at a discrete set of points and wanted to solve for the discrete function itself.  i.e.  ideally given $D$ and vector $\\mathbf{y} = f'(\\mathbf{x})$,  we would like to be able to solve the linear algebra problem\n",
    "\n",
    "$$\n",
    "    D\\mathbf{f} = \\mathbf{y}\n",
    "$$\n",
    "\n",
    "for $\\mathbf{f}\\approx f(\\bf{x})$.  Discuss any issues we might have with this approach."
   ]
  },
  {
   "cell_type": "markdown",
   "metadata": {
    "deletable": false,
    "nbgrader": {
     "cell_type": "markdown",
     "checksum": "4796062ad226b5075c548c9202ba07fe",
     "grade": true,
     "grade_id": "cell-3816704844311840",
     "locked": false,
     "points": 4,
     "schema_version": 3,
     "solution": true
    }
   },
   "source": [
    "We will need to invert matrix $D$ to revover $f$ using $f = D^{-1} y$, which may leads to numerical instability due to matrix inversion. An example of recovering $f(x) = \\sin(\\pi x)$ is shown below. We can see in the plot that the recoverd $f$ is really unstable. "
   ]
  },
  {
   "cell_type": "code",
   "execution_count": 30,
   "metadata": {},
   "outputs": [
    {
     "data": {
      "image/png": "[encoded data removed]",
      "text/plain": [
       "<Figure size 640x480 with 1 Axes>"
      ]
     },
     "metadata": {},
     "output_type": "display_data"
    }
   ],
   "source": [
    "f = lambda x: numpy.sin(numpy.pi * x)\n",
    "f_prime = lambda x: numpy.pi * numpy.cos(numpy.pi * x)\n",
    "\n",
    "x = numpy.linspace(-1, 1, 100)\n",
    "f_recovered = numpy.dot(numpy.linalg.inv(D1(x)), f_prime(x))\n",
    "\n",
    "fig = plt.figure()\n",
    "axes = fig.add_subplot(1, 1, 1)\n",
    "axes.plot(x, f(x), 'r', label=\"f(x)\")\n",
    "axes.plot(x, f_recovered, 'bo', label=\"Recovered f(x)\")\n",
    "axes.set_xlabel(\"x\")\n",
    "axes.set_ylabel(\"f(x)\")\n",
    "axes.set_title(\"Recovery of f(x)\")\n",
    "axes.legend(loc=1)\n",
    "plt.show()"
   ]
  }
 ],
 "metadata": {
  "kernelspec": {
   "display_name": "Python 3 (ipykernel)",
   "language": "python",
   "name": "python3"
  },
  "language_info": {
   "codemirror_mode": {
    "name": "ipython",
    "version": 3
   },
   "file_extension": ".py",
   "mimetype": "text/x-python",
   "name": "python",
   "nbconvert_exporter": "python",
   "pygments_lexer": "ipython3",
   "version": "3.11.7"
  },
  "latex_envs": {
   "bibliofile": "biblio.bib",
   "cite_by": "apalike",
   "current_citInitial": 1,
   "eqLabelWithNumbers": true,
   "eqNumInitial": 0
  }
 },
 "nbformat": 4,
 "nbformat_minor": 4
}
