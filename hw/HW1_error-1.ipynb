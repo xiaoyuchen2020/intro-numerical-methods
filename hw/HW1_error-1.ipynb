{
 "cells": [
  {
   "cell_type": "code",
   "execution_count": 1,
   "metadata": {
    "deletable": false,
    "editable": false,
    "nbgrader": {
     "cell_type": "code",
     "checksum": "3c0e6f80c9a8d85d80baddc8df3890a0",
     "grade": false,
     "grade_id": "cell-7531378247537850",
     "locked": true,
     "schema_version": 3,
     "solution": false
    }
   },
   "outputs": [],
   "source": [
    "from __future__ import print_function\n",
    "%matplotlib inline\n",
    "import numpy\n",
    "import matplotlib.pyplot as plt\n",
    "\n",
    "# import the factorial function from scipy\n",
    "from scipy.special import factorial"
   ]
  },
  {
   "cell_type": "markdown",
   "metadata": {
    "deletable": false,
    "editable": false,
    "nbgrader": {
     "cell_type": "markdown",
     "checksum": "57fe3d1a770d32fc71d10c52d47d5765",
     "grade": false,
     "grade_id": "cell-1055125360070174",
     "locked": true,
     "schema_version": 3,
     "solution": false
    }
   },
   "source": [
    "# HW 1:  Forms of Error\n",
    "\n"
   ]
  },
  {
   "cell_type": "markdown",
   "metadata": {
    "deletable": false,
    "editable": false,
    "nbgrader": {
     "cell_type": "markdown",
     "checksum": "763bdcd61a173c57e8d82dcd9519ee2c",
     "grade": false,
     "grade_id": "cell-9681214437904696",
     "locked": true,
     "schema_version": 3,
     "solution": false
    }
   },
   "source": [
    "## Question 1:  definition of errors\n",
    "\n",
    "**(a)**  [4 pts] Write a short python program to calculate and return, the absolute error, relative error and degree of decimal precision (as defined in class) given an object `f` and its approximation `F`.  Note, both `f` and `F` can be numpy arrays."
   ]
  },
  {
   "cell_type": "code",
   "execution_count": 2,
   "metadata": {
    "deletable": false,
    "nbgrader": {
     "cell_type": "code",
     "checksum": "7c9bcb87e713e8ee4fb90ec822ed4d9f",
     "grade": false,
     "grade_id": "cell-a6ede65cf8ed685f",
     "locked": false,
     "schema_version": 3,
     "solution": true,
     "task": false
    }
   },
   "outputs": [],
   "source": [
    "def errors(f,F):\n",
    "    \"\"\" calculate various measures of error of an object f and its approximation F\n",
    "    \n",
    "    Parameters\n",
    "    ----------\n",
    "    f:  numpy.array (or float)\n",
    "        array of true values\n",
    "        \n",
    "    F: numpy.array\n",
    "        array of approximate values\n",
    "        \n",
    "    Returns\n",
    "    -------\n",
    "    \n",
    "    e: array of absolute errors\n",
    "    r: array of relative errors\n",
    "    p: integer array of precisions\n",
    "    \"\"\"\n",
    "    \n",
    "    e = numpy.abs(f-F)\n",
    "    r = e/numpy.abs(f)\n",
    "    p = numpy.floor(-numpy.log10(r/5.)).astype(int)\n",
    "    \n",
    "    return e, r, p\n"
   ]
  },
  {
   "cell_type": "code",
   "execution_count": 3,
   "metadata": {
    "deletable": false,
    "editable": false,
    "nbgrader": {
     "cell_type": "code",
     "checksum": "f4295c880e6563c035f2e1176010b834",
     "grade": true,
     "grade_id": "cell-da2659b413c73ca7",
     "locked": true,
     "points": 4,
     "schema_version": 3,
     "solution": false,
     "task": false
    }
   },
   "outputs": [
    {
     "name": "stdout",
     "output_type": "stream",
     "text": [
      "passed scalar test\n",
      "passed array test\n"
     ]
    }
   ],
   "source": [
    "# Testing Cell (do not copy)\n",
    "\n",
    "# Test Simple Scalars\n",
    "e,r,p = errors(numpy.exp(1),2.72)\n",
    "answer = [0.0017181715409551046, 0.0006320799863232398, 3]\n",
    "numpy.testing.assert_allclose([e,r,p], answer)\n",
    "print('passed scalar test')\n",
    "\n",
    "# Test with array input\n",
    "x = [1., 2., 3.]\n",
    "f = numpy.exp(x)\n",
    "F = [ 2.718,  7.389,  20.085]\n",
    "e,r,p = errors(f,F)\n",
    "numpy.testing.assert_allclose(e,[2.81828459e-04, 5.60989307e-05, 5.36923188e-04])\n",
    "numpy.testing.assert_allclose(r,[1.03678896e-04, 7.59216467e-06, 2.67318315e-05])\n",
    "numpy.testing.assert_allclose(p,[4, 5, 5])\n",
    "print('passed array test')"
   ]
  },
  {
   "cell_type": "markdown",
   "metadata": {
    "deletable": false,
    "editable": false,
    "nbgrader": {
     "cell_type": "markdown",
     "checksum": "39ee29a6b36ec47d40b72b71b941b0f2",
     "grade": false,
     "grade_id": "cell-bef4e3baf992ed93",
     "locked": true,
     "schema_version": 3,
     "solution": false,
     "task": false
    }
   },
   "source": [
    "**(b)** [2 pts]  Use your routine to compare the absolute error, relative error and degree of precision for these two rational approximations of $\\pi$\n",
    "\n",
    "* $f = \\pi$ and $F = 22 / 7$\n",
    "* $f = \\pi$ and $F = 355 / 113$\n",
    "\n",
    "Which is more accurate?"
   ]
  },
  {
   "cell_type": "code",
   "execution_count": 4,
   "metadata": {},
   "outputs": [
    {
     "name": "stdout",
     "output_type": "stream",
     "text": [
      "(0.0012644892673496777, 0.0004024994347707008, 4)\n",
      "(2.667641894049666e-07, 8.49136787674061e-08, 7)\n"
     ]
    }
   ],
   "source": [
    "print(errors(numpy.pi, 22/7))\n",
    "print(errors(numpy.pi, 355/113))"
   ]
  },
  {
   "cell_type": "markdown",
   "metadata": {
    "deletable": false,
    "nbgrader": {
     "cell_type": "markdown",
     "checksum": "21b09b84adbced5a47c2142e0d7a29cd",
     "grade": true,
     "grade_id": "cell-4300360216304258",
     "locked": false,
     "points": 2,
     "schema_version": 3,
     "solution": true
    }
   },
   "source": [
    "$\\frac{355}{113}$ is more accurate as it has $7$ digits of decimal precision. "
   ]
  },
  {
   "cell_type": "markdown",
   "metadata": {
    "deletable": false,
    "editable": false,
    "nbgrader": {
     "cell_type": "markdown",
     "checksum": "b5a1a21715793f4a9cd1d22da3c6fbd5",
     "grade": false,
     "grade_id": "cell-300ca517618db367",
     "locked": true,
     "schema_version": 3,
     "solution": false,
     "task": false
    }
   },
   "source": [
    "**(c)** [6 pts] Write a python routine to find the most accurate $d$ digit rational approximation to $\\pi$. i.e. find\n",
    "two $d$ digit positive integers $m,n$ such that \n",
    "\n",
    "$$ F = \\frac{m}{n} \\sim \\pi$$\n",
    "\n",
    "(hint:  $355/113$ is the best 3-digit rational approximation)"
   ]
  },
  {
   "cell_type": "code",
   "execution_count": 5,
   "metadata": {
    "deletable": false,
    "nbgrader": {
     "cell_type": "code",
     "checksum": "2fad6f779f0e38180756be9962ecfdda",
     "grade": false,
     "grade_id": "cell-4b8290252c936eec",
     "locked": false,
     "schema_version": 3,
     "solution": true,
     "task": false
    }
   },
   "outputs": [],
   "source": [
    "def rational_pi(d):\n",
    "    ''' Find the best rational approximation to pi ~ m/n where m and n are both d-digit positive integers\n",
    "    \n",
    "    Parameters\n",
    "    ----------\n",
    "    \n",
    "    d: int\n",
    "        number of digits in both m and n\n",
    "    \n",
    "    Returns\n",
    "    -------\n",
    "    m,n: int\n",
    "        numerator and denominator of best d digit rational approximation to pi ~ m/n\n",
    "        \n",
    "    '''\n",
    "    best = [0, 0, numpy.inf] # m, n, error\n",
    "    for n in range(10**(d-1), 10**d):\n",
    "        for m in range(int(numpy.floor(n * numpy.pi)), int(numpy.ceil(n * numpy.pi)+1)):\n",
    "            if m < 10**d:\n",
    "                e, r, p = errors(numpy.pi, m/n)\n",
    "                if e < best[2]:\n",
    "                    best = [m, n, e]\n",
    "    \n",
    "    return best[0], best[1]"
   ]
  },
  {
   "cell_type": "code",
   "execution_count": 6,
   "metadata": {
    "deletable": false,
    "editable": false,
    "nbgrader": {
     "cell_type": "code",
     "checksum": "29119ccc9d740a4e6317ed3dc57f6657",
     "grade": true,
     "grade_id": "cell-6568ef410973a577",
     "locked": true,
     "points": 6,
     "schema_version": 3,
     "solution": false,
     "task": false
    }
   },
   "outputs": [
    {
     "name": "stdout",
     "output_type": "stream",
     "text": [
      "d=1: 3/1 = 3.0:\t e = 0.14159265358979312,\t, r = 0.04507034144862795,\t p= 2\n",
      "d=2: 44/14 = 3.142857142857143:\t e = 0.0012644892673496777,\t, r = 0.0004024994347707008,\t p= 4\n",
      "d=3: 355/113 = 3.1415929203539825:\t e = 2.667641894049666e-07,\t, r = 8.49136787674061e-08,\t p= 7\n",
      "d=4: 3195/1017 = 3.1415929203539825:\t e = 2.667641894049666e-07,\t, r = 8.49136787674061e-08,\t p= 7\n",
      "d=5: 99733/31746 = 3.1415926415926414:\t e = 1.1997151716514054e-08,\t, r = 3.818811997413258e-09,\t p= 9\n",
      "\n",
      "success!\n"
     ]
    }
   ],
   "source": [
    "# Testing Cell (do not copy)\n",
    "\n",
    "# print out best rational approximations and their errors  for d =1-5\n",
    "for d in range(1,6):\n",
    "    m,n = rational_pi(d)\n",
    "    e,r,p = errors(numpy.pi,m/n)\n",
    "    print('d={}: {}/{} = {}:\\t e = {},\\t, r = {},\\t p= {}'.format(d,m,n,m/n,e,r,p))\n",
    "    \n",
    "# Run assertion Tests\n",
    "numpy.testing.assert_allclose(rational_pi(2),(44, 14))\n",
    "numpy.testing.assert_allclose(rational_pi(3),(355, 113))\n",
    "print('\\nsuccess!')\n"
   ]
  },
  {
   "cell_type": "markdown",
   "metadata": {
    "deletable": false,
    "editable": false,
    "nbgrader": {
     "cell_type": "markdown",
     "checksum": "cabe33a4165802a8de9d6c0d6b322917",
     "grade": false,
     "grade_id": "cell-23707a8e710ca676",
     "locked": true,
     "schema_version": 3,
     "solution": false,
     "task": false
    }
   },
   "source": [
    "**(d)** [6 pts] $F = n \\log(n) - n$ is Stirling's approximation to  $f = \\log(n!)$ for large values of $n$. \n",
    "Do the following\n",
    "\n",
    "* Make a plot showing the relative error and degree of decimal precision for $f$ and $F$ as a function of integer $n$\n",
    "\n",
    "* Estimate the smallest value of $n$ where Stirling's approximation is good to 4 decimal places of precision.  \n",
    "\n",
    "**Note**: If you use the `factorial` function imported from `scipy.special`, you will not be able to answer this question.  **Why?**  \n",
    "\n",
    "**Hint**: However there is another way to evaluate $\\log(n!)$ for integer $n$ that will work."
   ]
  },
  {
   "cell_type": "code",
   "execution_count": 7,
   "metadata": {
    "deletable": false,
    "nbgrader": {
     "cell_type": "code",
     "checksum": "6195fab472e4537966b7eba4a529a13b",
     "grade": true,
     "grade_id": "cell-a5639245c28a1642",
     "locked": false,
     "points": 4,
     "schema_version": 3,
     "solution": true,
     "task": false
    }
   },
   "outputs": [
    {
     "data": {
      "image/png": "[encoded data removed]",
      "text/plain": [
       "<Figure size 640x480 with 2 Axes>"
      ]
     },
     "metadata": {},
     "output_type": "display_data"
    }
   ],
   "source": [
    "n = numpy.linspace(100, 3000, 1000, dtype=int).astype(int)\n",
    "f = [numpy.sum([numpy.log(i) for i in range(1, j+1)]) for j in n]\n",
    "F = n*numpy.log(n) - n\n",
    "e, r, p = errors(f, F)\n",
    "\n",
    "fig, ax1 = plt.subplots()\n",
    "\n",
    "color = 'tab:red'\n",
    "ax1.set_xlabel('n')\n",
    "ax1.set_ylabel('Relative Error', color=color)\n",
    "ax1.plot(n, r, color=color)\n",
    "ax1.tick_params(axis='y', labelcolor=color)\n",
    "\n",
    "ax2 = ax1.twinx() \n",
    "\n",
    "color = 'tab:blue'\n",
    "ax2.set_ylabel('Decimal Precision', color=color) \n",
    "ax2.plot(n, p, color=color)\n",
    "ax2.tick_params(axis='y', labelcolor=color)\n",
    "\n",
    "fig.tight_layout() \n",
    "plt.show()"
   ]
  },
  {
   "cell_type": "code",
   "execution_count": 34,
   "metadata": {},
   "outputs": [
    {
     "name": "stdout",
     "output_type": "stream",
     "text": [
      "n need to be at least 1452 for 4 decimal precision\n",
      "When n =  1452 , it has  4 decimal precision\n",
      "When n =  1451 , it has  3 decimal precision\n"
     ]
    }
   ],
   "source": [
    "n_4 = n[numpy.where(p == 4)[0][0]]\n",
    "print('n need to be at least', n_4 , 'for 4 decimal precision')\n",
    "\n",
    "print('When n = ', n_4 , ', it has ', errors(numpy.sum([numpy.log(i) for i in range(1, n_4+1)]), n_4*numpy.log(n_4) - n_4)[2], 'decimal precision')\n",
    "\n",
    "n_4 -= 1\n",
    "print('When n = ', n_4 , ', it has ', errors(numpy.sum([numpy.log(i) for i in range(1, n_4+1)]), n_4*numpy.log(n_4) - n_4)[2], 'decimal precision')"
   ]
  },
  {
   "cell_type": "markdown",
   "metadata": {
    "deletable": false,
    "nbgrader": {
     "cell_type": "markdown",
     "checksum": "c6321f16c18ce03a19fd25289b7d8ab4",
     "grade": true,
     "grade_id": "cell-dcc45d9028355b73",
     "locked": false,
     "points": 2,
     "schema_version": 3,
     "solution": true,
     "task": false
    }
   },
   "source": [
    "We need $n$ to be at least $1452$ to reach $4$ decimal places of precision. "
   ]
  },
  {
   "cell_type": "markdown",
   "metadata": {
    "deletable": false,
    "editable": false,
    "nbgrader": {
     "cell_type": "markdown",
     "checksum": "27bfc8b15912bb6e1cdfa2dfd103ced4",
     "grade": false,
     "grade_id": "cell-6968179660613369",
     "locked": true,
     "schema_version": 3,
     "solution": false
    }
   },
   "source": [
    "## Question 2\n",
    "\n",
    "[4 pts] Given the Taylor polynomial expansions of two functions around $x=0$\n",
    "\n",
    "$$\\frac{1}{1-\\Delta x} = 1 + \\Delta x + \\Delta x^2 + \\Delta x^3 + O(\\Delta x^4)$$\n",
    "\n",
    "and\n",
    "\n",
    "$$\\cosh \\Delta x = 1 + \\frac{\\Delta x^2}{2!} + \\frac{\\Delta x^4}{4!} + O(\\Delta x^6)$$\n",
    "\n",
    "calculate their sum and product as well as the order of approximation for the truncation error (i.e. determine the exponent that belongs in the $O$).\n"
   ]
  },
  {
   "cell_type": "markdown",
   "metadata": {
    "deletable": false,
    "nbgrader": {
     "cell_type": "markdown",
     "checksum": "77d458abae3cfa5157eca11bd346e444",
     "grade": true,
     "grade_id": "cell-8500724062567566",
     "locked": false,
     "points": 4,
     "schema_version": 3,
     "solution": true
    }
   },
   "source": [
    "\\begin{align*}\n",
    "\\frac{1}{1-\\Delta x} + \\cosh \\Delta x &= 1 + \\Delta x + \\Delta x^2 + \\Delta x^3 + O(\\Delta x^4) + 1 + \\frac{\\Delta x^2}{2!} + O(\\Delta x^4) \\\\ \n",
    "&= 2 + \\Delta x + \\frac{3 \\Delta x^2}{2} + \\Delta x^3 + O(\\Delta x^4)\n",
    "\\end{align*}\n",
    "\n",
    "\\begin{align*}\n",
    "\\frac{1}{1-\\Delta x} \\times \\cosh \\Delta x &= 1 + \\Delta x + \\Delta x^2 + \\Delta x^3 + O(\\Delta x^4) + \\frac{\\Delta x^2}{2!} + \\frac{\\Delta x^3}{2!} + \\frac{\\Delta x^4}{2!} + \\frac{\\Delta x^5}{2!} + O(\\Delta x^6) + \\frac{\\Delta x^4}{4!} + \\frac{\\Delta x^5}{4!} + \\frac{\\Delta x^6}{4!} + \\frac{\\Delta x^7}{4!} + O(\\Delta x^8) + O(\\Delta x^{10})\\\\ \n",
    "&= 1 + \\Delta x + \\frac{3}{2} \\Delta x^2 + \\frac{3}{2} \\Delta x^3 + O(\\Delta x^4)\n",
    "\\end{align*}"
   ]
  },
  {
   "cell_type": "markdown",
   "metadata": {
    "deletable": false,
    "editable": false,
    "nbgrader": {
     "cell_type": "markdown",
     "checksum": "237fcd7151c710b1c2fe86744794671b",
     "grade": false,
     "grade_id": "cell-5632471080286207",
     "locked": true,
     "schema_version": 3,
     "solution": false
    }
   },
   "source": [
    "## Question 3:  The great Exp challenge...\n",
    "\n",
    "Here you will attempt to write a function to calculate $e^x$ using its Taylor polynomial approximation expanded around $x_0=0$\n",
    "\n",
    "$$e^x \\approx T_n(x) = 1 + x + \\frac{x^2}{2!} + \\frac{x^3}{3!} + \\cdots + \\frac{x^n}{n!}$$\n",
    "\n",
    "such that the relative error of $f=e^x$ and $F=T_n(x)$ is of order Machine epsilon ($\\epsilon_{machine}$) for  $x\\in[-50,50]$.  This problem is actually a bit of a stinker and takes a bit of thought (particularly for $x<0$).  But I'll work you through it."
   ]
  },
  {
   "cell_type": "markdown",
   "metadata": {
    "deletable": false,
    "editable": false,
    "nbgrader": {
     "cell_type": "markdown",
     "checksum": "d16eac32cec2913a95095d153a7994b7",
     "grade": false,
     "grade_id": "cell-8186992197557199",
     "locked": true,
     "schema_version": 3,
     "solution": false
    }
   },
   "source": [
    "**(a)** [4 pts] Assume $x> 0$ and show that the upper bound on the *relative error*  at term $n$ \n",
    "\n",
    "$$r_n = \\frac{|e^x - T_n(x)|}{|e^x|}$$\n",
    "\n",
    "is given by\n",
    "\n",
    "$$r_n \\leq \\left | \\frac{x^{n+1}}{(n + 1)!} \\right |$$"
   ]
  },
  {
   "cell_type": "markdown",
   "metadata": {
    "deletable": false,
    "nbgrader": {
     "cell_type": "markdown",
     "checksum": "c066945aa96e6e08fcb676cf3b3e08f3",
     "grade": true,
     "grade_id": "cell-2747685663052674",
     "locked": false,
     "points": 4,
     "schema_version": 3,
     "solution": true
    }
   },
   "source": [
    "Using the remainder from the Taylor's expansion, \n",
    "\\begin{align*}\n",
    "|e^x - T_n(x)| = \\left|\\frac{e^c x^{n+1}}{(n+1)!}\\right|, \n",
    "\\end{align*}\n",
    "where $c$ is between $x_0$ and $x$. Thus, in this case, \n",
    "\\begin{align*}\n",
    "r_n &= \\frac{|\\frac{e^c x^{n+1}}{(n+1)!}|}{|e^x|} \\\\ \n",
    "&= \\frac{|e^c|}{|e^x|} \\cdot \\left|\\frac{x^{n+1}}{(n+1)!}\\right|. \n",
    "\\end{align*}\n",
    "Due to the constraint on $c$, \n",
    "\\begin{align*}\n",
    "\\frac{|e^c|}{|e^x|} \\leq 1. \n",
    "\\end{align*}\n",
    "Thus, \n",
    "\\begin{align*}\n",
    "r_n \\leq \\left|\\frac{x^{n+1}}{(n+1)!}\\right|. \n",
    "\\end{align*}"
   ]
  },
  {
   "cell_type": "markdown",
   "metadata": {
    "deletable": false,
    "editable": false,
    "nbgrader": {
     "cell_type": "markdown",
     "checksum": "9a252bb988e5ae52a24a2e87dfe820b2",
     "grade": false,
     "grade_id": "cell-4678254376542691",
     "locked": true,
     "schema_version": 3,
     "solution": false
    }
   },
   "source": [
    "**(b)** [4 pts] Analytically show that for **large** $x\\gg1$ and $n$, $r_n \\leq \\epsilon_{\\text{machine}}$ implies that we need *approximately* $n > e \\cdot x$ terms in the series (where $e = \\text{exp}(1)$).\n",
    "\n",
    "*Hint* Use Stirling's approximation $log (n!) \\approx n~log~n - n$ (and then this problem is still a bit tricky)"
   ]
  },
  {
   "cell_type": "markdown",
   "metadata": {
    "deletable": false,
    "nbgrader": {
     "cell_type": "markdown",
     "checksum": "8152aede9f1e1f429a231ee2b82df69c",
     "grade": true,
     "grade_id": "cell-4305745011657702",
     "locked": false,
     "points": 4,
     "schema_version": 3,
     "solution": true
    }
   },
   "source": [
    "Using the above result, we want to let $r_n \\leq \\epsilon_{machine}$, \n",
    "\\begin{align*}\n",
    "\\left| \\frac{x^{n+1}}{(n+1)!} \\right| &\\leq \\epsilon_{machine} \\\\ \n",
    "(n+1) \\log(x) - \\log((n+1)!) &\\leq \\log(\\epsilon_{machine}) \\\\ \n",
    "(n+1) \\log(x) - ((n+1) \\log(n+1) - (n+1)) &\\leq \\log(\\epsilon_{machine}) \\\\ \n",
    "(n+1)(\\log(x) - \\log(n+1) + 1) &\\leq \\log(\\epsilon_{machine}). \n",
    "\\end{align*}\n",
    "Since $\\epsilon_{machine}$ is really close to zero, $\\log(\\epsilon_{machine})$ tends to $-\\infty$. While $(n+1)$ is positive, to satisfy the inequality, $\\log(x) - \\log(n+1) + 1$ has to be negative. \n",
    "\\begin{align*}\n",
    "\\log(x) - \\log(n+1) + 1 &< 0 \\\\ \n",
    "\\log(\\frac{x}{n+1}) + 1 &< 0 \\\\ \n",
    "\\log(\\frac{x}{n+1}) &< -1 \\\\ \n",
    "\\frac{x}{n+1} &< e^{-1} \\\\ \n",
    "x &< (n+1) e^{-1} \\\\ \n",
    "e \\cdot x &< n + 1. \n",
    "\\end{align*}\n",
    "As $x$ and $n$ are both large, we can ignore the plus $1$. Thus, we need approximately $n > e \\cdot x$. "
   ]
  },
  {
   "cell_type": "markdown",
   "metadata": {
    "deletable": false,
    "editable": false,
    "nbgrader": {
     "cell_type": "markdown",
     "checksum": "a9cef1843dc0ae1deb7e6dbe5f77c33c",
     "grade": false,
     "grade_id": "cell-8048500717179941",
     "locked": true,
     "schema_version": 3,
     "solution": false
    }
   },
   "source": [
    "**(c)** [6 pts] Use this result to write a Python function that accurately approximates $e^x$ using $T_n(x)$ for scalar $x$ and returns both the estimate and the number of terms in the series.  Note that the testing tolerance will be $8 \\cdot \\epsilon_{\\text{machine}}$ over the range $x\\in[-50,50]$\n",
    "\n",
    "Make sure to document your code including expected inputs, outputs, and assumptions being made.\n",
    "\n",
    "Some Hints:\n",
    "* To make your life easier,  we will assume $x$ and $T_n(x)$ are just of type float (not arrays)\n",
    "* Think about how we evaluated polynomials efficiently in class\n",
    "* $T_n(x)$ for $x<0$ is a highly unstable alternating series with severe cancellation issues. However, there is a simple fix that will return accurate solutions independent of the sign of $x$"
   ]
  },
  {
   "cell_type": "code",
   "execution_count": 35,
   "metadata": {
    "deletable": false,
    "nbgrader": {
     "cell_type": "code",
     "checksum": "80286c759520479af4ce906ac70f62e5",
     "grade": false,
     "grade_id": "cell-5914967225034965",
     "locked": false,
     "schema_version": 3,
     "solution": true,
     "task": false
    }
   },
   "outputs": [],
   "source": [
    "def Tn_exp(x):\n",
    "    \"\"\" \n",
    "    Approximates the exponential function exp(x) using a truncated series expansion.\n",
    "    \n",
    "    Parameters:\n",
    "    -----------\n",
    "        x: float\n",
    "            scalar value to approximate exp(x)\n",
    "            \n",
    "    Returns:\n",
    "    --------\n",
    "        Tn: float\n",
    "            The approximate value of exp(x).\n",
    "        MAX_N: int\n",
    "            The number of terms used in the Taylor series expansion.\n",
    "    \"\"\"\n",
    "\n",
    "    assert(isinstance(x,float))\n",
    "    # rough estimate of maximum number of steps for large x\n",
    "    # MAX_N = ??\n",
    "    \n",
    "    if x < 0:\n",
    "        xsign = -1\n",
    "        x = -x\n",
    "    else:\n",
    "        xsign = 1\n",
    "    \n",
    "    MAX_N = 1\n",
    "    while numpy.abs(x**(MAX_N+1)/factorial(MAX_N+1)) >= 8 * numpy.finfo(float).eps:\n",
    "        MAX_N += 1\n",
    "    \n",
    "    if MAX_N > 1: \n",
    "        approx = 1 + x/(MAX_N - 1)\n",
    "    else:\n",
    "        approx = 1\n",
    "        \n",
    "    for n in reversed(range(1, MAX_N - 1)):\n",
    "        approx = approx * x/n + 1\n",
    "        \n",
    "    if xsign == -1:\n",
    "        Tn = 1/approx\n",
    "    else:\n",
    "        Tn = approx\n",
    "\n",
    "        \n",
    "    return Tn, MAX_N"
   ]
  },
  {
   "cell_type": "code",
   "execution_count": 36,
   "metadata": {
    "deletable": false,
    "editable": false,
    "nbgrader": {
     "cell_type": "code",
     "checksum": "ab0f32ce185cc2c7955fb0d04d65f027",
     "grade": true,
     "grade_id": "cell-9688375319882602",
     "locked": true,
     "points": 6,
     "schema_version": 3,
     "solution": false
    }
   },
   "outputs": [
    {
     "name": "stdout",
     "output_type": "stream",
     "text": [
      "maxmimum relative error = 4.756993199803329 eps_machine\n",
      "Success!\n"
     ]
    }
   ],
   "source": [
    "# Testing Cell (do not copy)\n",
    "\n",
    "x = numpy.linspace(-50, 50, 101)\n",
    "eps = numpy.finfo(float).eps\n",
    "tolerance = 8 * eps\n",
    "\n",
    "answer = numpy.zeros(x.shape)\n",
    "N = numpy.zeros(x.shape)\n",
    "for i,xi in enumerate(x):\n",
    "    answer[i], N[i] = Tn_exp(xi)\n",
    "r = numpy.abs(answer - numpy.exp(x)) / numpy.abs(numpy.exp(x))\n",
    "print('maxmimum relative error = {} eps_machine'.format(r.max()/eps))\n",
    "assert(numpy.all(r  < tolerance))\n",
    "print(\"Success!\")"
   ]
  },
  {
   "cell_type": "markdown",
   "metadata": {
    "deletable": false,
    "editable": false,
    "nbgrader": {
     "cell_type": "markdown",
     "checksum": "2b1d4a353e51fbba1658f5a6968d1b42",
     "grade": false,
     "grade_id": "cell-c154452f653c5adc",
     "locked": true,
     "schema_version": 3,
     "solution": false,
     "task": false
    }
   },
   "source": [
    "**(d)** [4 pts] In ieee double precision,  the largest value of $x$ that has $e^x<$ `numpy.finfo(float).max` is about 709 (i.e. `numpy.log(numpy.finfo(float).max))`. \n",
    "\n",
    "* What is the relative error in units of machine epsilon for your routine and `f=numpy.exp(709)`\n",
    "* What is the relative error in units of machine epsilon for `F=numpy.exp(1)**709` and `f=numpy.exp(709)`\n",
    "\n",
    "Explain your results"
   ]
  },
  {
   "cell_type": "code",
   "execution_count": 11,
   "metadata": {},
   "outputs": [
    {
     "name": "stdout",
     "output_type": "stream",
     "text": [
      "(2.0956323250114558e+293, 2.5499250734581486e-15, 15)\n",
      "(3.1035316813264893e+294, 3.77631760878802e-14, 14)\n"
     ]
    }
   ],
   "source": [
    "Tn, MAX_N = Tn_exp(709.)\n",
    "print(errors(numpy.exp(709), Tn))\n",
    "print(errors(numpy.exp(709), numpy.exp(1)**709))"
   ]
  },
  {
   "cell_type": "markdown",
   "metadata": {
    "deletable": false,
    "nbgrader": {
     "cell_type": "markdown",
     "checksum": "a5a47ab9f08e7fe4764609703387ef9d",
     "grade": true,
     "grade_id": "cell-26e754d164cf2a3a",
     "locked": false,
     "points": 4,
     "schema_version": 3,
     "solution": true,
     "task": false
    }
   },
   "source": [
    "Since `numpy.exp(1)` is not giving exact value of $e$, the large power of it will incur large error. \n",
    "\\begin{align*}\n",
    "(E (1 + \\delta))^{709} = E^{709} \\times (1 + 709 \\delta + \\cdots + \\delta^{709}), \n",
    "\\end{align*}\n",
    "where $E$ is the python approximation for $e$. "
   ]
  },
  {
   "cell_type": "markdown",
   "metadata": {
    "deletable": false,
    "editable": false,
    "nbgrader": {
     "cell_type": "markdown",
     "checksum": "7acaa725abfd22229bddd35f652e4b57",
     "grade": false,
     "grade_id": "cell-aaa3ac7c64bd5868",
     "locked": true,
     "schema_version": 3,
     "solution": false,
     "task": false
    }
   },
   "source": [
    "**(e)** **Extra Credit**\n",
    "\n",
    "[4 pts] Can you modify your routine for `Tn_exp(x)`) to approximate $e^x$ on the range $x\\in[-709, 709]$ to within 16 $\\epsilon_{machine}$?\n"
   ]
  },
  {
   "cell_type": "code",
   "execution_count": 26,
   "metadata": {
    "deletable": false,
    "nbgrader": {
     "cell_type": "code",
     "checksum": "9c184e65af5b8e5f46c673245638f9ef",
     "grade": false,
     "grade_id": "cell-28a21d2a7d0bda99",
     "locked": false,
     "schema_version": 3,
     "solution": true,
     "task": false
    }
   },
   "outputs": [],
   "source": [
    "def Tn_exp(x, tolerance):\n",
    "    \"\"\" \n",
    "    Approximates the exponential function exp(x) using a truncated series expansion.\n",
    "    \n",
    "    Parameters:\n",
    "    -----------\n",
    "        x: float\n",
    "            scalar value to approximate exp(x)\n",
    "        tolerance: float\n",
    "            maximum relative error allowed in the approximation\n",
    "            \n",
    "    Returns:\n",
    "    --------\n",
    "        Tn: float\n",
    "            The approximate value of exp(x).\n",
    "        MAX_N: int\n",
    "            The number of terms used in the Taylor series expansion.\n",
    "    \"\"\"\n",
    "\n",
    "    assert(isinstance(x,float))\n",
    "    # rough estimate of maximum number of steps for large x\n",
    "    # MAX_N = ??\n",
    "    \n",
    "    if x < 0:\n",
    "        xsign = -1\n",
    "        x = -x\n",
    "    else:\n",
    "        xsign = 1\n",
    "    \n",
    "    if x <= 63:\n",
    "        MAX_N = 1\n",
    "        while numpy.abs(x**(MAX_N+1)/factorial(MAX_N+1)) >= tolerance:\n",
    "            MAX_N += 1\n",
    "    else:\n",
    "        MAX_N = numpy.ceil(numpy.exp(1) * x).astype(int)\n",
    "        \n",
    "    if MAX_N > 1: \n",
    "        approx = 1 + x/(MAX_N - 1)\n",
    "    else:\n",
    "        approx = 1\n",
    "        \n",
    "    for n in reversed(range(1, MAX_N - 1)):\n",
    "        approx = approx * x/n + 1\n",
    "        \n",
    "    if xsign == -1:\n",
    "        Tn = 1/approx\n",
    "    else:\n",
    "        Tn = approx\n",
    "\n",
    "        \n",
    "    return Tn, MAX_N"
   ]
  },
  {
   "cell_type": "code",
   "execution_count": 27,
   "metadata": {
    "deletable": false,
    "editable": false,
    "nbgrader": {
     "cell_type": "code",
     "checksum": "47c964bd17be30e90d2a8b03d580466c",
     "grade": true,
     "grade_id": "cell-96883753198883843",
     "locked": true,
     "points": 0,
     "schema_version": 3,
     "solution": false
    }
   },
   "outputs": [
    {
     "name": "stdout",
     "output_type": "stream",
     "text": [
      "maxmimum relative error = 14.198921216203827 eps_machine\n",
      "Success!\n"
     ]
    }
   ],
   "source": [
    "x = numpy.linspace(-709, 709, 101)\n",
    "tolerance = 16 * eps\n",
    "\n",
    "answer = numpy.zeros(x.shape)\n",
    "N = numpy.zeros(x.shape)\n",
    "for i,xi in enumerate(x):\n",
    "    answer[i], N[i] = Tn_exp(xi, tolerance=tolerance)\n",
    "r = numpy.abs(answer - numpy.exp(x)) / numpy.abs(numpy.exp(x))\n",
    "print('maxmimum relative error = {} eps_machine'.format(r.max()/eps))\n",
    "assert(numpy.all(r  < tolerance))\n",
    "print(\"Success!\")"
   ]
  },
  {
   "cell_type": "markdown",
   "metadata": {
    "deletable": false,
    "editable": false,
    "nbgrader": {
     "cell_type": "markdown",
     "checksum": "0ea70a0549b8738a4ff278bbe58f20df",
     "grade": false,
     "grade_id": "cell-6605000347660435",
     "locked": true,
     "schema_version": 3,
     "solution": false
    }
   },
   "source": [
    "## Question 4\n",
    "\n",
    "Consider a computing system that uses deoxyribonucleic acid (DNA) to store information.  Given that DNA is formed from the 4 nucleobases adenine, cytosine, guanine, and thymine (uracil is only found in RNA) let us assume that our storage of numbers will be base 4.  Answer the following questions based on this assuming that we have $p=3$ for the mantissa and the exponent $E \\in [-3, 3]$ (and we'll pretend DNA has a sign bit...chirality?)."
   ]
  },
  {
   "cell_type": "markdown",
   "metadata": {
    "deletable": false,
    "editable": false,
    "nbgrader": {
     "cell_type": "markdown",
     "checksum": "c13ca513b18f26ed2af616dd50206047",
     "grade": false,
     "grade_id": "cell-9339658002746268",
     "locked": true,
     "schema_version": 3,
     "solution": false
    }
   },
   "source": [
    "**(a)** [4 pts] How many numbers can we represent with this floating point system (assume it's normalized)?  What are the underflow and overflow limits? What is machine Epsilon?"
   ]
  },
  {
   "cell_type": "markdown",
   "metadata": {
    "deletable": false,
    "nbgrader": {
     "cell_type": "markdown",
     "checksum": "b0255974fb370e1c331638d41f074ddf",
     "grade": true,
     "grade_id": "cell-623b625975f5da41",
     "locked": false,
     "points": 4,
     "schema_version": 3,
     "solution": true
    }
   },
   "source": [
    "sign: $2$ \n",
    "$d_1$: $3$ \n",
    "$d_2$: $4$ \n",
    "$d_3$: $4$ \n",
    "E: $7$\n",
    "zero: $1$ \n",
    "\n",
    "In total, we have \n",
    "\\begin{align*}\n",
    "2 \\times 3 \\times 4 \\times 4 \\times 7 + 1 = 673\n",
    "\\end{align*}\n",
    "numbers that can be represented. The underflow limit is \n",
    "\\begin{align*}\n",
    "1.0 \\times 4^{-3} = \\frac{1}{64} = 0.015625. \n",
    "\\end{align*}\n",
    "The overflow limit is \n",
    "\\begin{align*}\n",
    "3.33 \\times 4^{3} = 252. \n",
    "\\end{align*}\n",
    "Machine epsilon will be \n",
    "\\begin{align*}\n",
    "4^{-2} = \\frac{1}{16} = 0.0625. \n",
    "\\end{align*}"
   ]
  },
  {
   "cell_type": "markdown",
   "metadata": {
    "deletable": false,
    "editable": false,
    "nbgrader": {
     "cell_type": "markdown",
     "checksum": "29c7fc5ca0808f62a6b35897f3fbbe87",
     "grade": false,
     "grade_id": "cell-9339658dsfsdf46268",
     "locked": true,
     "schema_version": 3,
     "solution": false
    }
   },
   "source": [
    "**(b)** [4pts] Graphically show how the numbers on the decimal real line are distributed."
   ]
  },
  {
   "cell_type": "code",
   "execution_count": 14,
   "metadata": {
    "deletable": false,
    "nbgrader": {
     "cell_type": "code",
     "checksum": "b95cccb5e3723bc4ebd7a1a10500f39a",
     "grade": true,
     "grade_id": "cell-4c6d3ae47566d1f1",
     "locked": false,
     "points": 4,
     "schema_version": 3,
     "solution": true
    }
   },
   "outputs": [
    {
     "data": {
      "image/png": "[encoded data removed]",
      "text/plain": [
       "<Figure size 1000x300 with 2 Axes>"
      ]
     },
     "metadata": {},
     "output_type": "display_data"
    }
   ],
   "source": [
    "d_1_values = [1, 2, 3]\n",
    "d_2_values = [0, 1, 2, 3]\n",
    "d_3_values = [0, 1, 2, 3]\n",
    "E_values = [3, 2, 1, 0, -1, -2, -3]\n",
    "\n",
    "fig = plt.figure(figsize=(10.0, 3.0))\n",
    "axes = fig.add_subplot(2, 1, 1)\n",
    "\n",
    "for E in E_values:\n",
    "    for d1 in d_1_values:\n",
    "        for d2 in d_2_values:\n",
    "            for d3 in d_3_values:\n",
    "                axes.plot( (d1 + d2 * 0.25 + d3 * 0.0625) * 4**E, 0.0, 'r+', markersize=20)\n",
    "                axes.plot(-(d1 + d2 * 0.25 + d3 * 0.0625) * 4**E, 0.0, 'r+', markersize=20)\n",
    "            \n",
    "axes.plot(0.0, 0.0, '|', markersize=20)\n",
    "axes.plot([-1., 1.], [0.0, 0.0], 'k|', markersize=30)\n",
    "\n",
    "axes.plot([-252.0, 252.0], [0.0, 0.0], 'k')\n",
    "\n",
    "axes.set_title(\"Distribution of Values\")\n",
    "axes.set_yticks([])\n",
    "axes.set_xlabel(\"x\")\n",
    "axes.set_ylabel(\"\")\n",
    "\n",
    "axes = fig.add_subplot(2,1,2)\n",
    "\n",
    "for E in E_values:\n",
    "    for d1 in d_1_values:\n",
    "        for d2 in d_2_values:\n",
    "            for d3 in d_3_values:\n",
    "                axes.plot( (d1 + d2 * 0.25 + d3 * 0.0625) * 4**E, 0.0, 'r+', markersize=20)\n",
    "                axes.plot(-(d1 + d2 * 0.25 + d3 * 0.0625) * 4**E, 0.0, 'r+', markersize=20)\n",
    "            \n",
    "axes.plot(0.0, 0.0, '+', markersize=20)\n",
    "axes.plot([-10.0, 10.0], [0.0, 0.0], 'k')\n",
    "\n",
    "axes.set_title(\"Close up $[-1, 1]$\")\n",
    "axes.set_yticks([])\n",
    "axes.set_xlabel(\"x\")\n",
    "axes.set_ylabel(\"\")\n",
    "axes.set_xlim([-1, 1])\n",
    "fig.tight_layout(h_pad=1, w_pad=5)\n",
    "\n",
    "plt.show()"
   ]
  },
  {
   "cell_type": "markdown",
   "metadata": {
    "deletable": false,
    "editable": false,
    "nbgrader": {
     "cell_type": "markdown",
     "checksum": "fab0fc5f3065c300023b60719c30cb3b",
     "grade": false,
     "grade_id": "cell-93396552502746268",
     "locked": true,
     "schema_version": 3,
     "solution": false
    }
   },
   "source": [
    "**(c)** [4 pts] How many more numbers can we store in $N$ base-pairs (base 4) versus $N$ bits (base 2) where the mantissa and exponent are the same relative length (e.g.  p=3, and $E\\in[-3,3]$ for both problems)?"
   ]
  },
  {
   "cell_type": "markdown",
   "metadata": {
    "deletable": false,
    "nbgrader": {
     "cell_type": "markdown",
     "checksum": "16825fa4b75b7fc34d854b1653fe64b8",
     "grade": true,
     "grade_id": "cell-6de5d8dbf91c5ff7",
     "locked": false,
     "points": 4,
     "schema_version": 3,
     "solution": true
    }
   },
   "source": [
    "\\begin{align*}\n",
    "(2 \\times 3 \\times 4 \\times 4 \\times 7 + 1) - (2 \\times 1 \\times 2 \\times 2 \\times 7 + 1) = 616\n",
    "\\end{align*}\n",
    "We can store $616$ more numbers in base $4$ than base $2$. "
   ]
  }
 ],
 "metadata": {
  "kernelspec": {
   "display_name": "Python 3 (ipykernel)",
   "language": "python",
   "name": "python3"
  },
  "language_info": {
   "codemirror_mode": {
    "name": "ipython",
    "version": 3
   },
   "file_extension": ".py",
   "mimetype": "text/x-python",
   "name": "python",
   "nbconvert_exporter": "python",
   "pygments_lexer": "ipython3",
   "version": "3.11.7"
  },
  "latex_envs": {
   "bibliofile": "biblio.bib",
   "cite_by": "apalike",
   "current_citInitial": 1,
   "eqLabelWithNumbers": true,
   "eqNumInitial": 0
  }
 },
 "nbformat": 4,
 "nbformat_minor": 4
}
