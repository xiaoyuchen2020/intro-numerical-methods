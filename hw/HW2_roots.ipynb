{
 "cells": [
  {
   "cell_type": "code",
   "execution_count": 2,
   "metadata": {},
   "outputs": [],
   "source": [
    "from __future__ import print_function\n",
    "import numpy\n",
    "import matplotlib.pyplot as plt\n",
    "import warnings\n",
    "%matplotlib inline\n"
   ]
  },
  {
   "cell_type": "markdown",
   "metadata": {
    "deletable": false,
    "editable": false,
    "nbgrader": {
     "cell_type": "markdown",
     "checksum": "16a15b070eb04274387730b373ead3b7",
     "grade": false,
     "grade_id": "cell-7752050701682384",
     "locked": true,
     "schema_version": 3,
     "solution": false
    },
    "tags": []
   },
   "source": [
    "# HW 2:  Root Finding and Optimization"
   ]
  },
  {
   "cell_type": "markdown",
   "metadata": {
    "deletable": false,
    "editable": false,
    "nbgrader": {
     "cell_type": "markdown",
     "checksum": "655550136a8876cfde367066162aeace",
     "grade": false,
     "grade_id": "cell-8382527651811313",
     "locked": true,
     "schema_version": 3,
     "solution": false
    }
   },
   "source": [
    "## Question 1 - Fun with Fixed Point iteration\n",
    "\n",
    "Let's say that we wanted to calculate $\\sqrt{M}$ given that $M \\in \\mathbb{R}$ and $M > 0$ and that we did not want to use the function `sqrt` directly.  Consider the function \n",
    "\n",
    "$$\n",
    "    f(x) = x^2 - M\n",
    "$$\n",
    "\n",
    "which has a positive root at at $x=\\sqrt{M}$.   Here we will try to solve this using  fixed point iteration\n",
    "\n",
    "$$\n",
    "    x_{k+1} = g(x_k)\n",
    "$$\n",
    "for several different iteration functions $g(x)$ (see below)\n",
    "\n",
    "For each function $g$:\n",
    "\n",
    "- Confirm analytically that $x=\\sqrt{M}$ is a fixed point of $g(x)$\n",
    "- Analyze the convergence behavior close to the fixed-point and determine the stability of the iterative scheme\n",
    "- Now set $M=3$  and $x_0 = 2$.  Make a nicely labeled convergence plot showing the log of the relative error as a function of iteration. How many iterations are required to reduce the relative error to machine precision (if it converges)?\n",
    "\n",
    "**Remember**: if you want to write $g^\\prime$, remember to use `g^\\prime` rather than `g'` in $\\LaTeX$"
   ]
  },
  {
   "cell_type": "markdown",
   "metadata": {
    "deletable": false,
    "editable": false,
    "nbgrader": {
     "cell_type": "markdown",
     "checksum": "47d9ae565a714b67099b1500b01a4250",
     "grade": false,
     "grade_id": "cell-7408468548362671",
     "locked": true,
     "schema_version": 3,
     "solution": false
    }
   },
   "source": [
    "**(a)** [4] To help with the last part,  write a short python function to return N iterations of a fixed point iteration."
   ]
  },
  {
   "cell_type": "code",
   "execution_count": 3,
   "metadata": {
    "deletable": false,
    "nbgrader": {
     "cell_type": "code",
     "checksum": "ce6bb68ac251ae8857aeb9060c313a74",
     "grade": false,
     "grade_id": "cell-5217816963816529",
     "locked": false,
     "schema_version": 3,
     "solution": true
    }
   },
   "outputs": [],
   "source": [
    "def fixed_point(g, x0, N=5):\n",
    "    \"\"\"conduct N iterations of the fixed point iteration x_{k+1} = g(x_k)\n",
    "    \n",
    "    :Input:\n",
    "        - *g* (function) - The iteration function\n",
    "        - *x_0* (float) - Initial iterate\n",
    "        - *N* (int) - number of terms in iteration\n",
    "     \n",
    "    :Output:\n",
    "        x: numpy array (float)\n",
    "            array containing the iterations [ x0, x1, ... x_N ]\n",
    "    \"\"\"\n",
    "    xlist = [x0]\n",
    "    for i in range(N):\n",
    "        xlist.append(g(xlist[-1]))\n",
    "    \n",
    "    return numpy.array(xlist)"
   ]
  },
  {
   "cell_type": "code",
   "execution_count": null,
   "metadata": {},
   "outputs": [],
   "source": [
    "### Free cell for messing with your code"
   ]
  },
  {
   "cell_type": "code",
   "execution_count": 4,
   "metadata": {
    "deletable": false,
    "editable": false,
    "nbgrader": {
     "cell_type": "code",
     "checksum": "62a641c4ff1153c8b1e8e39058a3a5eb",
     "grade": true,
     "grade_id": "cell-5409919424122382",
     "locked": true,
     "points": 4,
     "schema_version": 3,
     "solution": false
    }
   },
   "outputs": [
    {
     "name": "stdout",
     "output_type": "stream",
     "text": [
      "success: passed N=5 test\n",
      "success: passed N=1000 test\n"
     ]
    }
   ],
   "source": [
    "# Testing Cell\n",
    "\n",
    "N = 5\n",
    "g = lambda x: numpy.cos(x)\n",
    "x0 = 1.\n",
    "answer = numpy.array([1., 0.54030231, 0.85755322, 0.65428979, 0.79348036, 0.70136877])\n",
    "\n",
    "x = fixed_point(g, x0, N )\n",
    "numpy.testing.assert_allclose(x, answer)\n",
    "print('success: passed N=5 test')\n",
    "\n",
    "x_true = 0.7390851332153119\n",
    "x = fixed_point(g, x0, 1000)\n",
    "numpy.testing.assert_almost_equal(x[-1],x_true)\n",
    "print('success: passed N=1000 test')"
   ]
  },
  {
   "cell_type": "markdown",
   "metadata": {
    "deletable": false,
    "editable": false,
    "nbgrader": {
     "cell_type": "markdown",
     "checksum": "14b5f732f5aa0e3b5cfeac176c46d19c",
     "grade": false,
     "grade_id": "cell-2533433274902651",
     "locked": true,
     "schema_version": 3,
     "solution": false
    }
   },
   "source": [
    "**(b)** [6] analyze the problem with \n",
    "$$ g(x) = 1 + x - \\frac{x^2}{M}$$"
   ]
  },
  {
   "cell_type": "markdown",
   "metadata": {
    "deletable": false,
    "nbgrader": {
     "cell_type": "markdown",
     "checksum": "f8553ede2a496f25fd88744bab86b8fa",
     "grade": true,
     "grade_id": "cell-340019030337399",
     "locked": false,
     "points": 4,
     "schema_version": 3,
     "solution": true,
     "task": false
    }
   },
   "source": [
    "Let $x = \\sqrt{M}$, \n",
    "\\begin{align*}\n",
    "g(\\sqrt{M}) &= 1 + \\sqrt{M} - \\frac{{\\sqrt{M}}^2}{M} \\\\ \n",
    "&= 1 + \\sqrt{M} - 1 \\\\ \n",
    "&= \\sqrt{M}\n",
    "\\end{align*}\n",
    "Thus, $x = \\sqrt{M}$ is a fixed point. \n",
    "\n",
    "Taking the first derivative gives \n",
    "\\begin{align*}\n",
    "g^{\\prime}(x) &= 1 - \\frac{2x}{M} \\\\ \n",
    "g^{\\prime}(\\sqrt{M}) &= 1 - \\frac{2 \\sqrt{M}}{M} \\\\\n",
    "&= 1 - \\frac{2}{\\sqrt{M}}\n",
    "\\end{align*}\n",
    "\n",
    "If $|1 - \\frac{2}{\\sqrt{M}}| < 1$, which is when $M > 1$, the iteration will converge. If $|1 - \\frac{2}{\\sqrt{M}}| > 1$, which is when $M < 1$, the iteration will diverge."
   ]
  },
  {
   "cell_type": "code",
   "execution_count": 38,
   "metadata": {
    "deletable": false,
    "nbgrader": {
     "cell_type": "code",
     "checksum": "743a196e7f7129d5fdeb501531d96bc2",
     "grade": true,
     "grade_id": "cell-9ea67719fcf6c873",
     "locked": false,
     "points": 2,
     "schema_version": 3,
     "solution": true,
     "task": false
    }
   },
   "outputs": [
    {
     "name": "stderr",
     "output_type": "stream",
     "text": [
      "C:\\Users\\31040\\AppData\\Local\\Temp\\ipykernel_33844\\2508553990.py:13: RuntimeWarning: divide by zero encountered in log\n",
      "  axes.plot(numpy.log(numpy.abs(x - numpy.sqrt(M))), 'o')\n"
     ]
    },
    {
     "data": {
      "image/png": "[encoded data removed]",
      "text/plain": [
       "<Figure size 640x480 with 1 Axes>"
      ]
     },
     "metadata": {},
     "output_type": "display_data"
    },
    {
     "name": "stdout",
     "output_type": "stream",
     "text": [
      "Relative error becomes less than machine epsilon at iteration 19\n"
     ]
    }
   ],
   "source": [
    "# Place plotting code here if needed\n",
    "\n",
    "g = lambda x: 1 + x - x**2 / M \n",
    "M = 3\n",
    "x0 = 2\n",
    "\n",
    "x = fixed_point(g, x0, 20)\n",
    "fig = plt.figure()\n",
    "axes = fig.add_subplot(1, 1, 1)\n",
    "# print(x)\n",
    "# print(x - numpy.sqrt(M))\n",
    "# print(numpy.log(numpy.abs(x - numpy.sqrt(M))))\n",
    "axes.plot(numpy.log(numpy.abs(x - numpy.sqrt(M))), 'o')\n",
    "axes.set_title('Fixed Point Iteration')\n",
    "axes.set_xlabel('Iteration')\n",
    "axes.set_ylabel('Log Error')\n",
    "plt.show()\n",
    "\n",
    "# Find when does absolute error less than machine epsilon\n",
    "x = fixed_point(g, x0, 1000)\n",
    "for i in range(len(x)):\n",
    "    if numpy.abs(x[i] - numpy.sqrt(M)) / numpy.abs(numpy.sqrt(M)) < numpy.finfo(float).eps:\n",
    "        print('Relative error becomes less than machine epsilon at iteration', i)\n",
    "        break\n",
    "if i == len(x) - 1:\n",
    "    print('Iteration does not converge')"
   ]
  },
  {
   "cell_type": "markdown",
   "metadata": {
    "deletable": false,
    "editable": false,
    "nbgrader": {
     "cell_type": "markdown",
     "checksum": "631a3e4c05e43db09ece645a93dd948c",
     "grade": false,
     "grade_id": "cell-2533433274adsfadf1",
     "locked": true,
     "schema_version": 3,
     "solution": false
    }
   },
   "source": [
    " **(c)** [6] analyze the problem with \n",
    "$$ g(x) = \\frac{M}{x}$$"
   ]
  },
  {
   "cell_type": "markdown",
   "metadata": {
    "deletable": false,
    "nbgrader": {
     "cell_type": "markdown",
     "checksum": "4b9b505f2509ac5d4d21866f8f8735d0",
     "grade": true,
     "grade_id": "cell-340019030h348fqoi",
     "locked": false,
     "points": 4,
     "schema_version": 3,
     "solution": true,
     "task": false
    }
   },
   "source": [
    "Let $x = \\sqrt{M}$, \n",
    "\\begin{align*}\n",
    "g(\\sqrt{M}) &= \\frac{M}{\\sqrt{M}} \\\\ \n",
    "&= \\sqrt{M}\n",
    "\\end{align*}\n",
    "Thus, $x = \\sqrt{M}$ is a fixed point. \n",
    "\n",
    "Taking the first derivative gives \n",
    "\\begin{align*}\n",
    "g^{\\prime}(x) &= -M x^{-2} \\\\ \n",
    "g^{\\prime}(\\sqrt{M}) &= -M {\\sqrt{M}}^{-2} \\\\ \n",
    "&= -1\n",
    "\\end{align*}\n",
    "Thus, $|g^{\\prime}(\\sqrt{M})| = 1$ and we can not see the convergence of iteration from this. "
   ]
  },
  {
   "cell_type": "code",
   "execution_count": 39,
   "metadata": {
    "deletable": false,
    "nbgrader": {
     "cell_type": "code",
     "checksum": "564a941d39f88c7cb280a1cc912d4b05",
     "grade": true,
     "grade_id": "cell-9ea67238r9y",
     "locked": false,
     "points": 2,
     "schema_version": 3,
     "solution": true,
     "task": false
    }
   },
   "outputs": [
    {
     "data": {
      "image/png": "[encoded data removed]",
      "text/plain": [
       "<Figure size 640x480 with 1 Axes>"
      ]
     },
     "metadata": {},
     "output_type": "display_data"
    },
    {
     "name": "stdout",
     "output_type": "stream",
     "text": [
      "Iteration does not converge\n"
     ]
    }
   ],
   "source": [
    "# Place plotting code here if needed\n",
    "\n",
    "g = lambda x: M / x\n",
    "M = 3\n",
    "x0 = 2\n",
    "\n",
    "x = fixed_point(g, x0, 20)\n",
    "fig = plt.figure()\n",
    "axes = fig.add_subplot(1, 1, 1)\n",
    "# print(x)\n",
    "# print(x - numpy.sqrt(M))\n",
    "# print(numpy.log(numpy.abs(x - numpy.sqrt(M))))\n",
    "axes.plot(numpy.log(numpy.abs(x - numpy.sqrt(M))), 'o')\n",
    "axes.set_title('Fixed Point Iteration')\n",
    "axes.set_xlabel('Iteration')\n",
    "axes.set_ylabel('Log Error')\n",
    "plt.show()\n",
    "\n",
    "# Find when does absolute error less than machine epsilon\n",
    "x = fixed_point(g, x0, 1000)\n",
    "for i in range(len(x)):\n",
    "    if numpy.abs(x[i] - numpy.sqrt(M)) / numpy.abs(numpy.sqrt(M)) < numpy.finfo(float).eps:\n",
    "        print('Relative error becomes less than machine epsilon at iteration', i)\n",
    "        break\n",
    "if i == len(x) - 1:\n",
    "    print('Iteration does not converge')"
   ]
  },
  {
   "cell_type": "markdown",
   "metadata": {
    "deletable": false,
    "editable": false,
    "nbgrader": {
     "cell_type": "markdown",
     "checksum": "d41d5129f00d5d1f3b8dceea620547c2",
     "grade": false,
     "grade_id": "cell-253343327982308ufu",
     "locked": true,
     "schema_version": 3,
     "solution": false
    }
   },
   "source": [
    "**(d)** [6] Newton's method\n",
    "$$ g(x) = x - \\frac{f}{f^\\prime}$$\n",
    "\n",
    "with $$ f = x^2 - M$$"
   ]
  },
  {
   "cell_type": "markdown",
   "metadata": {
    "deletable": false,
    "nbgrader": {
     "cell_type": "markdown",
     "checksum": "064fb95869cb3acd441daafd5640ee52",
     "grade": true,
     "grade_id": "cell-340019030oijq234roi",
     "locked": false,
     "points": 4,
     "schema_version": 3,
     "solution": true,
     "task": false
    }
   },
   "source": [
    "We can simplify $g(x)$ by \n",
    "\\begin{align*}\n",
    "g(x) &= x - \\frac{x^2 - M}{2x} \\\\ \n",
    "&= x - \\frac{x}{2} + \\frac{M}{2x} \\\\ \n",
    "&= \\frac{x}{2} + \\frac{M}{2x}\n",
    "\\end{align*}\n",
    "\n",
    "Let $x = \\sqrt{M}$, \n",
    "\\begin{align*}\n",
    "g(\\sqrt{M}) &= \\frac{x}{2} + \\frac{M}{2 \\sqrt{M}} \\\\ \n",
    "&= \\sqrt{M}\n",
    "\\end{align*}\n",
    "Thus, $x = \\sqrt{M}$ is a fixed point. \n",
    "\n",
    "Taking the first derivative gives \n",
    "\\begin{align*}\n",
    "g^{\\prime}(x) &= \\frac{1}{2} - \\frac{M}{2} x^{-2} \\\\ \n",
    "g^{\\prime}(\\sqrt{M}) &= \\frac{1}{2} - \\frac{M}{2} {\\sqrt{M}}^{-2} \\\\ \n",
    "&= 0\n",
    "\\end{align*}\n",
    "Thus, $|g^{\\prime}(\\sqrt{M})| < 1$ and will always converge. "
   ]
  },
  {
   "cell_type": "code",
   "execution_count": 40,
   "metadata": {
    "deletable": false,
    "nbgrader": {
     "cell_type": "code",
     "checksum": "de8bb72e85c8267066928bf4faaa5e8f",
     "grade": true,
     "grade_id": "cell-9ea67719fouerouh",
     "locked": false,
     "points": 2,
     "schema_version": 3,
     "solution": true,
     "task": false
    }
   },
   "outputs": [
    {
     "name": "stderr",
     "output_type": "stream",
     "text": [
      "C:\\Users\\31040\\AppData\\Local\\Temp\\ipykernel_33844\\2230028065.py:13: RuntimeWarning: divide by zero encountered in log\n",
      "  axes.plot(numpy.log(numpy.abs(x - numpy.sqrt(M))), 'o')\n"
     ]
    },
    {
     "data": {
      "image/png": "[encoded data removed]",
      "text/plain": [
       "<Figure size 640x480 with 1 Axes>"
      ]
     },
     "metadata": {},
     "output_type": "display_data"
    },
    {
     "name": "stdout",
     "output_type": "stream",
     "text": [
      "Relative error becomes less than machine epsilon at iteration 4\n"
     ]
    }
   ],
   "source": [
    "# Place plotting code here if needed\n",
    "\n",
    "g = lambda x: x / 2 + M / (2 * x)\n",
    "M = 3\n",
    "x0 = 2\n",
    "\n",
    "x = fixed_point(g, x0, 20)\n",
    "fig = plt.figure()\n",
    "axes = fig.add_subplot(1, 1, 1)\n",
    "# print(x)\n",
    "# print(x - numpy.sqrt(M))\n",
    "# print(numpy.log(numpy.abs(x - numpy.sqrt(M))))\n",
    "axes.plot(numpy.log(numpy.abs(x - numpy.sqrt(M))), 'o')\n",
    "axes.set_title('Fixed Point Iteration')\n",
    "axes.set_xlabel('Iteration')\n",
    "axes.set_ylabel('Log Error')\n",
    "plt.show()\n",
    "\n",
    "# Find when does absolute error less than machine epsilon\n",
    "x = fixed_point(g, x0, 1000)\n",
    "for i in range(len(x)):\n",
    "    if numpy.abs(x[i] - numpy.sqrt(M)) / numpy.abs(numpy.sqrt(M)) < numpy.finfo(float).eps:\n",
    "        print('Relative error becomes less than machine epsilon at iteration', i)\n",
    "        break\n",
    "if i == len(x) - 1:\n",
    "    print('Iteration does not converge')"
   ]
  },
  {
   "cell_type": "markdown",
   "metadata": {
    "deletable": false,
    "editable": false,
    "nbgrader": {
     "cell_type": "markdown",
     "checksum": "268f820b9f5eab632cd649479bcb3072",
     "grade": false,
     "grade_id": "cell-5084202108adoiu923",
     "locked": true,
     "schema_version": 3,
     "solution": false
    }
   },
   "source": [
    "## Question 2 - Fun with Rootfinders and NewtSafe\n",
    "\n",
    "This problem will explore the behavior of a range of different rootfinding routines against  a more challenging rootfinding problem.  Feel free to use any or all  of the routines presented in class which have been included in an auxiliary python file `rootfinding_optimization_schemes.py`\n",
    "\n",
    "\n",
    "You need to have this file in the same directory with your homework for this notebook to import it."
   ]
  },
  {
   "cell_type": "code",
   "execution_count": 41,
   "metadata": {
    "tags": []
   },
   "outputs": [
    {
     "name": "stdout",
     "output_type": "stream",
     "text": [
      "functions loaded correctly\n"
     ]
    }
   ],
   "source": [
    "#  Cell to import and test at least newton's method from class\n",
    "\n",
    "from  rootfinding_optimization_schemes import newton\n",
    "\n",
    "# set test function and its derivative\n",
    "f = lambda x: numpy.cos(x) - x\n",
    "f_prime = lambda x: -numpy.sin(x) - 1.\n",
    "\n",
    "#set initial guess and call newton\n",
    "x0 = 1.\n",
    "x, x_array = newton(f, f_prime, x0,tol=1.e-12)\n",
    "\n",
    "# run tests\n",
    "answer = 0.7390851332151606\n",
    "N = 5\n",
    "numpy.testing.assert_almost_equal(x, answer)\n",
    "numpy.testing.assert_almost_equal(N, len(x_array))\n",
    "print(\"functions loaded correctly\")"
   ]
  },
  {
   "cell_type": "markdown",
   "metadata": {
    "deletable": false,
    "editable": false,
    "nbgrader": {
     "cell_type": "markdown",
     "checksum": "a32d15febb12107bc3e15a6804e7cddd",
     "grade": false,
     "grade_id": "cell-08d7aa7aa9d9d246",
     "locked": true,
     "schema_version": 3,
     "solution": false,
     "task": false
    },
    "tags": []
   },
   "source": [
    "Consider the function \n",
    "\n",
    "$$\n",
    "    f(x) = \\cos(x) +  N(x, A, \\alpha, \\beta))\n",
    "$$\n",
    "where\n",
    "\n",
    "$$\n",
    "    N(x, A, \\alpha, \\beta) =  A\\left[\\sin(\\alpha x) + \\sin(\\beta x)\\right]\n",
    "$$\n",
    "\n",
    "is a function that adds smooth additive \"noise\" with fixed amplitude $A = 0.05$ and varying frequencies $\\alpha$ and $\\beta$"
   ]
  },
  {
   "cell_type": "markdown",
   "metadata": {
    "deletable": false,
    "editable": false,
    "nbgrader": {
     "cell_type": "markdown",
     "checksum": "65622963e22afc39580364b2d0fb4665",
     "grade": false,
     "grade_id": "cell-fadb86c67ee671d2",
     "locked": true,
     "schema_version": 3,
     "solution": false,
     "task": false
    }
   },
   "source": [
    "**(a)** [4] Make a nicely labeled plot to showing the behavior of this function for \n",
    "* $\\alpha = 0.$, $\\beta =0.$\n",
    "* $\\alpha = 4.$, $\\beta =5.$\n",
    "* $\\alpha = 27$, $\\beta = 50$\n",
    "\n",
    "over the domain $x\\in[-2\\pi, 2\\pi]$. Make sure you have enough points to resolve the wiggles.  You can plot all three curves on the same plot"
   ]
  },
  {
   "cell_type": "code",
   "execution_count": 48,
   "metadata": {
    "deletable": false,
    "nbgrader": {
     "cell_type": "code",
     "checksum": "edc7c9bcc180f7f6c5e68c36a482e7ba",
     "grade": true,
     "grade_id": "cell-fadb86c67ee67848gr",
     "locked": false,
     "points": 4,
     "schema_version": 3,
     "solution": true,
     "task": false
    }
   },
   "outputs": [
    {
     "data": {
      "image/png": "[encoded data removed]",
      "text/plain": [
       "<Figure size 640x480 with 1 Axes>"
      ]
     },
     "metadata": {},
     "output_type": "display_data"
    }
   ],
   "source": [
    "f = lambda x: numpy.cos(x) + N(x, A, a, b)\n",
    "N = lambda x, A, a, b: A * (numpy.sin(a * x) + numpy.sin(b * x))\n",
    "A = 0.05\n",
    "\n",
    "x = numpy.linspace(-2 * numpy.pi, 2 * numpy.pi, 1000)\n",
    "\n",
    "\n",
    "fig = plt.figure()\n",
    "axes = fig.add_subplot(1, 1, 1)\n",
    "a = 0\n",
    "b = 0\n",
    "axes.plot(x, f(x), label='a = 0, b = 0')\n",
    "a = 4\n",
    "b = 5\n",
    "axes.plot(x, f(x), label='a = 4, b = 5')\n",
    "a = 27\n",
    "b = 50\n",
    "axes.plot(x, f(x), label='a = 27, b = 50')\n",
    "axes.set_xlabel('x')\n",
    "axes.set_ylabel('f(x)')\n",
    "axes.legend()\n",
    "plt.show()"
   ]
  },
  {
   "cell_type": "markdown",
   "metadata": {
    "deletable": false,
    "editable": false,
    "nbgrader": {
     "cell_type": "markdown",
     "checksum": "3b9302605aa4f4dedadf35490138eeea",
     "grade": false,
     "grade_id": "cell-cfeab33ec7437a33",
     "locked": true,
     "schema_version": 3,
     "solution": false,
     "task": false
    }
   },
   "source": [
    "**(b)** [4] Explore the behavior of the following rootfinding routines \n",
    "* bisection\n",
    "* newton\n",
    "* secant\n",
    "* brentq method using scipy.optimize.root_scalar\n",
    "* **EXTRA CREDIT** any other method used in root_scalar\n",
    "\n",
    "for finding a root of this function, given the bracket $x\\in[x_0, x_1]$ with $x_0 = 0.2$, $x_1 = 2.$ for each ($\\alpha, \\beta$) pair\n",
    "\n",
    "`params = [ (0., 0.), (4., 5.),  (27, 50.) ]`\n",
    "\n",
    "For each routine,  report\n",
    "* the root found $x^*$\n",
    "* the value of $f$ at the root $f(x^*$)\n",
    "* the number of iterations."
   ]
  },
  {
   "cell_type": "code",
   "execution_count": 61,
   "metadata": {
    "deletable": false,
    "nbgrader": {
     "cell_type": "code",
     "checksum": "e4da74b90e3a108cde24c50d129d4a41",
     "grade": true,
     "grade_id": "cell-3d03e0785ba74cee",
     "locked": false,
     "points": 4,
     "schema_version": 3,
     "solution": true,
     "task": false
    }
   },
   "outputs": [
    {
     "name": "stdout",
     "output_type": "stream",
     "text": [
      "Bisection Method\n",
      "For a = 0.0 b = 0.0\n",
      "the root is 1.570796775817871\n",
      "the value of f at the root is -4.490229742968679e-07\n",
      "the number of iterations is 20\n",
      "---------------------------------\n",
      "For a = 4.0 b = 5.0\n",
      "the root is 1.6304405212402344\n",
      "the value of f at the root is 1.9620940002601506e-07\n",
      "the number of iterations is 18\n",
      "---------------------------------\n",
      "For a = 27 b = 50.0\n",
      "the root is 1.5567201137542725\n",
      "the value of f at the root is -3.49143903736332e-08\n",
      "the number of iterations is 22\n",
      "---------------------------------\n"
     ]
    }
   ],
   "source": [
    "params = [ (0., 0.), (4., 5.),  (27, 50.) ]\n",
    "\n",
    "# Bisection\n",
    "from rootfinding_optimization_schemes import bisection, newton, secant\n",
    "from scipy import optimize\n",
    "\n",
    "x0 = 0.2 \n",
    "x1 = 2\n",
    "\n",
    "print('Bisection Method')\n",
    "for i in range(len(params)): \n",
    "    a, b = params[i]\n",
    "    result = bisection(f, x0, x1)\n",
    "    print('For a =', a, 'b =', b)\n",
    "    print('the root is', result[0])\n",
    "    print('the value of f at the root is', f(result[0]))\n",
    "    print('the number of iterations is', len(result[1]))\n",
    "    print('---------------------------------')"
   ]
  },
  {
   "cell_type": "code",
   "execution_count": 62,
   "metadata": {},
   "outputs": [
    {
     "name": "stdout",
     "output_type": "stream",
     "text": [
      "Newton Method\n",
      "For a = 0.0 b = 0.0\n",
      "the root is 4.71238898038469\n",
      "the value of f at the root is -1.8369701987210297e-16\n",
      "the number of iterations is 5\n",
      "---------------------------------\n",
      "For a = 4.0 b = 5.0\n",
      "the root is -14.096326236971352\n",
      "the value of f at the root is 6.931560738582254e-08\n",
      "the number of iterations is 5\n",
      "---------------------------------\n",
      "For a = 27 b = 50.0\n",
      "the root is 1.5567201153371448\n",
      "the value of f at the root is -4.0306714679458344e-08\n",
      "the number of iterations is 73\n",
      "---------------------------------\n"
     ]
    }
   ],
   "source": [
    "print('Newton Method')\n",
    "f_prime = lambda x: -numpy.sin(x) + N_prime(x, A, a, b)\n",
    "N_prime = lambda x, A, a, b: A * (a * numpy.cos(a * x) + b * numpy.cos(b * x))\n",
    "for i in range(len(params)): \n",
    "    a, b = params[i]\n",
    "    result = newton(f, f_prime , x0)\n",
    "    print('For a =', a, 'b =', b)\n",
    "    print('the root is', result[0])\n",
    "    print('the value of f at the root is', f(result[0]))\n",
    "    print('the number of iterations is', len(result[1]))\n",
    "    print('---------------------------------')"
   ]
  },
  {
   "cell_type": "code",
   "execution_count": 63,
   "metadata": {},
   "outputs": [
    {
     "name": "stdout",
     "output_type": "stream",
     "text": [
      "Secant Method\n",
      "For a = 0.0 b = 0.0\n",
      "the root is 1.5707963267998242\n",
      "the value of f at the root is -4.927552640156338e-12\n",
      "the number of iterations is 6\n",
      "---------------------------------\n",
      "For a = 4.0 b = 5.0\n",
      "the root is 1.6304406749277849\n",
      "the value of f at the root is 6.13728728740548e-08\n",
      "the number of iterations is 7\n",
      "---------------------------------\n",
      "For a = 27 b = 50.0\n",
      "the root is 1.5567201023472799\n",
      "the value of f at the root is 3.9454700583030355e-09\n",
      "the number of iterations is 9\n",
      "---------------------------------\n"
     ]
    }
   ],
   "source": [
    "print('Secant Method')\n",
    "for i in range(len(params)): \n",
    "    a, b = params[i]\n",
    "    result = secant(f, x0, x1)\n",
    "    print('For a =', a, 'b =', b)\n",
    "    print('the root is', result[0])\n",
    "    print('the value of f at the root is', f(result[0]))\n",
    "    print('the number of iterations is', len(result[1]))\n",
    "    print('---------------------------------')"
   ]
  },
  {
   "cell_type": "code",
   "execution_count": 64,
   "metadata": {},
   "outputs": [
    {
     "name": "stdout",
     "output_type": "stream",
     "text": [
      "Brentq Method\n",
      "For a = 0.0 b = 0.0\n",
      "the root is 1.5707963267948966\n",
      "the value of f at the root is 6.123233995736766e-17\n",
      "the number of iterations is 7\n",
      "---------------------------------\n",
      "For a = 4.0 b = 5.0\n",
      "the root is 1.630440744880973\n",
      "the value of f at the root is -2.983724378680108e-16\n",
      "the number of iterations is 8\n",
      "---------------------------------\n",
      "For a = 27 b = 50.0\n",
      "the root is 1.5567201035054403\n",
      "the value of f at the root is -3.139849491518021e-16\n",
      "the number of iterations is 10\n",
      "---------------------------------\n"
     ]
    }
   ],
   "source": [
    "print('Brentq Method')\n",
    "for i in range(len(params)): \n",
    "    a, b = params[i]\n",
    "    sol = optimize.root_scalar(f, bracket=[x0, x1], method='brentq')\n",
    "    print('For a =', a, 'b =', b)\n",
    "    print('the root is', sol.root)\n",
    "    print('the value of f at the root is', f(sol.root))\n",
    "    print('the number of iterations is', sol.iterations)\n",
    "    print('---------------------------------')"
   ]
  },
  {
   "cell_type": "code",
   "execution_count": 66,
   "metadata": {},
   "outputs": [
    {
     "name": "stdout",
     "output_type": "stream",
     "text": [
      "Halley Method\n",
      "For a = 0.0 b = 0.0\n",
      "the root is 4.71238898038469\n",
      "the value of f at the root is -1.8369701987210297e-16\n",
      "the number of iterations is 5\n",
      "---------------------------------\n",
      "For a = 4.0 b = 5.0\n",
      "the root is -14.096326292548325\n",
      "the value of f at the root is 1.0408340855860843e-15\n",
      "the number of iterations is 5\n",
      "---------------------------------\n",
      "For a = 27 b = 50.0\n",
      "the root is 1.5567201035054403\n",
      "the value of f at the root is -3.139849491518021e-16\n",
      "the number of iterations is 26\n",
      "---------------------------------\n"
     ]
    }
   ],
   "source": [
    "print('Halley Method')\n",
    "f_prime = lambda x: -numpy.sin(x) + N_prime(x, A, a, b)\n",
    "N_prime = lambda x, A, a, b: A * (a * numpy.cos(a * x) + b * numpy.cos(b * x))\n",
    "f_prime_2 = lambda x: -numpy.cos(x) + N_prime_2(x, A, a, b)\n",
    "N_prime_2 = lambda x, A, a, b: -A * (a**2 * numpy.sin(a * x) + b**2 * numpy.sin(b * x))\n",
    "for i in range(len(params)): \n",
    "    a, b = params[i]\n",
    "    sol = optimize.root_scalar(f, x0=x0, fprime=f_prime, fprime2=f_prime_2, method='halley')\n",
    "    print('For a =', a, 'b =', b)\n",
    "    print('the root is', sol.root)\n",
    "    print('the value of f at the root is', f(sol.root))\n",
    "    print('the number of iterations is', sol.iterations)\n",
    "    print('---------------------------------')"
   ]
  },
  {
   "cell_type": "markdown",
   "metadata": {
    "deletable": false,
    "editable": false,
    "nbgrader": {
     "cell_type": "markdown",
     "checksum": "60affd12658a1d118a9a3ac3ade5a703",
     "grade": false,
     "grade_id": "cell-d6c0204318b16a38",
     "locked": true,
     "schema_version": 3,
     "solution": false,
     "task": false
    }
   },
   "source": [
    "**(c)** [4] Make a convergence plot showing the relative error at each step for Newton's method for the same three parameter pairs and initial guess $x_0 = 0.2$."
   ]
  },
  {
   "cell_type": "code",
   "execution_count": 69,
   "metadata": {
    "deletable": false,
    "nbgrader": {
     "cell_type": "code",
     "checksum": "712e8203de014a4d1bff6c5d3589f974",
     "grade": true,
     "grade_id": "cell-03e97ced4d02bc89",
     "locked": false,
     "points": 4,
     "schema_version": 3,
     "solution": true,
     "task": false
    }
   },
   "outputs": [
    {
     "data": {
      "image/png": "[encoded data removed]",
      "text/plain": [
       "<Figure size 640x480 with 1 Axes>"
      ]
     },
     "metadata": {},
     "output_type": "display_data"
    },
    {
     "data": {
      "image/png": "[encoded data removed]",
      "text/plain": [
       "<Figure size 640x480 with 1 Axes>"
      ]
     },
     "metadata": {},
     "output_type": "display_data"
    },
    {
     "data": {
      "image/png": "[encoded data removed]",
      "text/plain": [
       "<Figure size 640x480 with 1 Axes>"
      ]
     },
     "metadata": {},
     "output_type": "display_data"
    }
   ],
   "source": [
    "f_prime = lambda x: -numpy.sin(x) + N_prime(x, A, a, b)\n",
    "N_prime = lambda x, A, a, b: A * (a * numpy.cos(a * x) + b * numpy.cos(b * x))\n",
    "\n",
    "exact_list = [1.5 * numpy.pi, 4.5 * numpy.pi, 0.5 * numpy.pi]\n",
    "for i in range(len(params)): \n",
    "    exact = exact_list[i]\n",
    "    a, b = params[i]\n",
    "    result = newton(f, f_prime , x0)\n",
    "    rel_error = numpy.abs(result[1] - exact) / numpy.abs(exact)\n",
    "    fig = plt.figure()\n",
    "    axes = fig.add_subplot(1, 1, 1)\n",
    "    axes.plot(rel_error, 'o')\n",
    "    axes.set_title('Newton Method with a = ' + str(a) + ' b = ' + str(b))\n",
    "    axes.set_xlabel('Iteration')\n",
    "    axes.set_ylabel('Relative Error')\n",
    "    plt.show()"
   ]
  },
  {
   "cell_type": "markdown",
   "metadata": {
    "deletable": false,
    "editable": false,
    "nbgrader": {
     "cell_type": "markdown",
     "checksum": "2df03ce3234624a2a1c2d6b521634126",
     "grade": false,
     "grade_id": "cell-688d9772c0ee0353",
     "locked": true,
     "schema_version": 3,
     "solution": false,
     "task": false
    }
   },
   "source": [
    "**(d)** [4] Briefly explain your results so far for all the methods.  Feel free to play with other initial parameters or to make additional plots.  "
   ]
  },
  {
   "cell_type": "markdown",
   "metadata": {
    "deletable": false,
    "nbgrader": {
     "cell_type": "markdown",
     "checksum": "2fd45f3d0ef415e1263944f18cb82175",
     "grade": true,
     "grade_id": "cell-0d30efbc8418cd82",
     "locked": false,
     "points": 4,
     "schema_version": 3,
     "solution": true,
     "task": false
    }
   },
   "source": [
    "YOUR ANSWER HERE"
   ]
  },
  {
   "cell_type": "markdown",
   "metadata": {
    "deletable": false,
    "editable": false,
    "nbgrader": {
     "cell_type": "markdown",
     "checksum": "db197de596ae1a5191790bc36a15b67c",
     "grade": false,
     "grade_id": "cell-b46861a6140bb51d",
     "locked": true,
     "schema_version": 3,
     "solution": false,
     "task": false
    }
   },
   "source": [
    "**(e)** [6] Write a controlled Newton routine `NewtSafe`,  that finds a root with an initial bracket by combining newton steps with a bisection routine.  The basic algorithm is to first try Newton from the midpoint of the bracket.  If Newton predicts a solution outside of the bracket, ignore it and take a bisection step instead.  You can use and modify any of the rootfinding routines I presented in class, but write a decent docstring and raise appropriate exceptions as necessary. \n",
    "\n",
    "The routine should return the best estimate of the root and number of Newton Steps and the number of bisection steps\n",
    "\n",
    "`x, N_newt, N_bisection = newtsafe(f, f_prime, a, b)`"
   ]
  },
  {
   "cell_type": "code",
   "execution_count": null,
   "metadata": {
    "deletable": false,
    "nbgrader": {
     "cell_type": "code",
     "checksum": "c064de33e8e33bb749259d97e0fb04a1",
     "grade": false,
     "grade_id": "cell-a20f6d1abec7c19d",
     "locked": false,
     "schema_version": 3,
     "solution": true,
     "task": false
    }
   },
   "outputs": [],
   "source": [
    "def newtsafe(f,f_prime,a,b,tol = 1.e-6, max_steps=1000):\n",
    "    \"\"\" Please improve this docstring\n",
    "        \n",
    "    \n",
    "    Parameters:\n",
    "    -----------\n",
    "    \n",
    "    f: function (float)\n",
    "        function returning f(x)\n",
    "    f_prime:  function (float)\n",
    "        function returning derivative of f with respect to x\n",
    "    a: float\n",
    "        left bracket a < x\n",
    "    b: float\n",
    "        right bracket x < b\n",
    "        \n",
    "        Note:  the signs of f(a) and f(b) must be different to insure a bracket\n",
    "    tol: float\n",
    "        tolerance.  Returns when |f(x)| < tol\n",
    "    max_steps: int\n",
    "        maximum number of iteration steps\n",
    "        \n",
    "    Returns:\n",
    "    --------\n",
    "    x: float\n",
    "        midpoint of final bracket\n",
    "    n_newt:  number of newton steps for successful newton iteration\n",
    "    n_bisection: number of bisection steps\n",
    "        \n",
    "    Raises:\n",
    "    -------\n",
    "    ValueError:  \n",
    "        if initial bracket is invalid \n",
    "    Warning: \n",
    "        if number of iterations exceed MAX_STEPS\n",
    "    Prints warning if Newton exceeds the bracket\n",
    "    \n",
    "    \"\"\"\n",
    "# YOUR CODE HERE\n",
    "raise NotImplementedError()\n"
   ]
  },
  {
   "cell_type": "code",
   "execution_count": null,
   "metadata": {},
   "outputs": [],
   "source": [
    "# you can play with your code here"
   ]
  },
  {
   "cell_type": "code",
   "execution_count": null,
   "metadata": {
    "deletable": false,
    "editable": false,
    "nbgrader": {
     "cell_type": "code",
     "checksum": "a0fc4358c1096461564e6e35cea822ab",
     "grade": true,
     "grade_id": "cell-7cdbdbda9ca86f82",
     "locked": true,
     "points": 6,
     "schema_version": 3,
     "solution": false,
     "task": false
    }
   },
   "outputs": [],
   "source": [
    "# Testing Cell\n",
    "from  rootfinding_optimization_schemes import newton\n",
    "from scipy.optimize import root_scalar\n",
    "\n",
    "a = 27\n",
    "b = 50\n",
    "A = 0.3\n",
    "f = lambda x: numpy.cos(x) + A*(numpy.sin(a * x) + numpy.sin(b * x))\n",
    "f_prime = lambda x: -numpy.sin(x) + A*(a*numpy.cos(a * x) + b*numpy.cos(b * x))\n",
    "\n",
    "pi = numpy.pi\n",
    "\n",
    "brackets = [ \n",
    "            (-0.68309670780092, 2.642524050776319),\n",
    "            (-0.7104536143852529, 3.8152626763086603),\n",
    "            (-0.5236057894835726, 3.9067882124238986),\n",
    "            (-0.5275356434135271, 2.4988039593212776),\n",
    "            (-0.3534683303763972, 3.9130408021252014)\n",
    "           ]\n",
    "\n",
    "for bracket in brackets:\n",
    "    #a = numpy.random.uniform(low=-pi/4, high=pi/4)\n",
    "    #b = numpy.random.uniform(low=3*pi/4, high=5*pi/4)\n",
    "    a = bracket[0]\n",
    "    b = bracket[1]\n",
    "    x_n, x_array = newton(f, f_prime, (a + b)/2.)\n",
    "    x_ns, N_n, N_b = newtsafe(f, f_prime, a, b)\n",
    "    sol = root_scalar(f, bracket=(a, b),method='brentq')\n",
    "    print('Bracket  = [{}, {}]'.format(a, b))\n",
    "    print('Newton   = {},    N   = {}'.format(x_n, len(x_array)-1))\n",
    "    print('NewtSafe = {},    N_n = {}, N_b = {}'.format(x_ns, N_n, N_b))\n",
    "    print('brentq   = {},    N   = {}'.format(sol.root, sol.iterations))\n",
    "    print()\n",
    "    numpy.testing.assert_almost_equal(x_ns, sol.root,decimal=5)\n",
    "    \n",
    "try:\n",
    "    x_ns, N_n, N_b = newtsafe(f, f_prime, 1.6, 2.0)\n",
    "except ValueError as err:\n",
    "    print(err)\n",
    "    pass\n",
    "\n",
    "print('success!')\n"
   ]
  },
  {
   "cell_type": "markdown",
   "metadata": {
    "deletable": false,
    "editable": false,
    "nbgrader": {
     "cell_type": "markdown",
     "checksum": "6ff9cfc557769fb0e0cd3151689d9310",
     "grade": false,
     "grade_id": "cell-508420840igovo948yh23",
     "locked": true,
     "schema_version": 3,
     "solution": false
    }
   },
   "source": [
    "## Question 3 - Solve a \"real\" rootfinding problem\n",
    "\n",
    "In Homework 2, I asked you to *estimate* the number of terms in the taylor expansion of $e^x$ such that the relative error was less than $\\epsilon_{mach}$.  This was essentially a non-linear problem in the number of steps $n$.  Here we will use a rootfinder to get this number more precisely."
   ]
  },
  {
   "cell_type": "markdown",
   "metadata": {
    "deletable": false,
    "editable": false,
    "nbgrader": {
     "cell_type": "markdown",
     "checksum": "0c5da29bd8798f54998030d92df5ac1d",
     "grade": false,
     "grade_id": "cell-3f4f0535e4abc84f",
     "locked": true,
     "schema_version": 3,
     "solution": false,
     "task": false
    }
   },
   "source": [
    "**(a)** [8] provide a numerical solution for the number of terms $n$ in the Taylor polynomial expansion of exp(x) (i.e. $T_N(x))$ such that the relative error is\n",
    "\n",
    "$$\n",
    "    r = \\left| \\frac{x^{n+1}}{(n + 1)!} \\right| \\approx \\epsilon_{mach}\n",
    "$$ \n",
    "\n",
    "Give solutions for x = 0.1, 1., 10. ,100. , 709., 1000. and compare your numerical solution to the approximate solution given in last homework \n",
    "\n",
    "$$\n",
    "    n > e*x\n",
    "$$\n",
    "\n",
    "by calculating the relative error between the your numerical solution and your simpler estimate.\n",
    "\n",
    "Note: To make this problem easier, just use Stirling’s approximation $\\log(n!) \\approx n \\log n − n$. which will work quite well.  However, for a little bit of extra credit solve this for the full problem and compare solutions.\n"
   ]
  },
  {
   "cell_type": "markdown",
   "metadata": {
    "deletable": false,
    "nbgrader": {
     "cell_type": "markdown",
     "checksum": "b68b95d0b33a72562c80bc1c8831d3ac",
     "grade": true,
     "grade_id": "cell-8fc4ebbf43da6dff",
     "locked": false,
     "points": 4,
     "schema_version": 3,
     "solution": true,
     "task": false
    }
   },
   "source": [
    "YOUR ANSWER HERE"
   ]
  },
  {
   "cell_type": "code",
   "execution_count": null,
   "metadata": {
    "deletable": false,
    "nbgrader": {
     "cell_type": "code",
     "checksum": "11099c9f28135df32eed257aca68662a",
     "grade": true,
     "grade_id": "cell-963aac8426927a48",
     "locked": false,
     "points": 4,
     "schema_version": 3,
     "solution": true,
     "task": false
    }
   },
   "outputs": [],
   "source": [
    "# YOUR CODE HERE\n",
    "raise NotImplementedError()"
   ]
  }
 ],
 "metadata": {
  "kernelspec": {
   "display_name": "base",
   "language": "python",
   "name": "python3"
  },
  "language_info": {
   "codemirror_mode": {
    "name": "ipython",
    "version": 3
   },
   "file_extension": ".py",
   "mimetype": "text/x-python",
   "name": "python",
   "nbconvert_exporter": "python",
   "pygments_lexer": "ipython3",
   "version": "3.11.7"
  }
 },
 "nbformat": 4,
 "nbformat_minor": 4
}
