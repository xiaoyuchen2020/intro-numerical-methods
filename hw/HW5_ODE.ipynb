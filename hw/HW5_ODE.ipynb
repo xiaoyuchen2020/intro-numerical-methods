{
 "cells": [
  {
   "cell_type": "code",
   "execution_count": 1,
   "metadata": {},
   "outputs": [],
   "source": [
    "from __future__ import print_function\n",
    "%matplotlib inline\n",
    "%precision 16\n",
    "import numpy\n",
    "import matplotlib.pyplot as plt\n",
    "from scipy.integrate import solve_ivp\n",
    "\n",
    "from stability_diagrams import plot_stability_ssms\n",
    "from stability_diagrams import plot_stability_lmm"
   ]
  },
  {
   "cell_type": "markdown",
   "metadata": {
    "deletable": false,
    "editable": false,
    "nbgrader": {
     "cell_type": "markdown",
     "checksum": "9d5d2b9b0032a51cbbd23829dbd4fb26",
     "grade": false,
     "grade_id": "cell-6282430347078978",
     "locked": true,
     "schema_version": 3,
     "solution": false
    }
   },
   "source": [
    "# HW 5:  ODE Methods - Initial Value Problems\n",
    "\n",
    "These questions will use a mixture of scipy routines and hand-rolled ODE solver methods (which you can use from the notes)"
   ]
  },
  {
   "cell_type": "markdown",
   "metadata": {
    "deletable": false,
    "editable": false,
    "nbgrader": {
     "cell_type": "markdown",
     "checksum": "6d3f50205a301f054a0661bf8eccf775",
     "grade": false,
     "grade_id": "cell-97c426ce43130f77",
     "locked": true,
     "schema_version": 3,
     "solution": false,
     "task": false
    }
   },
   "source": [
    "## Question 1 - The SIR model for Infectious diseases\n",
    "\n",
    "ODE based models are a classical approach to understanding the spread of infectious diseases.\n",
    "\n",
    "One of the pioneering models is the SIR model of [Kermack and McKendrick, (1927)](https://royalsocietypublishing.org/doi/10.1098/rspa.1927.0118) which is a mean-field theory for large populations that assumes the general population can be divided into three subgroups\n",
    "\n",
    "* $S$: the number of susceptible patients\n",
    "* $I$: the number of infected patients\n",
    "* $R$: the number of recovered (or otherwise) patients\n",
    "\n",
    "Given these definitions, the simplest dynamical systems for the three populations can be written\n",
    "\n",
    "$$\n",
    "\\begin{aligned}\n",
    "\\frac{d S}{dt} &= -\\alpha SI \\\\\n",
    "\\frac{d I}{dt} &= \\alpha SI -\\beta I\\\\\n",
    "\\frac{d R}{dt} &= \\beta I \\\\\n",
    "\\end{aligned}\n",
    "$$\n",
    "\n",
    "where $\\alpha$ is the infection rate per person, and $\\beta$ is the recovery rate (hint: check the units) \n",
    "\n",
    "This is the original Kermack and McKendrick model.  We will discuss a host of themes and variations later.  If you are interested [Siettos and Russo, (2013)](https://doi.org/10.4161/viru.24041) provides a short overview of the much larger field of epidemiology modeling (although this paper has some significant mistakes with respect to the analysis of the Kermack and McKendrick model, and I'm sure there are considerably more papers on modeling epidemics now).\n",
    "\n",
    "We will explore this problem through a combination of Analysis and Numerical methods and to use it to test different methods for ODE solvers.\n"
   ]
  },
  {
   "cell_type": "markdown",
   "metadata": {
    "deletable": false,
    "editable": false,
    "nbgrader": {
     "cell_type": "markdown",
     "checksum": "9d56e0a3dcd650ebafd65482f9f8284c",
     "grade": false,
     "grade_id": "cell-d57d5cccd5fe437a",
     "locked": true,
     "schema_version": 3,
     "solution": false,
     "task": false
    }
   },
   "source": [
    "**(a)** [4] First try to explain in words,  what this system of ODE's describes"
   ]
  },
  {
   "cell_type": "markdown",
   "metadata": {
    "deletable": false,
    "hide_input": true,
    "nbgrader": {
     "cell_type": "markdown",
     "checksum": "3a50bb5fe5e3cea6be689f0f83eba3d5",
     "grade": true,
     "grade_id": "cell-78f1cbd4419916a6",
     "locked": false,
     "points": 4,
     "schema_version": 3,
     "solution": true,
     "task": false
    }
   },
   "source": [
    "We assume everyone in the population is categorized in one of the groups: susceptible, infected, and recovered. The susceptibles can become infected, and the infected can become recovered. The rate of infection in susceptibles is proportional to the product of current number of susceptibles and infected patients. The rate of infected patients recovering is proportional to the number of infections. The rate of changes in number of infected patients is then the rate of infection minus the rate of recovering. "
   ]
  },
  {
   "cell_type": "markdown",
   "metadata": {
    "deletable": false,
    "editable": false,
    "nbgrader": {
     "cell_type": "markdown",
     "checksum": "560e626bedbdf30b4de0409b4266bb04",
     "grade": false,
     "grade_id": "cell-c02805feb94b785b",
     "locked": true,
     "schema_version": 3,
     "solution": false,
     "task": false
    }
   },
   "source": [
    "### Some analysis.  \n",
    "\n",
    "Here we will conduct some elementary dimensional analysis to reduce the parameter space.  More detailed analysis of this system can be found  in Steve Strogatz' excellent text on [dynamical systems](https://smile.amazon.com/Nonlinear-Dynamics-Chaos-Applications-Nonlinearity/dp/0813349109/ref=dp_ob_image_bk)"
   ]
  },
  {
   "cell_type": "markdown",
   "metadata": {
    "deletable": false,
    "editable": false,
    "nbgrader": {
     "cell_type": "markdown",
     "checksum": "e0ff12772c25324e8cf54b989bfe15a1",
     "grade": false,
     "grade_id": "cell-28b8298c72a5a12c",
     "locked": true,
     "schema_version": 3,
     "solution": false,
     "task": false
    }
   },
   "source": [
    "**(b)** [2] Show that the SIR equations imply that   $S + I + R = N$  where $N$ is a constant (the total population of susceptible people that can all interact)"
   ]
  },
  {
   "cell_type": "markdown",
   "metadata": {
    "deletable": false,
    "nbgrader": {
     "cell_type": "markdown",
     "checksum": "f2f763bc3313b8cace5cadf627a502d3",
     "grade": true,
     "grade_id": "cell-0faef9786658c554",
     "locked": false,
     "points": 2,
     "schema_version": 3,
     "solution": true,
     "task": false
    }
   },
   "source": [
    "We have \n",
    "\\begin{align*}\n",
    "\\frac{dS}{dt} + \\frac{dI}{dt} + \\frac{dR}{dt}  &= \\frac{d(S + I + R)}{dt} \\\\ \n",
    "&= -\\alpha SI + \\alpha SI - \\beta I + \\beta I \\\\\n",
    "&= 0. \n",
    "\\end{align*}\n",
    "By integrating both sides respect to $t$, we get \n",
    "\\begin{align*}\n",
    "\\frac{d(S + I + R)}{dt} dt\n",
    "&= S + I + R \\\\\n",
    "&= N, \n",
    "\\end{align*}\n",
    "which is a constant. "
   ]
  },
  {
   "cell_type": "markdown",
   "metadata": {
    "deletable": false,
    "editable": false,
    "nbgrader": {
     "cell_type": "markdown",
     "checksum": "3a58cb6d7898d03ebb9587b9b4fda4b1",
     "grade": false,
     "grade_id": "cell-b89ec7cd57121b35",
     "locked": true,
     "schema_version": 3,
     "solution": false,
     "task": false
    }
   },
   "source": [
    "**(c)**  [4] Show that under  the change of variables (linear scaling of the variables)\n",
    "\n",
    "$$\n",
    "\\begin{matrix}\n",
    "    S = N s, & I = Ni, & R = Nr, & t = \\tau\\frac{1}{\\alpha N} \\\\\n",
    "\\end{matrix}\n",
    "$$\n",
    "\n",
    "The original equations can be rewritten as the scaled equations \n",
    "\n",
    "$$\n",
    "\\begin{align}\n",
    "    \\frac{d s}{d\\tau} &= -si\\\\\n",
    "    \\frac{d i}{d\\tau} &= (s - s^*)i  \\\\\n",
    "    \\frac{d r}{d\\tau} & = s^* i \\\\\n",
    "\\end{align}\n",
    "$$\n",
    "\n",
    "where \n",
    "$$\n",
    "    s^* = \\frac{\\beta}{\\alpha N}\n",
    "$$\n",
    "\n",
    "\n",
    "\n",
    "**Notes**,  \n",
    "* if we write $s = S/N$ etc. then $s$ is simply the fraction of the total population that is susceptible.  \n",
    "* Also show that $s + i + r = 1$.\n",
    "* this scaling reduces a two-parameter problem to a one parameter problem where the only variable is $s^*$\n",
    "\n"
   ]
  },
  {
   "cell_type": "markdown",
   "metadata": {
    "deletable": false,
    "nbgrader": {
     "cell_type": "markdown",
     "checksum": "8c3c68b4bd0e77099fcee9fcae1a50a3",
     "grade": true,
     "grade_id": "cell-6f14e3bb8e908989",
     "locked": false,
     "points": 4,
     "schema_version": 3,
     "solution": true,
     "task": false
    }
   },
   "source": [
    "Using the chain rule, \n",
    "\\begin{align*}\n",
    "    \\frac{ds}{d\\tau} &= \\frac{ds}{dS} \\cdot \\frac{dS}{dt} \\cdot \\frac{dt}{d\\tau} \\\\ \n",
    "    &= \\frac{1}{N} \\cdot (-\\alpha N s \\cdot N i) \\cdot \\frac{1}{\\alpha N} \\\\ \n",
    "    &= -si. \n",
    "\\end{align*}\n",
    "Similarly, let $s^{*}i = \\frac{\\beta}{\\alpha N}$, we have \n",
    "\\begin{align*}\n",
    "    \\frac{di}{d\\tau} &= \\frac{di}{dI} \\cdot \\frac{dI}{dt} \\cdot \\frac{dt}{d\\tau} \\\\ \n",
    "    &= \\frac{1}{N} \\cdot (\\alpha N s \\cdot N i - \\beta N i) \\cdot \\frac{1}{\\alpha N} \\\\ \n",
    "    &= si - \\frac{\\beta}{\\alpha N} i \\\\\n",
    "    &= (s - s^{*})i. \n",
    "\\end{align*}\n",
    "\n",
    "\\begin{align*}\n",
    "    \\frac{dr}{d\\tau} &= \\frac{dr}{dR} \\cdot \\frac{dR}{dt} \\cdot \\frac{dt}{d\\tau} \\\\ \n",
    "    &= \\frac{1}{N} \\cdot (\\beta N i) \\cdot \\frac{1}{\\alpha N} \\\\ \n",
    "    &= \\frac{\\beta}{\\alpha N} i \\\\\n",
    "    &= s^{*}i. \n",
    "\\end{align*}"
   ]
  },
  {
   "cell_type": "markdown",
   "metadata": {
    "deletable": false,
    "editable": false,
    "nbgrader": {
     "cell_type": "markdown",
     "checksum": "17cba206e05e72a92b6b537e5e13f9f4",
     "grade": false,
     "grade_id": "cell-46af647b89cac330",
     "locked": true,
     "schema_version": 3,
     "solution": false,
     "task": false
    }
   },
   "source": [
    "**(d)**  [2] Given that $s^*$ is a constant that only depends on the infection rate per capita $\\alpha$, the recovery rate $\\beta$ and the total population $N$,  interpret the equation for the change in the number of infections\n",
    "\n",
    "$$\n",
    "    \\frac{d i}{d\\tau} = (s - s^*) i\n",
    "$$\n",
    "as a function of the susceptible fraction of the population $s$."
   ]
  },
  {
   "cell_type": "markdown",
   "metadata": {
    "deletable": false,
    "nbgrader": {
     "cell_type": "markdown",
     "checksum": "ab726ca04cc86cb954bcf52e38069414",
     "grade": true,
     "grade_id": "cell-40ede972a75cd41a",
     "locked": false,
     "points": 2,
     "schema_version": 3,
     "solution": true,
     "task": false
    }
   },
   "source": [
    "We can see that when the population of susceptibles is large, such that $s > s^{*}$, the change in the number of infections is positive, meaning a increase in the number of infections. When the number of susceptibles is low, such that $s < s^{*}$, the number of infected patients decreases. When $s = s^{*}$, the number of infections keeps the same. "
   ]
  },
  {
   "cell_type": "markdown",
   "metadata": {
    "deletable": false,
    "editable": false,
    "nbgrader": {
     "cell_type": "markdown",
     "checksum": "f14f45e92d83b36ddd331cadf0135ee5",
     "grade": false,
     "grade_id": "cell-4ecd957efe129fa5",
     "locked": true,
     "schema_version": 3,
     "solution": false,
     "task": false
    }
   },
   "source": [
    "### Numerical Methods\n",
    "\n",
    "we will now explore the behavior of this model numerically using a range of our basic algorithms by solving the scaled dynamical system\n",
    "\n",
    "$$\n",
    "    \\frac{d\\mathbf{u}}{dt} = \\mathbf{F}(t,\\mathbf{u}, s^*),\\quad\\mathbf{u}(0)=\\mathbf{u}_0\n",
    "$$\n",
    "\n",
    "where \n",
    "$$\n",
    "    \\mathbf{u} = \\begin{bmatrix} s \\\\ i \\\\ r \\\\ \\end{bmatrix}, \\quad \n",
    "    \\mathbf{F}(t,\\mathbf{u},s^*) = \\begin{bmatrix} -si \\\\ (s - s^*)i \\\\ s^*i \\\\ \\end{bmatrix}\n",
    "$$"
   ]
  },
  {
   "cell_type": "markdown",
   "metadata": {},
   "source": [
    "**(e)** [4] Write function to return the RHS of the scaled dynamical system $\\mathbf{F}(t,\\mathbf{u},s^*)$ as a numpy array"
   ]
  },
  {
   "cell_type": "code",
   "execution_count": 2,
   "metadata": {
    "deletable": false,
    "hide_input": false,
    "nbgrader": {
     "cell_type": "code",
     "checksum": "97094ce0210c5618cf05d1e6a2782f90",
     "grade": false,
     "grade_id": "cell-262f28b1e5913ee6",
     "locked": false,
     "schema_version": 3,
     "solution": true,
     "task": false
    }
   },
   "outputs": [],
   "source": [
    "def F(t, u, s_star):\n",
    "    \"\"\" RHS of scaled SIR model of Kermack and McKendrick\n",
    "    \n",
    "    parameters\n",
    "    ----------\n",
    "        t: float\n",
    "            time (just a dummy variable here because this is an autonomous system)\n",
    "        u: numpy array\n",
    "            array of scaled [ s, i, r ] values such that sum(u) = 1 \n",
    "            (and s,i, r are fractions of the total population N)\n",
    "        s_star: float\n",
    "            scaled critical susceptible population = \\beta/(\\alpha N)\n",
    "            \n",
    "    returns:\n",
    "        F(u): numpy array\n",
    "    \"\"\"\n",
    "    s, i, r = u\n",
    "    return numpy.array([-s * i, (s - s_star) * i, s_star * i])"
   ]
  },
  {
   "cell_type": "code",
   "execution_count": 3,
   "metadata": {
    "deletable": false,
    "editable": false,
    "hide_input": false,
    "nbgrader": {
     "cell_type": "code",
     "checksum": "12fac581407142514fda702e3b5a978b",
     "grade": true,
     "grade_id": "cell-072d933c0fd03951",
     "locked": true,
     "points": 4,
     "schema_version": 3,
     "solution": false,
     "task": false
    }
   },
   "outputs": [
    {
     "name": "stdout",
     "output_type": "stream",
     "text": [
      "success!\n"
     ]
    }
   ],
   "source": [
    "# Let's assume the critical level of immunity is 60% of the total population\n",
    "s_star = 0.6\n",
    "\n",
    "# let there initially be .01 % infected cases and no recovered\n",
    "t = 0.\n",
    "i_0 = 1.e-4\n",
    "u_0 = numpy.array([1. - i_0, i_0, 0.0])\n",
    "answer = numpy.array([-9.999000000000001e-05,  3.999000000000001e-05, 6.000000000000000e-05])\n",
    "numpy.testing.assert_allclose(F(t, u_0, s_star), answer)\n",
    "print('success!')"
   ]
  },
  {
   "cell_type": "markdown",
   "metadata": {
    "deletable": false,
    "editable": false,
    "nbgrader": {
     "cell_type": "markdown",
     "checksum": "64ffff86196353c50fb6c93bd75d374e",
     "grade": false,
     "grade_id": "cell-4822191656183239434",
     "locked": true,
     "schema_version": 3,
     "solution": false
    }
   },
   "source": [
    "**(f)** [10] Use scipy.integrate.solve_ivp (imported above as solve_ivp),  to solve the scaled dynamical system above with for <font color=\"red\">$s^* = 0.6$</font> and initial condition\n",
    "\n",
    "$$\n",
    "    \\mathbf{u}_0 = \\begin{bmatrix} 1 - i_0\\\\ i_0 \\\\ 0\\\\ \\end{bmatrix}\n",
    "$$\n",
    "\n",
    "where $i_0=10^{-5}$ is the initially infected proportion of the available population $N$\n",
    "\n",
    "Integrate for $t\\in[0, 50]$ and make a plot showing the evolution of $s(t)$, $i(t)$, ${r}(t)$ vs. time \n",
    "\n",
    "**For full credit your plot should show the following**\n",
    "* show the actual time-steps chosen by the adaptive solver as well as a smooth solution (use dense_output=True) \n",
    "* the total cumulative number of cases at any time\n",
    "* the time and infection level of the peak of the infection (hint: use the `events`, feature of solve_ivp)\n",
    "* the maximum fraction of people infected\n",
    "\n",
    "Explore the behavior of the solutions as a function of $s^*$ and $i_0$ and try to \"flatten the curve\" (we will try to make that more quantitative later). Also,  explore relative and absolute tolerances to convince yourself that your solutions are well resolved."
   ]
  },
  {
   "cell_type": "code",
   "execution_count": 4,
   "metadata": {
    "deletable": false,
    "hide_input": false,
    "nbgrader": {
     "cell_type": "code",
     "checksum": "f2bf5e8f1c26302e22265c386e195c9b",
     "grade": true,
     "grade_id": "cell-2d91985a44491d34",
     "locked": false,
     "points": 10,
     "schema_version": 3,
     "solution": true,
     "task": false
    }
   },
   "outputs": [
    {
     "data": {
      "image/png": "[encoded data removed]",
      "text/plain": [
       "<Figure size 640x480 with 1 Axes>"
      ]
     },
     "metadata": {},
     "output_type": "display_data"
    },
    {
     "name": "stdout",
     "output_type": "stream",
     "text": [
      "Actual time step =  0.12232249858172807\n",
      "Maximum fraction of infected individuals =  0.09353597574923649\n"
     ]
    }
   ],
   "source": [
    "def peak_I(t, u, s_star):\n",
    "    return u[0] - s_star\n",
    "\n",
    "i0 = (10.)**(-5)\n",
    "u0 = numpy.array([1. - i0, i0, 0.])\n",
    "\n",
    "sol = solve_ivp(F, (0., 50.), u0, args=(s_star, ), dense_output=True, events=peak_I, rtol=1.e-3,atol=1.e-8)\n",
    "\n",
    "t = numpy.linspace(0., 50., 1000)\n",
    "z = sol.sol(t)\n",
    "\n",
    "fig = plt.figure()\n",
    "axes = fig.add_subplot(1, 1, 1)\n",
    "\n",
    "axes.plot(t, z[0], label='s', color='blue')\n",
    "axes.plot(t, z[1], label='i', color='red')\n",
    "axes.plot(t, z[2], label='r', color='green')\n",
    "axes.plot(t, z[1] + z[2], label='Cumulative i', color='black')\n",
    "axes.plot(sol.t_events[0], sol.y_events[0][0][1], 'ro', label=f'Peak i = {sol.y_events[0][0][1]:.2e} at t = {sol.t_events[0][0]:.2e}')\n",
    "\n",
    "axes.set_title('Scaled SIR model')\n",
    "axes.set_xlabel('t')\n",
    "axes.set_ylabel('Fraction of Population')\n",
    "axes.legend()\n",
    "plt.show()\n",
    "\n",
    "print('Actual time step = ', sol.t[1] - sol.t[0])\n",
    "print('Maximum fraction of infected individuals = ', sol.y_events[0][0][1])"
   ]
  },
  {
   "cell_type": "markdown",
   "metadata": {
    "deletable": false,
    "editable": false,
    "nbgrader": {
     "cell_type": "markdown",
     "checksum": "30d412ab682484e13aeb5dafe040b528",
     "grade": false,
     "grade_id": "cell-48221916561834547",
     "locked": true,
     "schema_version": 3,
     "solution": false
    }
   },
   "source": [
    "**(g)** [8] Write your own code to solve the same system using any constant step-size method we discussed in class that is higher than 2nd order (you can use or modify any of the example codes from the notes and make sure it works for vector valued functions.   Your code should be able to use your function $F$ defined above. Make sure to choose a method that will work for the non-linear right-hand-side. We will test it against the output from solve_ivp with N steps uniform steps in $t\\in[0,50]$.  What is the minimum number of steps does your routine take to pass the tests with a relative error of $10^{-4}$ and absolute error of $10^{-5}?.  You can control the number of steps taken with the `N=??` defined at the end of the cell.  **Extra Credit** determine the convergence rate of your method."
   ]
  },
  {
   "cell_type": "code",
   "execution_count": null,
   "metadata": {
    "deletable": false,
    "hide_input": false,
    "nbgrader": {
     "cell_type": "code",
     "checksum": "13e09fcf965c1b3c41354c08f3f10977",
     "grade": false,
     "grade_id": "cell-918222306640123434",
     "locked": false,
     "schema_version": 3,
     "solution": true,
     "task": false
    }
   },
   "outputs": [],
   "source": [
    "def my_ode_solver(f, t_span, u0, N):\n",
    "    \"\"\" implement constant step size ODE integrator using a RK4 method\n",
    "    \n",
    "    parameters\n",
    "    ----------\n",
    "        f: calleable\n",
    "            vector valued function with interface f(t,u) where u is the state vector\n",
    "        t_span: float list or array (or tuple)\n",
    "            array holding range of times to integrate over t_span = [ t_min, t_max]\n",
    "        u0:  numpy array\n",
    "            array of initial conditions\n",
    "        N: integer\n",
    "            number of time steps to take \n",
    "            \n",
    "    returns:\n",
    "    --------\n",
    "        t: numpy array\n",
    "            array of timesteps from t_min to t_max of length N\n",
    "        u: numpy array of shape (len(u0), len(t))\n",
    "            solution array,  the solution at timestep i should be u[:,i]\n",
    "    \"\"\"\n",
    "    \n",
    "    t_min, t_max = t_span\n",
    "    h = (t_max - t_min) / N  # Step size\n",
    "    t = numpy.linspace(t_min, t_max, N+1)  # Time points\n",
    "    u = numpy.zeros((len(u0), len(t)))  # Array to store the solution\n",
    "    u[:, 0] = u0  # Set initial condition\n",
    "\n",
    "    for i in range(N):\n",
    "        # Current time and state\n",
    "        ti = t[i]\n",
    "        ui = u[:, i]\n",
    "\n",
    "        # RK4 steps\n",
    "        k1 = f(ti, ui)\n",
    "        k2 = f(ti + h / 2, ui + h / 2 * k1)\n",
    "        k3 = f(ti + h / 2, ui + h / 2 * k2)\n",
    "        k4 = f(ti + h, ui + h * k3)\n",
    "\n",
    "        # Update next state\n",
    "        u[:, i + 1] = ui + h / 6 * (k1 + 2 * k2 + 2 * k3 + k4)\n",
    "\n",
    "    return t, u\n",
    "\n",
    "N = 101"
   ]
  },
  {
   "cell_type": "code",
   "execution_count": null,
   "metadata": {
    "deletable": false,
    "editable": false,
    "hide_input": false,
    "nbgrader": {
     "cell_type": "code",
     "checksum": "f7be2a6e93a825a99f752ab8e4102652",
     "grade": true,
     "grade_id": "cell-918222306640124",
     "locked": true,
     "points": 8,
     "schema_version": 3,
     "solution": false,
     "task": false
    }
   },
   "outputs": [
    {
     "name": "stdout",
     "output_type": "stream",
     "text": [
      "success!\n"
     ]
    }
   ],
   "source": [
    "s_star = 0.6\n",
    "f = lambda t, u: F(t, u, s_star)\n",
    "\n",
    "t_span = [0., 50.]\n",
    "i_0 = 1.e-5\n",
    "u_0 = numpy.array([1. - i_0, i_0, 0.0])\n",
    "\n",
    "\n",
    "t, u = my_ode_solver(f, t_span, u_0, N)\n",
    "\n",
    "# There was a hidden line here implementing sol = solve_ivp to get the \"True\" solution\n",
    "sol = solve_ivp(f, t_span, u_0, method='RK45', dense_output=True, rtol=1.e-6, atol = 1.e-8)\n",
    "\n",
    "numpy.testing.assert_allclose(u, sol.sol(t), rtol=1.e-4, atol=1.e-5)\n",
    "print('success!')"
   ]
  },
  {
   "cell_type": "markdown",
   "metadata": {
    "deletable": false,
    "editable": false,
    "nbgrader": {
     "cell_type": "markdown",
     "checksum": "206ea91d42a6ed18738f8eb5e410ac6a",
     "grade": false,
     "grade_id": "cell-72ea6dc8a2813be7",
     "locked": true,
     "schema_version": 3,
     "solution": false,
     "task": false
    }
   },
   "source": [
    "**(h)** [2] Reproduce your figure from the scipy version (without events)"
   ]
  },
  {
   "cell_type": "code",
   "execution_count": null,
   "metadata": {
    "deletable": false,
    "hide_input": false,
    "nbgrader": {
     "cell_type": "code",
     "checksum": "c7fbad01da98f1196ea96430b8c5cf0e",
     "grade": true,
     "grade_id": "cell-9182223066423o434",
     "locked": false,
     "points": 2,
     "schema_version": 3,
     "solution": true,
     "task": false
    }
   },
   "outputs": [],
   "source": []
  },
  {
   "cell_type": "markdown",
   "metadata": {
    "deletable": false,
    "editable": false,
    "nbgrader": {
     "cell_type": "markdown",
     "checksum": "d274a3b7092e944b682f734b980362b3",
     "grade": false,
     "grade_id": "cell-062d990b667d61f1",
     "locked": true,
     "schema_version": 3,
     "solution": false,
     "task": false
    }
   },
   "source": [
    "###  Themes and Variations -- Some project ideas\n",
    "\n",
    "The classical Kermack and McKendric model is only one of a vast set of models used to model the spread of infection disease but assumes homogeneous mixing across the entire population.  In addition there are lots of things  to explore with even the simplest SIR model.   If you are interested in this sort of ODE model as a possible project, here are a few things you might want to explore\n",
    "\n",
    "\n",
    "* Choose a fixed value of $N$ for the maximum susceptible population. Assume that maximum hospital capacity is achieved when the number of infected patients reaches $i_{max}$.  Construct a root-finding problem to find the value of $s^*$ required to keep  the peak number of infected cases $i_{peak} <= i_{max}$. \n",
    "\n",
    "* Consider the possibility of re-infection (ugh!).  One model of this assumes that recovered patients can become susceptible again at some rate $\\lambda$.  Modify the original SIR model to include this possibility and construct a new scaled set of equations.  This will now be a 2 parameter dynamical system ($s^*$ and another parameter say $\\lambda^*$.  Explore the behavior of this new problem.\n",
    "\n",
    "* Develop a model that includes the effects of vaccinations\n",
    "\n",
    "* Show that the original SIR model allows at most one peak in infections.  Then try to construct a better model that allows multiple peaks.\n",
    "\n",
    "* Read [Siettos and Russo, (2013)](https://doi.org/10.4161/viru.24041) (or find a better paper) which reviews a range of epidemiology models including Stochastic SIR models. Wikipedia also has several pages on modeling epidemics ([here](https://en.wikipedia.org/wiki/Compartmental_models_in_epidemiology) , and [here](https://en.wikipedia.org/wiki/Mathematical_modelling_of_infectious_disease)) Pick another model, implement it and compare it's behavior with the basic SIR model.\n",
    "\n",
    "* Something Numerical: Write an adaptive time stepper built around any two single-step multi-stage schemes and compare your solution to solve_ivp.\n",
    "\n",
    "* Your own best ideas!\n",
    "\n"
   ]
  },
  {
   "cell_type": "markdown",
   "metadata": {
    "deletable": false,
    "editable": false,
    "nbgrader": {
     "cell_type": "markdown",
     "checksum": "f82640bdadf4ecd7d32406fba71374a3",
     "grade": false,
     "grade_id": "cell-c54586fa263cc449",
     "locked": true,
     "schema_version": 3,
     "solution": false,
     "task": false
    }
   },
   "source": [
    "## Question 2 - Absolute Stability Regions Single-Step Multi-stage schemes"
   ]
  },
  {
   "cell_type": "markdown",
   "metadata": {
    "deletable": false,
    "editable": false,
    "nbgrader": {
     "cell_type": "markdown",
     "checksum": "4c43299a2318bf213b6514e7fe8ac79a",
     "grade": false,
     "grade_id": "cell-dd9d7792263258d8",
     "locked": true,
     "schema_version": 3,
     "solution": false,
     "task": false
    }
   },
   "source": [
    "**(a)** [4 pt] Taylor Series method:\n",
    "    \n",
    "Show that $R(z)$ for a Taylor's series method of order $p$ acting on the model problem $u'=\\lambda u$ always just returns the first $p+1$ terms of the Taylor series of $e^z$."
   ]
  },
  {
   "cell_type": "markdown",
   "metadata": {
    "deletable": false,
    "nbgrader": {
     "cell_type": "markdown",
     "checksum": "f5bb5b09ab8d30954162f309886ebf0c",
     "grade": true,
     "grade_id": "cell-1ca065b824f2cbb0",
     "locked": false,
     "points": 4,
     "schema_version": 3,
     "solution": true,
     "task": false
    }
   },
   "source": [
    "A Taylor series method of order $p$ for $u' = \\lambda u$ is given by \n",
    "\\begin{align*}\n",
    "    u(\\Delta t) = u(0 + \\Delta t) = u(0) = \\Delta t \\cdot u'(0) + \\frac{(\\Delta t)^2}{2!} u''(0) + \\cdots + \\frac{(\\Delta t)^p}{p!} u^{(p)}(0) + O((\\Delta t)^{p+1}). \n",
    "\\end{align*}\n",
    "Using $u' = \\lambda u$ and $u(0) = U_0$, \n",
    "\\begin{align*}\n",
    "    U(\\Delta t) &= U_0 + \\lambda \\Delta t \\cdot U_0 + \\frac{(\\lambda t)^2}{2!} \\cdot U_0 + \\cdots + \\frac{(\\lambda \\Delta t)^p}{p!} + O((\\Delta t)^{p+1}) \\\\ \n",
    "    &= U_0 \\cdot (1 + \\lambda \\Delta t + \\frac{(\\lambda \\Delta t)^2}{2!} + \\cdots + \\frac{(\\lambda \\Delta t)^p}{p!}) + O((\\Delta t)^{p+1}) \\\\ \n",
    "    &= R(z) U_0. \n",
    "\\end{align*}\n",
    "Thus, with $z = \\lambda \\Delta t$, \n",
    "\\begin{align*}\n",
    "    R(z) = 1 + z + \\frac{z^2}{2!} + \\cdots + \\frac{z^p}{p!}, \n",
    "\\end{align*}\n",
    "which is the same as the first $p+1$ terms of Taylor series of $e^z$. "
   ]
  },
  {
   "cell_type": "markdown",
   "metadata": {
    "deletable": false,
    "editable": false,
    "nbgrader": {
     "cell_type": "markdown",
     "checksum": "2d9eb1124c7bc577827b093264976e64",
     "grade": false,
     "grade_id": "cell-273021c1878d0b00",
     "locked": true,
     "schema_version": 3,
     "solution": false,
     "task": false
    }
   },
   "source": [
    "**(b)** [4 pt] Plot the regions of absolute stability for Taylor Series methods of order 2-5\n",
    "\n",
    "You can use the plotting codes given in class and included in the file stability_diagrams.py which are imported in the first cell"
   ]
  },
  {
   "cell_type": "code",
   "execution_count": 5,
   "metadata": {
    "deletable": false,
    "nbgrader": {
     "cell_type": "code",
     "checksum": "b1a3a886fcf13a05d017a97dbe14733a",
     "grade": true,
     "grade_id": "cell-9c688399c72e251a",
     "locked": false,
     "points": 4,
     "schema_version": 3,
     "solution": true,
     "task": false
    }
   },
   "outputs": [
    {
     "data": {
      "image/png": "[encoded data removed]",
      "text/plain": [
       "<Figure size 1200x1200 with 8 Axes>"
      ]
     },
     "metadata": {},
     "output_type": "display_data"
    }
   ],
   "source": [
    "x = numpy.linspace(-3,3,100)\n",
    "y = numpy.linspace(-3,3,100)\n",
    "\n",
    "R_Taylor_2 = lambda z: 1 + z + z**2 / 2\n",
    "R_Taylor_3 = lambda z: 1 + z + z**2 / 2 + z**3 / 6 \n",
    "R_Taylor_4 = lambda z: 1 + z + z**2 / 2 + z**3 / 6 + z**4 / 24\n",
    "R_Taylor_5 = lambda z: 1 + z + z**2 / 2 + z**3 / 6 + z**4 / 24 + z**5 / 120\n",
    "\n",
    "continuous=True\n",
    "\n",
    "fig = plt.figure(figsize=(12,12))\n",
    "axes = fig.add_subplot(2,2,1)\n",
    "plot_stability_ssms(R_Taylor_2, x, y, axes=axes, title='Stability of Taylor Series Order $2$', continuous=continuous)\n",
    "\n",
    "axes = fig.add_subplot(2,2,2)\n",
    "plot_stability_ssms(R_Taylor_3, x, y, axes=axes, title='Stability of Taylor Series Order $3$', continuous=continuous)\n",
    "\n",
    "axes = fig.add_subplot(2,2,3)\n",
    "plot_stability_ssms(R_Taylor_4, x, y, axes=axes, title='Stability of Taylor Series Order $4$', continuous=continuous)\n",
    "\n",
    "axes = fig.add_subplot(2,2,4)\n",
    "plot_stability_ssms(R_Taylor_5, x, y, axes=axes, title='Stability of Taylor Series Order $5$', continuous=continuous)"
   ]
  },
  {
   "cell_type": "markdown",
   "metadata": {
    "deletable": false,
    "editable": false,
    "nbgrader": {
     "cell_type": "markdown",
     "checksum": "4cd9edb39602b50c79729aed18509454",
     "grade": false,
     "grade_id": "cell-cf67bcdf6e56f88a",
     "locked": true,
     "schema_version": 3,
     "solution": false,
     "task": false
    }
   },
   "source": [
    "**(b)** [4 pt] Derive $R(z)$ for the RK2 method and show that it is equivalent to Taylor 2\n",
    "\n",
    "**Extra Credit**  show that $R(Z)$ for RK4 is identical to Taylor-4 (in general this is true for explicit RK methods)"
   ]
  },
  {
   "cell_type": "markdown",
   "metadata": {
    "deletable": false,
    "nbgrader": {
     "cell_type": "markdown",
     "checksum": "f8c04e94acf46b8f5bcda7c6529a4263",
     "grade": true,
     "grade_id": "cell-ccd05ce9cfbb3ae0",
     "locked": false,
     "points": 4,
     "schema_version": 3,
     "solution": true,
     "task": false
    }
   },
   "source": [
    "Since for RK2 method, we have\n",
    "\\begin{align*}\n",
    "    U_1 = U_0 + \\Delta t f(U_0 + \\frac{1}{2} \\Delta t f(U_0)), \n",
    "\\end{align*}\n",
    "using $f(u) = \\lambda u$, \n",
    "\\begin{align*}\n",
    "    U_1 &= U_0 + \\Delta t (f(U_0 + \\frac{1}{2} \\lambda \\Delta t U_0) \\\\ \n",
    "    &= U_0 + \\Delta t (\\lambda (U_0 + \\frac{1}{2} \\lambda \\Delta t U_0)) \\\\ \n",
    "    &= U_0 + \\lambda \\Delta t U_0 + \\frac{(\\lambda \\Delta t)^2}{2} U_0 \\\\ \n",
    "    &= U_0 (1 + \\lambda \\Delta t + \\frac{(\\lambda \\Delta t)^2}{2}) \\\\ \n",
    "    &= R(z) U_0, \n",
    "\\end{align*}\n",
    "where \n",
    "\\begin{align*}\n",
    "    R(z) = 1 + z + \\frac{z^2}{2}. \n",
    "\\end{align*}\n",
    "This is the first $3$ terms of Taylor series of $e^z$, proving that $R(z)$ for RK2 is equivalent to Taylor 2. \n",
    "\n",
    "For RK4 method, \n",
    "\\begin{align*}\n",
    "    K_1 = \\Delta t f(t_0, U_0) = \\lambda \\Delta t U_0. \n",
    "\\end{align*}\n",
    "\\begin{align*}\n",
    "    K_2 &= \\Delta t f(t_0 + \\frac{\\Delta t}{2}, U_0 + \\frac{K_1}{2}) \\\\ \n",
    "    &= \\lambda \\Delta t (U_0 + \\frac{\\lambda \\Delta t U_0}{2}) \\\\\n",
    "    &= \\lambda \\Delta t U_0 + \\frac{(\\lambda \\Delta t)^2}{2} U_0. \n",
    "\\end{align*}\n",
    "\\begin{align*}\n",
    "    K_3 &= \\Delta t f(t_0 + \\frac{\\Delta t}{2}, U_0 + \\frac{K_2}{2}) \\\\ \n",
    "    &= \\lambda \\Delta t (U_0 + \\frac{\\lambda \\Delta t U_0 + \\frac{(\\lambda \\Delta t)^2}{2} U_0}{2}) \\\\ \n",
    "    &= \\lambda \\Delta t U_0 + \\frac{(\\lambda \\Delta t)^2}{2} U_0 + \\frac{(\\lambda \\Delta t)^3}{4} U_0. \n",
    "\\end{align*}\n",
    "\\begin{align*}\n",
    "    K_4 &= \\Delta t f(t_0 + \\Delta t, U_0 + K_3) \\\\ \n",
    "    &= \\lambda \\Delta t (U_0 + \\lambda \\Delta t U_0 + \\frac{(\\lambda \\Delta t)^2}{2} U_0 + \\frac{(\\lambda \\Delta t)^3}{4} U_0) \\\\\n",
    "    &= \\lambda \\Delta t U_0 + (\\lambda \\Delta t)^2 U_0 + \\frac{(\\lambda \\Delta t)^3}{2} U_0 + \\frac{(\\lambda \\Delta t)^4}{4} U_0. \n",
    "\\end{align*}\n",
    "Thus, \n",
    "\\begin{align*}\n",
    "    U_1 &= U_0 + \\frac{1}{6}(K_1 + 2 (K_2 + K_3) + K_4) \\\\ \n",
    "    &= U_0 + \\frac{1}{6}(K_1 + K_4 + 4 \\lambda \\Delta t U_0 + 2 (\\lambda \\Delta t)^2 U_0 + \\frac{(\\lambda \\Delta t)^3}{2} U_0 ) \\\\ \n",
    "    &= U_0 + \\frac{1}{6}(2 \\lambda \\Delta t U_0 + (\\lambda \\Delta t)^2 U_0 + \\frac{(\\lambda \\Delta t)^3}{2} U_0 + \\frac{(\\lambda \\Delta t)^4}{4} U_0 + 4 \\lambda \\Delta t U_0 + 2 (\\lambda \\Delta t)^2 U_0 + \\frac{(\\lambda \\Delta t)^3}{2} U_0 ) \\\\ \n",
    "    &= U_0 + \\frac{1}{6} (6\\lambda \\Delta t U_0 + 3 (\\lambda \\Delta t)^2 U_0 + (\\lambda \\Delta t)^3 U_0 + \\frac{(\\lambda \\Delta t)^4}{4} U_0) \\\\ \n",
    "    &= U_0 + \\lambda \\Delta t U_0 + \\frac{1}{2} (\\lambda \\Delta t)^2 U_0 + \\frac{1}{6} (\\lambda \\Delta t)^3 U_0 + \\frac{(\\lambda \\Delta t)^4}{24} U_0 \\\\\n",
    "    &= U_0(1 + z + \\frac{z^2}{2} + \\frac{z^3}{6} + \\frac{z^4}{24}). \n",
    "\\end{align*}\n",
    "Therefore, $R(z)$ for RK4 is identical to Taylor 4 as it is the first 5 elements of Taylor series of $e^z$. "
   ]
  },
  {
   "cell_type": "markdown",
   "metadata": {
    "deletable": false,
    "editable": false,
    "nbgrader": {
     "cell_type": "markdown",
     "checksum": "2c28bcfd375e36c5a93c5e612a16554b",
     "grade": false,
     "grade_id": "cell-74f9c58c7046a7cd",
     "locked": true,
     "schema_version": 3,
     "solution": false
    }
   },
   "source": [
    "## Question 3: Linear Multi-Step Schemes - Derivation and stability"
   ]
  },
  {
   "cell_type": "markdown",
   "metadata": {
    "deletable": false,
    "editable": false,
    "nbgrader": {
     "cell_type": "markdown",
     "checksum": "47a6d4aec9010957daf12f68478fe21a",
     "grade": false,
     "grade_id": "cell-74f9c58c7a7cd",
     "locked": true,
     "schema_version": 3,
     "solution": false
    }
   },
   "source": [
    "[4] Derive the Adams-Moulton 2-step method \n",
    "$$\n",
    "    U_{n+2} = U_{n+1} + \\frac{\\Delta t}{12} (-f_{n} + 8 f_{n+1} + 5 f_{n+2}),\n",
    "$$\n",
    "\n",
    "and its error estimate using the formula for the truncation error of general multi-step schemes\n",
    "$$\n",
    "\\begin{aligned}\n",
    "    T(t, u; \\Delta t) &= \\frac{1}{\\Delta t}\\left( \\sum^r_{j=0} \\alpha_j\\right) u(t_n) + \\left(\\sum^r_{j=0} (j\\alpha_j - \\beta_j)\\right) u'(t_n) + \\Delta t \\left(\\sum^r_{j=0} \\left (\\frac{1}{2}j^2 \\alpha_j - j \\beta_j \\right) \\right) u''(t_n) \\\\\n",
    "& \\quad \\quad + \\cdots + \\Delta t^{q - 1} \\left (\\sum^r_{j=0} \\left(\\frac{1}{q!} j^q \\alpha_j - \\frac{1}{(q-1)!} j^{q-1} \\beta_j \\right) \\right) u^{(q)}(t_n) + \\cdots\n",
    "\\end{aligned}$$\n",
    "\n",
    "i.e. find $\\alpha_j$s and $\\beta_j$s that zero out terms of the truncation error out to some order.\n",
    "Some Hint's \n",
    "* This is an Adams scheme with three levels so we already know the $\\alpha$'s\n",
    "* Therefore you only have to find the three $\\beta$'s $\\beta_0$, $\\beta_1$ and $\\beta_2$\n",
    "* Use the above formula to find 3 equations for the 3 values of $\\beta$\n",
    "* The remainder term will be the order of the Truncation error"
   ]
  },
  {
   "cell_type": "markdown",
   "metadata": {
    "deletable": false,
    "nbgrader": {
     "cell_type": "markdown",
     "checksum": "326a9861def06d4f11a07ffdde556ac4",
     "grade": true,
     "grade_id": "cell-415a1f1008c1",
     "locked": false,
     "points": 4,
     "schema_version": 3,
     "solution": true
    }
   },
   "source": [
    "YOUR ANSWER HERE"
   ]
  },
  {
   "cell_type": "markdown",
   "metadata": {
    "deletable": false,
    "editable": false,
    "nbgrader": {
     "cell_type": "markdown",
     "checksum": "a5d121d00d0b95a703d5b8a6c78f261e",
     "grade": false,
     "grade_id": "cell-5fc238aba385d265",
     "locked": true,
     "schema_version": 3,
     "solution": false,
     "task": false
    }
   },
   "source": [
    "**(c)** [8] Stability polynomials and Diagrams\n",
    "\n",
    "Calculate the stability polynomial and plot the stability regions for\n",
    "1. 2-step Adams-Moulton methods.\n",
    "1. 3-step Adams-Bashforth methods\n",
    "\n",
    "which are both 3rd-order methods.  Comment on the relative size of stability regions of these two methods and Taylor-3."
   ]
  },
  {
   "cell_type": "markdown",
   "metadata": {
    "deletable": false,
    "nbgrader": {
     "cell_type": "markdown",
     "checksum": "ccd22ea267673785077f4e38f2b3db22",
     "grade": true,
     "grade_id": "cell-35754117816ff2dd",
     "locked": false,
     "points": 4,
     "schema_version": 3,
     "solution": true,
     "task": false
    }
   },
   "source": [
    "YOUR ANSWER HERE"
   ]
  },
  {
   "cell_type": "code",
   "execution_count": null,
   "metadata": {
    "deletable": false,
    "nbgrader": {
     "cell_type": "code",
     "checksum": "dff12e08aba9ba3313d6421cd3a11cad",
     "grade": true,
     "grade_id": "cell-bb5d48ede7f2d8f4",
     "locked": false,
     "points": 4,
     "schema_version": 3,
     "solution": true,
     "task": false
    }
   },
   "outputs": [],
   "source": [
    "# YOUR CODE HERE\n",
    "raise NotImplementedError()"
   ]
  },
  {
   "cell_type": "markdown",
   "metadata": {
    "deletable": false,
    "nbgrader": {
     "cell_type": "markdown",
     "checksum": "e424adc8b74c1156d0ba25ab8e2dd6dd",
     "grade": true,
     "grade_id": "cell-94b7e383d04df2bc",
     "locked": false,
     "points": 2,
     "schema_version": 3,
     "solution": true,
     "task": false
    }
   },
   "source": [
    "YOUR ANSWER HERE"
   ]
  },
  {
   "cell_type": "markdown",
   "metadata": {
    "deletable": false,
    "editable": false,
    "nbgrader": {
     "cell_type": "markdown",
     "checksum": "d75f66b9bafa4438dca6cbfdef283246",
     "grade": false,
     "grade_id": "cell-0ebb7155c15aa67d",
     "locked": true,
     "schema_version": 3,
     "solution": false,
     "task": false
    }
   },
   "source": [
    "**(d)**  [6] In class we demonstrated that the Leap-frog method seemed to be unstable, at least for the examples we showed.  Use your tools for stability analysis of Linear Multi-step methods to analyze the general stability of the Leap Frog method and plot its stability diagram. In particular, comment on the case we showed in class for $\\lambda$ real and negative."
   ]
  },
  {
   "cell_type": "markdown",
   "metadata": {
    "deletable": false,
    "nbgrader": {
     "cell_type": "markdown",
     "checksum": "74fd2490f5284e224c0208d375df8b63",
     "grade": true,
     "grade_id": "cell-9b23a269401801a6",
     "locked": false,
     "points": 4,
     "schema_version": 3,
     "solution": true,
     "task": false
    }
   },
   "source": [
    "YOUR ANSWER HERE"
   ]
  },
  {
   "cell_type": "code",
   "execution_count": null,
   "metadata": {
    "deletable": false,
    "nbgrader": {
     "cell_type": "code",
     "checksum": "adbbc438ac01b509922ec90acbb94b9b",
     "grade": true,
     "grade_id": "cell-de8ac5dc46de0a80",
     "locked": false,
     "points": 2,
     "schema_version": 3,
     "solution": true,
     "task": false
    }
   },
   "outputs": [],
   "source": [
    "# YOUR CODE HERE\n",
    "raise NotImplementedError()"
   ]
  }
 ],
 "metadata": {
  "kernelspec": {
   "display_name": "base",
   "language": "python",
   "name": "python3"
  },
  "language_info": {
   "codemirror_mode": {
    "name": "ipython",
    "version": 3
   },
   "file_extension": ".py",
   "mimetype": "text/x-python",
   "name": "python",
   "nbconvert_exporter": "python",
   "pygments_lexer": "ipython3",
   "version": "3.11.7"
  },
  "latex_envs": {
   "bibliofile": "biblio.bib",
   "cite_by": "apalike",
   "current_citInitial": 1,
   "eqLabelWithNumbers": true,
   "eqNumInitial": 0
  }
 },
 "nbformat": 4,
 "nbformat_minor": 4
}
