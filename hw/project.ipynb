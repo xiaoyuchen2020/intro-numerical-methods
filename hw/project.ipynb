{
 "cells": [
  {
   "cell_type": "markdown",
   "metadata": {},
   "source": [
    "Before you turn this problem in, make sure everything runs as expected. First, **restart the kernel** (in the menubar, select Kernel$\\rightarrow$Restart) and then **run all cells** (in the menubar, select Cell$\\rightarrow$Run All).\n",
    "\n",
    "Make sure you fill in any place that says `YOUR CODE HERE` or \"YOUR ANSWER HERE\", as well as any collaborators you worked with:"
   ]
  },
  {
   "cell_type": "code",
   "execution_count": 1,
   "metadata": {},
   "outputs": [],
   "source": [
    "COLLABORATORS = \"\""
   ]
  },
  {
   "cell_type": "markdown",
   "metadata": {},
   "source": [
    "---"
   ]
  },
  {
   "cell_type": "code",
   "execution_count": 2,
   "metadata": {},
   "outputs": [],
   "source": [
    "%matplotlib inline\n",
    "%precision 16\n",
    "import numpy\n",
    "import matplotlib.pyplot as plt\n",
    "import pandas as pd"
   ]
  },
  {
   "cell_type": "markdown",
   "metadata": {
    "deletable": false,
    "editable": false,
    "nbgrader": {
     "cell_type": "markdown",
     "checksum": "d32b4bf706b10b4d167573f34b78f1b7",
     "grade": false,
     "grade_id": "cell-c4123d20c3a14019",
     "locked": true,
     "schema_version": 3,
     "solution": false,
     "task": false
    },
    "slideshow": {
     "slide_type": ""
    },
    "tags": []
   },
   "source": [
    "# Final Project\n",
    "\n",
    "This notebook will provide a brief structure and rubric for presenting your final project. \n",
    "\n",
    "The purpose of the project is 2-fold\n",
    "* To give you an opportunity to work on a problem you are truly interested in (as this is the best way to actually learn something)\n",
    "* To demonstrate to me that you understand the overall workflow of problem solving from problem selection to implementation to discussion \n",
    "\n",
    "You can choose any subject area that interests you as long as there is a computational component to it.  However, please do not reuse projects or homeworks you have done in other classes.  This should be **your** original work.\n",
    "\n",
    "**You can work in teams, but clearly identify each persons contribution** and every team member should hand in their own copy of the notebook.\n",
    "\n",
    "### Structure\n",
    "There are 5 parts for a total of 100 points that provide the overall structure of a mini research project.\n",
    "\n",
    "* Abstract\n",
    "* Introduction and Problem Description\n",
    "* Brief discussion of Computational approach and import of any additional packages\n",
    "* Implementation including tests\n",
    "* Discussion of results and future directions\n",
    "\n",
    "For grading purposes, please try to make this notebook entirely self contained. \n",
    "\n",
    "The project is worth about 2 problem sets and should be of comparable length (please: I will have about 100 of these to read and I am not expecting full 10 page papers).  The actual project does not necessarily have to work but in that case you should demonstrate that you understand why it did not work and what steps you would take next to fix it.\n",
    "\n",
    "Have fun"
   ]
  },
  {
   "cell_type": "markdown",
   "metadata": {
    "deletable": false,
    "editable": false,
    "nbgrader": {
     "cell_type": "markdown",
     "checksum": "fbc13653b2b30717b82998dc8185d077",
     "grade": false,
     "grade_id": "cell-382e921cda790b91",
     "locked": true,
     "schema_version": 3,
     "solution": false,
     "task": false
    },
    "slideshow": {
     "slide_type": ""
    },
    "tags": []
   },
   "source": [
    "## Abstract [10 pts]\n",
    "\n",
    "Provide a 1-2 paragraph abstract of the project in the style of a research paper.  The abstract should contain\n",
    "\n",
    "* A brief description of the problem\n",
    "* A brief justification describing why this problem is important/interesting to you\n",
    "* A general description of the computational approach\n",
    "* A brief summary of what you did and what you learned\n"
   ]
  },
  {
   "cell_type": "markdown",
   "metadata": {},
   "source": [
    "This project explores the application of convolutional Gaussian processes (GP) to high-dimensional problems, specifically image classification. Building upon the work of Wilk et al., the project aims to reproduce their experiments using the MNIST dataset, a widely recognized benchmark for handwritten digit classification.\n",
    "\n",
    "The study also investigates the use of convolutional methods to reduce image dimensions while maintaining classification accuracy. By incorporating a weighted convolutional model, the project evaluates its performance against simpler models. This work is significant as image classification is a fundamental task in machine learning and computer vision. By leveraging GPs, the approach offers a flexible probabilistic framework capable of providing both predictions and uncertainty estimates. Furthermore, the integration of convolutional methods allows for efficient handling of high-dimensional image data, which is hlepful in more sophiscated image recognitions. "
   ]
  },
  {
   "cell_type": "markdown",
   "metadata": {
    "deletable": false,
    "editable": false,
    "nbgrader": {
     "cell_type": "markdown",
     "checksum": "2a85e6fdaa77e6624fee7a062c4fbae2",
     "grade": false,
     "grade_id": "cell-318b53f4ed873060",
     "locked": true,
     "schema_version": 3,
     "solution": false,
     "task": false
    }
   },
   "source": [
    "## Introduction [15 pts]\n",
    "\n",
    "In ~4-5 paragraphs, describe \n",
    "* The general problem you want to solve\n",
    "* Why it is important and what you hope to achieve.\n",
    "\n",
    "Please provide basic **references**, particularly if you are reproducing results from a paper. Also include any basic equations you plan to solve. \n",
    "\n",
    "Please use proper spelling and grammar. "
   ]
  },
  {
   "cell_type": "markdown",
   "metadata": {},
   "source": [
    "This project is about experimenting convolutional Gaussian processes on high dimensional problem such as image classification. The project basicly follows the idea from Wilk et al. and is trying to reproduce the similar experiments they have done with MNIST dataset in their paper. [1]\n",
    "\n",
    "In this project, we want to utilize the Gaussian process regression to model the relationship between image of handwritten digits and the corresponding label of the digit. We can then convert the result of regression to classifications. The dataset will be used in this project is MNIST, which is a large database of handwritten digits commonly used for training image processing systems. To reduce the computational complexity, we will be focusing on only a subset of samples of digits $0$ and $1$. Our goal is to provide a model that properly classifies any test image of handwritten $0$ or $1$ into proper category. \n",
    "\n",
    "We will also try the convolutional method to reduce the image size to see if we can perform the image classification using only part of the image while maintaining a high accuracy. In the end, we include a more sophiscated weighted convolutional model and compares its performance with our previous models. \n",
    "\n",
    "This problem is important since image classification is a critical task in machine learning and computer vision. A efficient and accurate model for recognizing handwritten digits could be used to solve more complex image recognition problems. By using GP model, we would have a more flexible probabilistic approach to model the relationship between pixel value and corresponding label. GP regression also provides a way of giving the confidence of prediction. The utilization of convolutional method gives opportunity of modeling high dimensional problems such as images with larger size. "
   ]
  },
  {
   "cell_type": "markdown",
   "metadata": {
    "deletable": false,
    "nbgrader": {
     "cell_type": "markdown",
     "checksum": "389f9029792ef9416cb9a4531f47cfa0",
     "grade": true,
     "grade_id": "cell-f3a6a5fa3a14f053",
     "locked": false,
     "points": 13,
     "schema_version": 3,
     "solution": true,
     "task": false
    }
   },
   "source": [
    "A Gaussian process (GP) is a stochastic process where every finite set of random variables follows a multivariate normal distribution. Due to the properties inherited from normal distribution, it is useful in statistical modeling as normal distribution occurs naturally in reality. Let $f(x)$ be a unknown function that we are modeling, a GP prior is then defined as \n",
    "\\begin{align*}\n",
    "    f(x) \\sim \\mathcal{GP}(m(x), k(x, x')), \n",
    "\\end{align*}\n",
    "where $m(x) = \\mathbb{E}[f(x)]$ and $k(x, x') = \\text{cov}[f(x), f(x')]$. \n",
    "This prior defines that with any $n$ inputs $X = (x_1, \\cdots, x_n)$, the function gives value \n",
    "\\begin{align*}\n",
    "    \\mathbf{f} = (f(x_1), \\cdots f(x_n)) \n",
    "\\end{align*}\n",
    "following the multivariate normal distribution \n",
    "\\begin{align*}\n",
    "    \\mathbf{f} \\sim \\mathcal{N}(m(x), k(x, x')). \n",
    "\\end{align*}\n",
    "Then, $k$ is called the kernel function defining the covariance of the function. It is usually assumed that we have zero mean, that is $m(x) = 0$, meaning data is normalized to zero mean. Then, in this model, if points $x_i$ and $x_j$ are considered similar by the kernel function, they should return similar values in $f(x_i)$ and $f(x_j)$. \n",
    "\n",
    "Let $\\mathbf{f}_*$ represent the function values at the test inputs $X_*$. The joint distribution of $\\mathbf{f}$ and $\\mathbf{f}_*$ is then expressed as \n",
    "\\begin{align*}\n",
    "    \\begin{bmatrix}\n",
    "        \\mathbf{f} \\\\\n",
    "        \\mathbf{f}_*\n",
    "    \\end{bmatrix} \\sim \n",
    "    \\mathcal{N} \\left(\n",
    "    \\begin{bmatrix}\n",
    "        m(X) \\\\ \n",
    "        m(X_*)\n",
    "    \\end{bmatrix}, \n",
    "    \\begin{bmatrix}\n",
    "        K & K_* \\\\ \n",
    "        K_*^T & K_{**}\n",
    "    \\end{bmatrix}\n",
    "    \\right), \n",
    "\\end{align*}\n",
    "where $K = k(X, X)$, $K_* = k(X, X_*)$, $K_{**} = k(X_*, X_*)$. \n",
    "\n",
    "In GP regression, we are just modeling the conditional probability $P(\\mathbf{f}_* | f, X, X_*)$, where the result is \n",
    "\\begin{align*}\n",
    "    \\mathbf{f}_* | f, X, X_* \\sim \\mathcal{N}(K_*^T K^{-1} \\mathbf{f}, K_{**} - K_*^T K^{-1} K_*). \n",
    "\\end{align*}"
   ]
  },
  {
   "cell_type": "markdown",
   "metadata": {
    "deletable": false,
    "editable": false,
    "nbgrader": {
     "cell_type": "markdown",
     "checksum": "73f86182652b4056f26270c1819c32b4",
     "grade": false,
     "grade_id": "cell-cf3ab00000465969",
     "locked": true,
     "schema_version": 3,
     "solution": false,
     "task": false
    }
   },
   "source": [
    "### References"
   ]
  },
  {
   "cell_type": "markdown",
   "metadata": {
    "deletable": false,
    "editable": true,
    "nbgrader": {
     "cell_type": "markdown",
     "checksum": "0da0870c2fa4c6e72b6e6b9b3485b47e",
     "grade": true,
     "grade_id": "cell-a11d878ca3210c53",
     "locked": false,
     "points": 2,
     "schema_version": 3,
     "solution": true,
     "task": false
    },
    "slideshow": {
     "slide_type": ""
    },
    "tags": []
   },
   "source": [
    "1. Wilk, M., Rasmussen, C.E., Hensman, J.: Convolutional Gaussian Processes, https://arxiv.org/abs/1709.01894\n",
    "2. Blomqvist, K., Kaski, S., Heinonen, M.: Deep Convolutional Gaussian Processes. arXiv:1810.03052 [cs, stat]. (2018)"
   ]
  },
  {
   "cell_type": "markdown",
   "metadata": {
    "deletable": false,
    "editable": false,
    "nbgrader": {
     "cell_type": "markdown",
     "checksum": "1e396f126d4b6f079f26afe85c99d53e",
     "grade": false,
     "grade_id": "cell-a7a4255dfbbc98e4",
     "locked": true,
     "schema_version": 3,
     "solution": false,
     "task": false
    },
    "slideshow": {
     "slide_type": ""
    },
    "tags": []
   },
   "source": [
    "## Computational  Methods [5 pts]\n",
    "\n",
    "Describe the specific approach you will take to solve some concrete aspect of the general problem. \n",
    "\n",
    "You should  include all the numerical or computational methods you intend to use.  These can include methods or packages  we did not discuss in class but provide some reference to the method. You do not need to explain in detail how the methods work, but you should describe their basic functionality and justify your choices. \n",
    "\n",
    "\n"
   ]
  },
  {
   "cell_type": "markdown",
   "metadata": {
    "deletable": false,
    "nbgrader": {
     "cell_type": "markdown",
     "checksum": "ba61017590a5e99d3c35121cfc680136",
     "grade": true,
     "grade_id": "cell-fe71c0040eae7d5d",
     "locked": false,
     "points": 5,
     "schema_version": 3,
     "solution": true,
     "task": false
    }
   },
   "source": [
    "The main tools that will be used in this project are numpy, scikit-learn, and tensorflow. Numpy is used for computation of basic convolution method on the image. The Gaussian process regression and classification functions in Scikit-learn package will also be used. In addition, Tensorflow is important when we optimize the weighted convolutional GP classification. "
   ]
  },
  {
   "cell_type": "markdown",
   "metadata": {},
   "source": [
    "The MNIST dataset is from https://www.kaggle.com/datasets/avnishnish/mnist-original/data. "
   ]
  },
  {
   "cell_type": "markdown",
   "metadata": {
    "deletable": false,
    "editable": false,
    "nbgrader": {
     "cell_type": "markdown",
     "checksum": "e9bfbac8a8b59723bad5399bef5ac3a9",
     "grade": false,
     "grade_id": "cell-92a6ea193d5ce960",
     "locked": true,
     "schema_version": 3,
     "solution": false,
     "task": false
    }
   },
   "source": [
    "**If you need to install or import any additional python packages,  please provide complete installation instructions in the code block below**\n"
   ]
  },
  {
   "cell_type": "code",
   "execution_count": 3,
   "metadata": {},
   "outputs": [
    {
     "name": "stdout",
     "output_type": "stream",
     "text": [
      "WARNING:tensorflow:From c:\\Users\\31040\\anaconda3\\envs\\gp\\Lib\\site-packages\\tf_keras\\src\\losses.py:2976: The name tf.losses.sparse_softmax_cross_entropy is deprecated. Please use tf.compat.v1.losses.sparse_softmax_cross_entropy instead.\n",
      "\n",
      "WARNING:tensorflow:From c:\\Users\\31040\\anaconda3\\envs\\gp\\Lib\\site-packages\\tensorflow_probability\\python\\internal\\backend\\numpy\\_utils.py:48: The name tf.logging.TaskLevelStatusMessage is deprecated. Please use tf.compat.v1.logging.TaskLevelStatusMessage instead.\n",
      "\n",
      "WARNING:tensorflow:From c:\\Users\\31040\\anaconda3\\envs\\gp\\Lib\\site-packages\\tensorflow_probability\\python\\internal\\backend\\numpy\\_utils.py:48: The name tf.control_flow_v2_enabled is deprecated. Please use tf.compat.v1.control_flow_v2_enabled instead.\n",
      "\n"
     ]
    }
   ],
   "source": [
    "# Provide complete installation or import information for external packages or modules here e.g.\n",
    "\n",
    "# pip install scikit-learn\n",
    "# pip install scipy\n",
    "# pip install seaborn\n",
    "# pip install tensorflow\n",
    "# pip install tensorflow\n",
    "# pip install gpflow\n",
    "\n",
    "# Import necessary libraries\n",
    "from scipy.io import loadmat\n",
    "import matplotlib.pyplot as plt\n",
    "\n",
    "from sklearn.gaussian_process import GaussianProcessClassifier\n",
    "from sklearn.gaussian_process.kernels import RBF\n",
    "from sklearn.model_selection import train_test_split\n",
    "from sklearn.preprocessing import StandardScaler\n",
    "from sklearn.metrics import accuracy_score\n",
    "from sklearn.metrics import accuracy_score\n",
    "from sklearn.metrics import confusion_matrix\n",
    "import seaborn as sns\n",
    "\n",
    "import tensorflow as tf\n",
    "import gpflow\n",
    "from gpflow.kernels import Kernel\n",
    "from gpflow.utilities import positive"
   ]
  },
  {
   "cell_type": "code",
   "execution_count": 4,
   "metadata": {},
   "outputs": [
    {
     "name": "stdout",
     "output_type": "stream",
     "text": [
      "(70000, 784)\n"
     ]
    }
   ],
   "source": [
    "# Load dataset\n",
    "mnist = loadmat(\"mnist-original.mat\")\n",
    "mnist_data = mnist[\"data\"].T\n",
    "mnist_label = mnist[\"label\"][0]\n",
    "print(mnist_data.shape)"
   ]
  },
  {
   "cell_type": "markdown",
   "metadata": {
    "deletable": false,
    "editable": false,
    "nbgrader": {
     "cell_type": "markdown",
     "checksum": "330fc22635a3cd0732b5bf73223b75c2",
     "grade": false,
     "grade_id": "cell-501a9781d3f83013",
     "locked": true,
     "schema_version": 3,
     "solution": false,
     "task": false
    },
    "slideshow": {
     "slide_type": ""
    },
    "tags": []
   },
   "source": [
    "## Implementation [60 pts]\n",
    "\n",
    "Use the Markdown and Code blocks below to implement and document your methods including figures.  Only the first markdown block will be a grading cell but please add (not copy) cells in this section to organize your work. \n",
    "\n",
    "Please make the description of your problem readable by interlacing clear explanatory text with code (again with proper grammar and spelling). \n",
    "All code should be well described and commented.\n",
    "\n",
    "For at least one routine you code below, you should provide a test block (e.g. using `numpy.testing` routines, or a convergence plot) to validate your code.  \n",
    "\n",
    "An **important** component of any computational paper is to demonstrate to yourself and others that your code is producing correct results."
   ]
  },
  {
   "cell_type": "markdown",
   "metadata": {
    "deletable": false,
    "editable": true,
    "nbgrader": {
     "cell_type": "markdown",
     "checksum": "11b06e8b1b9fcac0845c1a031f41bc01",
     "grade": true,
     "grade_id": "cell-31f08d5d85bd9afd",
     "locked": false,
     "points": 60,
     "schema_version": 3,
     "solution": true,
     "task": false
    },
    "slideshow": {
     "slide_type": ""
    },
    "tags": []
   },
   "source": [
    "As mentioned previously, to reduce the computational complexity, we only focus on a subset of data of handwritten digits of $0$ and $1$. For each sample image, we have a $28$ by $28$ array, where each element represent the pixel value on the figure. An example image is shown below. "
   ]
  },
  {
   "cell_type": "code",
   "execution_count": 5,
   "metadata": {},
   "outputs": [
    {
     "name": "stdout",
     "output_type": "stream",
     "text": [
      "This is an example image of handwritten digit  0\n"
     ]
    },
    {
     "data": {
      "image/png": "[encoded data removed]",
      "text/plain": [
       "<Figure size 640x480 with 1 Axes>"
      ]
     },
     "metadata": {},
     "output_type": "display_data"
    }
   ],
   "source": [
    "# Select some samples from MNIST 0 and 1\n",
    "mnist_0 = mnist_data[mnist_label == 0][0:40]\n",
    "mnist_1 = mnist_data[mnist_label == 1][0:40]\n",
    "\n",
    "# Show the first image\n",
    "first_image = mnist_data[0]\n",
    "\n",
    "print(\"This is an example image of handwritten digit \", str(int(mnist_label[0])))\n",
    "first_image = numpy.array(first_image, dtype='float')\n",
    "pixels = first_image.reshape((28, 28))\n",
    "plt.imshow(pixels, cmap='gray')\n",
    "plt.show()"
   ]
  },
  {
   "cell_type": "markdown",
   "metadata": {},
   "source": [
    "### Convolutional Kernel"
   ]
  },
  {
   "cell_type": "markdown",
   "metadata": {},
   "source": [
    "Here we introduce the idea of convolution, which in this case is applying a filter to an image to extract the features. As we originally has a $28$ by $28$ sized image, we can apply a $m$ by $m$ patch to different regions of the image. For each $m$ by $m$ pixels, we create a pixel in our new layer based on the summation of the pixel values in this region. \n",
    "\n",
    "If $g$ is a GP prior, we can present the construction mathematically by \n",
    "\\begin{gather*}\n",
    "    g \\sim \\mathcal{GP}(0, k_g(z, z')), \\\\\n",
    "    f(x) = \\sum_p g(x^{[p]}), \\\\\n",
    "    f \\sim \\mathcal{GP} \\left( 0, \\sum_{p=1}^P \\sum_{p'=1}^P k_g(x^{[p]}, x'^{[p]}) \\right), \n",
    "\\end{gather*}\n",
    "where $x^{[p]}$ is the p-th patch in image $x$. "
   ]
  },
  {
   "cell_type": "code",
   "execution_count": 6,
   "metadata": {},
   "outputs": [],
   "source": [
    "def invariant_convolutional(input, patch_size):\n",
    "    # Get the dimensions of the input\n",
    "    input_shape = input.shape\n",
    "    input_height = input_shape[0]\n",
    "    input_width = input_shape[1]\n",
    "    # input_channels = input_shape[2]\n",
    "\n",
    "    # Get the dimensions of the patch\n",
    "    patch_height = patch_size[0]\n",
    "    patch_width = patch_size[1]\n",
    "\n",
    "    # Initialize the output feature map\n",
    "    output = numpy. zeros((input_height - patch_height + 1, input_width - patch_width + 1))\n",
    "\n",
    "    # Perform the invariant convolution operation\n",
    "    for i in range(input_height - patch_height + 1):\n",
    "        for j in range(input_width - patch_width + 1):\n",
    "            patch = input[i:i+patch_height, j:j+patch_width, :]\n",
    "            output[i, j] = numpy. sum(patch)\n",
    "\n",
    "    return output"
   ]
  },
  {
   "cell_type": "code",
   "execution_count": 7,
   "metadata": {},
   "outputs": [
    {
     "name": "stdout",
     "output_type": "stream",
     "text": [
      "The size of the image then becomes  (24, 24)\n"
     ]
    },
    {
     "data": {
      "image/png": "[encoded data removed]",
      "text/plain": [
       "<Figure size 1500x500 with 3 Axes>"
      ]
     },
     "metadata": {},
     "output_type": "display_data"
    }
   ],
   "source": [
    "# Try on mnist_data\n",
    "patch_size = (5, 5)\n",
    "output = invariant_convolutional(mnist_data[0].reshape(28, 28, 1), patch_size)\n",
    "print(\"The size of the image then becomes \", str(output.shape))\n",
    "\n",
    "# Plot the original image and the output feature map side by side\n",
    "plt.figure(figsize=(15, 5))\n",
    "plt.subplot(1, 3, 1)\n",
    "# Create a square on the original image to show the patch\n",
    "plt.imshow(mnist_data[0].reshape(28, 28), cmap='gray')\n",
    "plt.gca().add_patch(plt.Rectangle((7.5, 7.5), 5, 5, edgecolor='r', facecolor='none'))\n",
    "plt.title('Original Image')\n",
    "\n",
    "# Show a patch in the image\n",
    "plt.subplot(1, 3, 2)\n",
    "patch = mnist_data[0].reshape(28, 28)[8:13, 8:13]\n",
    "plt.imshow(patch, cmap='gray')\n",
    "plt.title('A Patch in the Image')\n",
    "\n",
    "plt.subplot(1, 3, 3)\n",
    "plt.imshow(output, cmap='gray')\n",
    "plt.gca().add_patch(plt.Rectangle((7.5, 7.5), 1, 1, edgecolor='r', facecolor='none'))\n",
    "plt.title('Invariant Convolution Map')\n",
    "plt.show()"
   ]
  },
  {
   "cell_type": "markdown",
   "metadata": {},
   "source": [
    "Here we presented the effect of applying a $5$ by $5$ patch on to the original image. The red square represents one of the patches, which is presented in more detail in the second figure. The pixel values of all those $5$ by $5$ pixels are summed and beomces the value for one pixel in the third plot. We can see that by performing this transformation, we could reduce the size of the image, while keeping the original features like shapes or intensities from the original data. \n",
    "\n",
    "The amount of patches in a $n$ by $n$ images with patch size $m$ by $m$ should be \n",
    "\\begin{align*}\n",
    "    (n - m + 1) \\times (n - m + 1). \n",
    "\\end{align*}\n",
    "In our example, our image reduces to size $24$ by $24$ from $28$ by $28$. "
   ]
  },
  {
   "cell_type": "markdown",
   "metadata": {},
   "source": [
    "### Classification"
   ]
  },
  {
   "cell_type": "markdown",
   "metadata": {},
   "source": [
    "We want to test the effect of convolution on the performance of image classification. Here we use $40$ images of $0$ digits and $40$ images of $1$ digits. We split half of them into training data and half of them into testing data randomly. Since the original pixel value ranges from $0$ to $255$, we also standardized the values to avoid the effect of certain large numbers. We use the radial basis function with default scale length $1$ as the kernel function. "
   ]
  },
  {
   "cell_type": "code",
   "execution_count": 8,
   "metadata": {},
   "outputs": [
    {
     "data": {
      "text/html": [
       "<style>#sk-container-id-1 {\n",
       "  /* Definition of color scheme common for light and dark mode */\n",
       "  --sklearn-color-text: #000;\n",
       "  --sklearn-color-text-muted: #666;\n",
       "  --sklearn-color-line: gray;\n",
       "  /* Definition of color scheme for unfitted estimators */\n",
       "  --sklearn-color-unfitted-level-0: #fff5e6;\n",
       "  --sklearn-color-unfitted-level-1: #f6e4d2;\n",
       "  --sklearn-color-unfitted-level-2: #ffe0b3;\n",
       "  --sklearn-color-unfitted-level-3: chocolate;\n",
       "  /* Definition of color scheme for fitted estimators */\n",
       "  --sklearn-color-fitted-level-0: #f0f8ff;\n",
       "  --sklearn-color-fitted-level-1: #d4ebff;\n",
       "  --sklearn-color-fitted-level-2: #b3dbfd;\n",
       "  --sklearn-color-fitted-level-3: cornflowerblue;\n",
       "\n",
       "  /* Specific color for light theme */\n",
       "  --sklearn-color-text-on-default-background: var(--sg-text-color, var(--theme-code-foreground, var(--jp-content-font-color1, black)));\n",
       "  --sklearn-color-background: var(--sg-background-color, var(--theme-background, var(--jp-layout-color0, white)));\n",
       "  --sklearn-color-border-box: var(--sg-text-color, var(--theme-code-foreground, var(--jp-content-font-color1, black)));\n",
       "  --sklearn-color-icon: #696969;\n",
       "\n",
       "  @media (prefers-color-scheme: dark) {\n",
       "    /* Redefinition of color scheme for dark theme */\n",
       "    --sklearn-color-text-on-default-background: var(--sg-text-color, var(--theme-code-foreground, var(--jp-content-font-color1, white)));\n",
       "    --sklearn-color-background: var(--sg-background-color, var(--theme-background, var(--jp-layout-color0, #111)));\n",
       "    --sklearn-color-border-box: var(--sg-text-color, var(--theme-code-foreground, var(--jp-content-font-color1, white)));\n",
       "    --sklearn-color-icon: #878787;\n",
       "  }\n",
       "}\n",
       "\n",
       "#sk-container-id-1 {\n",
       "  color: var(--sklearn-color-text);\n",
       "}\n",
       "\n",
       "#sk-container-id-1 pre {\n",
       "  padding: 0;\n",
       "}\n",
       "\n",
       "#sk-container-id-1 input.sk-hidden--visually {\n",
       "  border: 0;\n",
       "  clip: rect(1px 1px 1px 1px);\n",
       "  clip: rect(1px, 1px, 1px, 1px);\n",
       "  height: 1px;\n",
       "  margin: -1px;\n",
       "  overflow: hidden;\n",
       "  padding: 0;\n",
       "  position: absolute;\n",
       "  width: 1px;\n",
       "}\n",
       "\n",
       "#sk-container-id-1 div.sk-dashed-wrapped {\n",
       "  border: 1px dashed var(--sklearn-color-line);\n",
       "  margin: 0 0.4em 0.5em 0.4em;\n",
       "  box-sizing: border-box;\n",
       "  padding-bottom: 0.4em;\n",
       "  background-color: var(--sklearn-color-background);\n",
       "}\n",
       "\n",
       "#sk-container-id-1 div.sk-container {\n",
       "  /* jupyter's `normalize.less` sets `[hidden] { display: none; }`\n",
       "     but bootstrap.min.css set `[hidden] { display: none !important; }`\n",
       "     so we also need the `!important` here to be able to override the\n",
       "     default hidden behavior on the sphinx rendered scikit-learn.org.\n",
       "     See: https://github.com/scikit-learn/scikit-learn/issues/21755 */\n",
       "  display: inline-block !important;\n",
       "  position: relative;\n",
       "}\n",
       "\n",
       "#sk-container-id-1 div.sk-text-repr-fallback {\n",
       "  display: none;\n",
       "}\n",
       "\n",
       "div.sk-parallel-item,\n",
       "div.sk-serial,\n",
       "div.sk-item {\n",
       "  /* draw centered vertical line to link estimators */\n",
       "  background-image: linear-gradient(var(--sklearn-color-text-on-default-background), var(--sklearn-color-text-on-default-background));\n",
       "  background-size: 2px 100%;\n",
       "  background-repeat: no-repeat;\n",
       "  background-position: center center;\n",
       "}\n",
       "\n",
       "/* Parallel-specific style estimator block */\n",
       "\n",
       "#sk-container-id-1 div.sk-parallel-item::after {\n",
       "  content: \"\";\n",
       "  width: 100%;\n",
       "  border-bottom: 2px solid var(--sklearn-color-text-on-default-background);\n",
       "  flex-grow: 1;\n",
       "}\n",
       "\n",
       "#sk-container-id-1 div.sk-parallel {\n",
       "  display: flex;\n",
       "  align-items: stretch;\n",
       "  justify-content: center;\n",
       "  background-color: var(--sklearn-color-background);\n",
       "  position: relative;\n",
       "}\n",
       "\n",
       "#sk-container-id-1 div.sk-parallel-item {\n",
       "  display: flex;\n",
       "  flex-direction: column;\n",
       "}\n",
       "\n",
       "#sk-container-id-1 div.sk-parallel-item:first-child::after {\n",
       "  align-self: flex-end;\n",
       "  width: 50%;\n",
       "}\n",
       "\n",
       "#sk-container-id-1 div.sk-parallel-item:last-child::after {\n",
       "  align-self: flex-start;\n",
       "  width: 50%;\n",
       "}\n",
       "\n",
       "#sk-container-id-1 div.sk-parallel-item:only-child::after {\n",
       "  width: 0;\n",
       "}\n",
       "\n",
       "/* Serial-specific style estimator block */\n",
       "\n",
       "#sk-container-id-1 div.sk-serial {\n",
       "  display: flex;\n",
       "  flex-direction: column;\n",
       "  align-items: center;\n",
       "  background-color: var(--sklearn-color-background);\n",
       "  padding-right: 1em;\n",
       "  padding-left: 1em;\n",
       "}\n",
       "\n",
       "\n",
       "/* Toggleable style: style used for estimator/Pipeline/ColumnTransformer box that is\n",
       "clickable and can be expanded/collapsed.\n",
       "- Pipeline and ColumnTransformer use this feature and define the default style\n",
       "- Estimators will overwrite some part of the style using the `sk-estimator` class\n",
       "*/\n",
       "\n",
       "/* Pipeline and ColumnTransformer style (default) */\n",
       "\n",
       "#sk-container-id-1 div.sk-toggleable {\n",
       "  /* Default theme specific background. It is overwritten whether we have a\n",
       "  specific estimator or a Pipeline/ColumnTransformer */\n",
       "  background-color: var(--sklearn-color-background);\n",
       "}\n",
       "\n",
       "/* Toggleable label */\n",
       "#sk-container-id-1 label.sk-toggleable__label {\n",
       "  cursor: pointer;\n",
       "  display: flex;\n",
       "  width: 100%;\n",
       "  margin-bottom: 0;\n",
       "  padding: 0.5em;\n",
       "  box-sizing: border-box;\n",
       "  text-align: center;\n",
       "  align-items: start;\n",
       "  justify-content: space-between;\n",
       "  gap: 0.5em;\n",
       "}\n",
       "\n",
       "#sk-container-id-1 label.sk-toggleable__label .caption {\n",
       "  font-size: 0.6rem;\n",
       "  font-weight: lighter;\n",
       "  color: var(--sklearn-color-text-muted);\n",
       "}\n",
       "\n",
       "#sk-container-id-1 label.sk-toggleable__label-arrow:before {\n",
       "  /* Arrow on the left of the label */\n",
       "  content: \"▸\";\n",
       "  float: left;\n",
       "  margin-right: 0.25em;\n",
       "  color: var(--sklearn-color-icon);\n",
       "}\n",
       "\n",
       "#sk-container-id-1 label.sk-toggleable__label-arrow:hover:before {\n",
       "  color: var(--sklearn-color-text);\n",
       "}\n",
       "\n",
       "/* Toggleable content - dropdown */\n",
       "\n",
       "#sk-container-id-1 div.sk-toggleable__content {\n",
       "  max-height: 0;\n",
       "  max-width: 0;\n",
       "  overflow: hidden;\n",
       "  text-align: left;\n",
       "  /* unfitted */\n",
       "  background-color: var(--sklearn-color-unfitted-level-0);\n",
       "}\n",
       "\n",
       "#sk-container-id-1 div.sk-toggleable__content.fitted {\n",
       "  /* fitted */\n",
       "  background-color: var(--sklearn-color-fitted-level-0);\n",
       "}\n",
       "\n",
       "#sk-container-id-1 div.sk-toggleable__content pre {\n",
       "  margin: 0.2em;\n",
       "  border-radius: 0.25em;\n",
       "  color: var(--sklearn-color-text);\n",
       "  /* unfitted */\n",
       "  background-color: var(--sklearn-color-unfitted-level-0);\n",
       "}\n",
       "\n",
       "#sk-container-id-1 div.sk-toggleable__content.fitted pre {\n",
       "  /* unfitted */\n",
       "  background-color: var(--sklearn-color-fitted-level-0);\n",
       "}\n",
       "\n",
       "#sk-container-id-1 input.sk-toggleable__control:checked~div.sk-toggleable__content {\n",
       "  /* Expand drop-down */\n",
       "  max-height: 200px;\n",
       "  max-width: 100%;\n",
       "  overflow: auto;\n",
       "}\n",
       "\n",
       "#sk-container-id-1 input.sk-toggleable__control:checked~label.sk-toggleable__label-arrow:before {\n",
       "  content: \"▾\";\n",
       "}\n",
       "\n",
       "/* Pipeline/ColumnTransformer-specific style */\n",
       "\n",
       "#sk-container-id-1 div.sk-label input.sk-toggleable__control:checked~label.sk-toggleable__label {\n",
       "  color: var(--sklearn-color-text);\n",
       "  background-color: var(--sklearn-color-unfitted-level-2);\n",
       "}\n",
       "\n",
       "#sk-container-id-1 div.sk-label.fitted input.sk-toggleable__control:checked~label.sk-toggleable__label {\n",
       "  background-color: var(--sklearn-color-fitted-level-2);\n",
       "}\n",
       "\n",
       "/* Estimator-specific style */\n",
       "\n",
       "/* Colorize estimator box */\n",
       "#sk-container-id-1 div.sk-estimator input.sk-toggleable__control:checked~label.sk-toggleable__label {\n",
       "  /* unfitted */\n",
       "  background-color: var(--sklearn-color-unfitted-level-2);\n",
       "}\n",
       "\n",
       "#sk-container-id-1 div.sk-estimator.fitted input.sk-toggleable__control:checked~label.sk-toggleable__label {\n",
       "  /* fitted */\n",
       "  background-color: var(--sklearn-color-fitted-level-2);\n",
       "}\n",
       "\n",
       "#sk-container-id-1 div.sk-label label.sk-toggleable__label,\n",
       "#sk-container-id-1 div.sk-label label {\n",
       "  /* The background is the default theme color */\n",
       "  color: var(--sklearn-color-text-on-default-background);\n",
       "}\n",
       "\n",
       "/* On hover, darken the color of the background */\n",
       "#sk-container-id-1 div.sk-label:hover label.sk-toggleable__label {\n",
       "  color: var(--sklearn-color-text);\n",
       "  background-color: var(--sklearn-color-unfitted-level-2);\n",
       "}\n",
       "\n",
       "/* Label box, darken color on hover, fitted */\n",
       "#sk-container-id-1 div.sk-label.fitted:hover label.sk-toggleable__label.fitted {\n",
       "  color: var(--sklearn-color-text);\n",
       "  background-color: var(--sklearn-color-fitted-level-2);\n",
       "}\n",
       "\n",
       "/* Estimator label */\n",
       "\n",
       "#sk-container-id-1 div.sk-label label {\n",
       "  font-family: monospace;\n",
       "  font-weight: bold;\n",
       "  display: inline-block;\n",
       "  line-height: 1.2em;\n",
       "}\n",
       "\n",
       "#sk-container-id-1 div.sk-label-container {\n",
       "  text-align: center;\n",
       "}\n",
       "\n",
       "/* Estimator-specific */\n",
       "#sk-container-id-1 div.sk-estimator {\n",
       "  font-family: monospace;\n",
       "  border: 1px dotted var(--sklearn-color-border-box);\n",
       "  border-radius: 0.25em;\n",
       "  box-sizing: border-box;\n",
       "  margin-bottom: 0.5em;\n",
       "  /* unfitted */\n",
       "  background-color: var(--sklearn-color-unfitted-level-0);\n",
       "}\n",
       "\n",
       "#sk-container-id-1 div.sk-estimator.fitted {\n",
       "  /* fitted */\n",
       "  background-color: var(--sklearn-color-fitted-level-0);\n",
       "}\n",
       "\n",
       "/* on hover */\n",
       "#sk-container-id-1 div.sk-estimator:hover {\n",
       "  /* unfitted */\n",
       "  background-color: var(--sklearn-color-unfitted-level-2);\n",
       "}\n",
       "\n",
       "#sk-container-id-1 div.sk-estimator.fitted:hover {\n",
       "  /* fitted */\n",
       "  background-color: var(--sklearn-color-fitted-level-2);\n",
       "}\n",
       "\n",
       "/* Specification for estimator info (e.g. \"i\" and \"?\") */\n",
       "\n",
       "/* Common style for \"i\" and \"?\" */\n",
       "\n",
       ".sk-estimator-doc-link,\n",
       "a:link.sk-estimator-doc-link,\n",
       "a:visited.sk-estimator-doc-link {\n",
       "  float: right;\n",
       "  font-size: smaller;\n",
       "  line-height: 1em;\n",
       "  font-family: monospace;\n",
       "  background-color: var(--sklearn-color-background);\n",
       "  border-radius: 1em;\n",
       "  height: 1em;\n",
       "  width: 1em;\n",
       "  text-decoration: none !important;\n",
       "  margin-left: 0.5em;\n",
       "  text-align: center;\n",
       "  /* unfitted */\n",
       "  border: var(--sklearn-color-unfitted-level-1) 1pt solid;\n",
       "  color: var(--sklearn-color-unfitted-level-1);\n",
       "}\n",
       "\n",
       ".sk-estimator-doc-link.fitted,\n",
       "a:link.sk-estimator-doc-link.fitted,\n",
       "a:visited.sk-estimator-doc-link.fitted {\n",
       "  /* fitted */\n",
       "  border: var(--sklearn-color-fitted-level-1) 1pt solid;\n",
       "  color: var(--sklearn-color-fitted-level-1);\n",
       "}\n",
       "\n",
       "/* On hover */\n",
       "div.sk-estimator:hover .sk-estimator-doc-link:hover,\n",
       ".sk-estimator-doc-link:hover,\n",
       "div.sk-label-container:hover .sk-estimator-doc-link:hover,\n",
       ".sk-estimator-doc-link:hover {\n",
       "  /* unfitted */\n",
       "  background-color: var(--sklearn-color-unfitted-level-3);\n",
       "  color: var(--sklearn-color-background);\n",
       "  text-decoration: none;\n",
       "}\n",
       "\n",
       "div.sk-estimator.fitted:hover .sk-estimator-doc-link.fitted:hover,\n",
       ".sk-estimator-doc-link.fitted:hover,\n",
       "div.sk-label-container:hover .sk-estimator-doc-link.fitted:hover,\n",
       ".sk-estimator-doc-link.fitted:hover {\n",
       "  /* fitted */\n",
       "  background-color: var(--sklearn-color-fitted-level-3);\n",
       "  color: var(--sklearn-color-background);\n",
       "  text-decoration: none;\n",
       "}\n",
       "\n",
       "/* Span, style for the box shown on hovering the info icon */\n",
       ".sk-estimator-doc-link span {\n",
       "  display: none;\n",
       "  z-index: 9999;\n",
       "  position: relative;\n",
       "  font-weight: normal;\n",
       "  right: .2ex;\n",
       "  padding: .5ex;\n",
       "  margin: .5ex;\n",
       "  width: min-content;\n",
       "  min-width: 20ex;\n",
       "  max-width: 50ex;\n",
       "  color: var(--sklearn-color-text);\n",
       "  box-shadow: 2pt 2pt 4pt #999;\n",
       "  /* unfitted */\n",
       "  background: var(--sklearn-color-unfitted-level-0);\n",
       "  border: .5pt solid var(--sklearn-color-unfitted-level-3);\n",
       "}\n",
       "\n",
       ".sk-estimator-doc-link.fitted span {\n",
       "  /* fitted */\n",
       "  background: var(--sklearn-color-fitted-level-0);\n",
       "  border: var(--sklearn-color-fitted-level-3);\n",
       "}\n",
       "\n",
       ".sk-estimator-doc-link:hover span {\n",
       "  display: block;\n",
       "}\n",
       "\n",
       "/* \"?\"-specific style due to the `<a>` HTML tag */\n",
       "\n",
       "#sk-container-id-1 a.estimator_doc_link {\n",
       "  float: right;\n",
       "  font-size: 1rem;\n",
       "  line-height: 1em;\n",
       "  font-family: monospace;\n",
       "  background-color: var(--sklearn-color-background);\n",
       "  border-radius: 1rem;\n",
       "  height: 1rem;\n",
       "  width: 1rem;\n",
       "  text-decoration: none;\n",
       "  /* unfitted */\n",
       "  color: var(--sklearn-color-unfitted-level-1);\n",
       "  border: var(--sklearn-color-unfitted-level-1) 1pt solid;\n",
       "}\n",
       "\n",
       "#sk-container-id-1 a.estimator_doc_link.fitted {\n",
       "  /* fitted */\n",
       "  border: var(--sklearn-color-fitted-level-1) 1pt solid;\n",
       "  color: var(--sklearn-color-fitted-level-1);\n",
       "}\n",
       "\n",
       "/* On hover */\n",
       "#sk-container-id-1 a.estimator_doc_link:hover {\n",
       "  /* unfitted */\n",
       "  background-color: var(--sklearn-color-unfitted-level-3);\n",
       "  color: var(--sklearn-color-background);\n",
       "  text-decoration: none;\n",
       "}\n",
       "\n",
       "#sk-container-id-1 a.estimator_doc_link.fitted:hover {\n",
       "  /* fitted */\n",
       "  background-color: var(--sklearn-color-fitted-level-3);\n",
       "}\n",
       "</style><div id=\"sk-container-id-1\" class=\"sk-top-container\"><div class=\"sk-text-repr-fallback\"><pre>GaussianProcessClassifier(kernel=1**2 * RBF(length_scale=1))</pre><b>In a Jupyter environment, please rerun this cell to show the HTML representation or trust the notebook. <br />On GitHub, the HTML representation is unable to render, please try loading this page with nbviewer.org.</b></div><div class=\"sk-container\" hidden><div class=\"sk-item\"><div class=\"sk-estimator fitted sk-toggleable\"><input class=\"sk-toggleable__control sk-hidden--visually\" id=\"sk-estimator-id-1\" type=\"checkbox\" checked><label for=\"sk-estimator-id-1\" class=\"sk-toggleable__label fitted sk-toggleable__label-arrow\"><div><div>GaussianProcessClassifier</div></div><div><a class=\"sk-estimator-doc-link fitted\" rel=\"noreferrer\" target=\"_blank\" href=\"https://scikit-learn.org/1.6/modules/generated/sklearn.gaussian_process.GaussianProcessClassifier.html\">?<span>Documentation for GaussianProcessClassifier</span></a><span class=\"sk-estimator-doc-link fitted\">i<span>Fitted</span></span></div></label><div class=\"sk-toggleable__content fitted\"><pre>GaussianProcessClassifier(kernel=1**2 * RBF(length_scale=1))</pre></div> </div></div></div></div>"
      ],
      "text/plain": [
       "GaussianProcessClassifier(kernel=1**2 * RBF(length_scale=1))"
      ]
     },
     "execution_count": 8,
     "metadata": {},
     "output_type": "execute_result"
    }
   ],
   "source": [
    "X = numpy.vstack((mnist_0, mnist_1))\n",
    "y = [0] * len(mnist_0) + [1] * len(mnist_1)\n",
    "\n",
    "# Split the dataset into training and testing sets\n",
    "X_train, X_test, y_train, y_test = train_test_split(X, y, test_size=0.5, random_state=50)\n",
    "\n",
    "# Standardize the features\n",
    "scaler = StandardScaler()\n",
    "X_train_standardized = scaler.fit_transform(X_train)\n",
    "X_test_standardized = scaler.transform(X_test)\n",
    "\n",
    "# Define the kernel\n",
    "kernel = 1.0 * RBF(length_scale=1.0) # RBF kernel with default parameters\n",
    "\n",
    "# Create the Gaussian process classifier\n",
    "gp = GaussianProcessClassifier(kernel=kernel)\n",
    "\n",
    "# Fit the model to the training data\n",
    "gp.fit(X_train_standardized, y_train)"
   ]
  },
  {
   "cell_type": "code",
   "execution_count": 9,
   "metadata": {},
   "outputs": [
    {
     "name": "stdout",
     "output_type": "stream",
     "text": [
      "The accuracy on testing data is  1.0\n"
     ]
    }
   ],
   "source": [
    "# Make predictions on the test data\n",
    "y_pred = gp.predict(X_test_standardized)\n",
    "\n",
    "# Evaluate the model\n",
    "accuracy = accuracy_score(y_test, y_pred)\n",
    "print(\"The accuracy on testing data is \", str(accuracy))"
   ]
  },
  {
   "cell_type": "code",
   "execution_count": 10,
   "metadata": {},
   "outputs": [
    {
     "name": "stdout",
     "output_type": "stream",
     "text": [
      "Predicted labels:  [1 0 1 1 0 1 1 0 0 0 1 1 1 0 0 1 1 0 0 1 1 1 1 0 0 0 1 1 1 0 0 0 0 0 0 0 1\n",
      " 1 1 1]\n"
     ]
    }
   ],
   "source": [
    "print(\"Predicted labels: \", y_pred)"
   ]
  },
  {
   "cell_type": "code",
   "execution_count": 11,
   "metadata": {},
   "outputs": [
    {
     "data": {
      "image/png": "[encoded data removed]",
      "text/plain": [
       "<Figure size 640x480 with 1 Axes>"
      ]
     },
     "metadata": {},
     "output_type": "display_data"
    }
   ],
   "source": [
    "# Show predict probability\n",
    "y_pred_prob = gp.predict_proba(X_test_standardized)\n",
    "# print(y_pred_prob)\n",
    "\n",
    "# Plot prediction probability\n",
    "plt.bar(range(len(y_pred_prob)), y_pred_prob[:, 1])\n",
    "\n",
    "# Draw a line at probability 0.5\n",
    "plt.axhline(y=0.5, color='black', linewidth=0.5)\n",
    "\n",
    "# Set y lim to 0 and 1\n",
    "plt.ylim(0, 1)\n",
    "plt.xlabel('Sample Index')\n",
    "plt.ylabel('Probability of Being 1')\n",
    "plt.title('Prediction Probability')\n",
    "plt.show()"
   ]
  },
  {
   "cell_type": "markdown",
   "metadata": {},
   "source": [
    "As we can see the result for the basic model is accurate, it correctly ditinguishes all the handwritten $0$ digits and $1$ digits in the $40$ testing cases. However, it is interesting that the model is not confident in it's classifications. Although the predictions are correct, the probability of being classified as $0$ or $1$ are really close. "
   ]
  },
  {
   "cell_type": "markdown",
   "metadata": {},
   "source": [
    "### Convolutional Classification"
   ]
  },
  {
   "cell_type": "markdown",
   "metadata": {},
   "source": [
    "Then we will perform the same GP classification using the same images but applied with patch transformations. "
   ]
  },
  {
   "cell_type": "code",
   "execution_count": 12,
   "metadata": {},
   "outputs": [],
   "source": [
    "# Perform invariant convolution on the selected samples\n",
    "patch_size = (5, 5)\n",
    "X_train_conv = numpy.array([invariant_convolutional(sample.reshape(28, 28, 1), patch_size).flatten() for sample in X_train])\n",
    "X_test_conv = numpy.array([invariant_convolutional(sample.reshape(28, 28, 1), patch_size).flatten() for sample in X_test])\n",
    "\n",
    "# Standardize the features\n",
    "scaler = StandardScaler()\n",
    "X_train_conv_standardized = scaler.fit_transform(X_train_conv)\n",
    "X_test_conv_standardized = scaler.transform(X_test_conv)\n",
    "\n",
    "# Define the kernel\n",
    "kernel = 1.0 * RBF(length_scale=1.0)  # RBF kernel with default parameters"
   ]
  },
  {
   "cell_type": "code",
   "execution_count": 13,
   "metadata": {},
   "outputs": [
    {
     "data": {
      "text/html": [
       "<style>#sk-container-id-2 {\n",
       "  /* Definition of color scheme common for light and dark mode */\n",
       "  --sklearn-color-text: #000;\n",
       "  --sklearn-color-text-muted: #666;\n",
       "  --sklearn-color-line: gray;\n",
       "  /* Definition of color scheme for unfitted estimators */\n",
       "  --sklearn-color-unfitted-level-0: #fff5e6;\n",
       "  --sklearn-color-unfitted-level-1: #f6e4d2;\n",
       "  --sklearn-color-unfitted-level-2: #ffe0b3;\n",
       "  --sklearn-color-unfitted-level-3: chocolate;\n",
       "  /* Definition of color scheme for fitted estimators */\n",
       "  --sklearn-color-fitted-level-0: #f0f8ff;\n",
       "  --sklearn-color-fitted-level-1: #d4ebff;\n",
       "  --sklearn-color-fitted-level-2: #b3dbfd;\n",
       "  --sklearn-color-fitted-level-3: cornflowerblue;\n",
       "\n",
       "  /* Specific color for light theme */\n",
       "  --sklearn-color-text-on-default-background: var(--sg-text-color, var(--theme-code-foreground, var(--jp-content-font-color1, black)));\n",
       "  --sklearn-color-background: var(--sg-background-color, var(--theme-background, var(--jp-layout-color0, white)));\n",
       "  --sklearn-color-border-box: var(--sg-text-color, var(--theme-code-foreground, var(--jp-content-font-color1, black)));\n",
       "  --sklearn-color-icon: #696969;\n",
       "\n",
       "  @media (prefers-color-scheme: dark) {\n",
       "    /* Redefinition of color scheme for dark theme */\n",
       "    --sklearn-color-text-on-default-background: var(--sg-text-color, var(--theme-code-foreground, var(--jp-content-font-color1, white)));\n",
       "    --sklearn-color-background: var(--sg-background-color, var(--theme-background, var(--jp-layout-color0, #111)));\n",
       "    --sklearn-color-border-box: var(--sg-text-color, var(--theme-code-foreground, var(--jp-content-font-color1, white)));\n",
       "    --sklearn-color-icon: #878787;\n",
       "  }\n",
       "}\n",
       "\n",
       "#sk-container-id-2 {\n",
       "  color: var(--sklearn-color-text);\n",
       "}\n",
       "\n",
       "#sk-container-id-2 pre {\n",
       "  padding: 0;\n",
       "}\n",
       "\n",
       "#sk-container-id-2 input.sk-hidden--visually {\n",
       "  border: 0;\n",
       "  clip: rect(1px 1px 1px 1px);\n",
       "  clip: rect(1px, 1px, 1px, 1px);\n",
       "  height: 1px;\n",
       "  margin: -1px;\n",
       "  overflow: hidden;\n",
       "  padding: 0;\n",
       "  position: absolute;\n",
       "  width: 1px;\n",
       "}\n",
       "\n",
       "#sk-container-id-2 div.sk-dashed-wrapped {\n",
       "  border: 1px dashed var(--sklearn-color-line);\n",
       "  margin: 0 0.4em 0.5em 0.4em;\n",
       "  box-sizing: border-box;\n",
       "  padding-bottom: 0.4em;\n",
       "  background-color: var(--sklearn-color-background);\n",
       "}\n",
       "\n",
       "#sk-container-id-2 div.sk-container {\n",
       "  /* jupyter's `normalize.less` sets `[hidden] { display: none; }`\n",
       "     but bootstrap.min.css set `[hidden] { display: none !important; }`\n",
       "     so we also need the `!important` here to be able to override the\n",
       "     default hidden behavior on the sphinx rendered scikit-learn.org.\n",
       "     See: https://github.com/scikit-learn/scikit-learn/issues/21755 */\n",
       "  display: inline-block !important;\n",
       "  position: relative;\n",
       "}\n",
       "\n",
       "#sk-container-id-2 div.sk-text-repr-fallback {\n",
       "  display: none;\n",
       "}\n",
       "\n",
       "div.sk-parallel-item,\n",
       "div.sk-serial,\n",
       "div.sk-item {\n",
       "  /* draw centered vertical line to link estimators */\n",
       "  background-image: linear-gradient(var(--sklearn-color-text-on-default-background), var(--sklearn-color-text-on-default-background));\n",
       "  background-size: 2px 100%;\n",
       "  background-repeat: no-repeat;\n",
       "  background-position: center center;\n",
       "}\n",
       "\n",
       "/* Parallel-specific style estimator block */\n",
       "\n",
       "#sk-container-id-2 div.sk-parallel-item::after {\n",
       "  content: \"\";\n",
       "  width: 100%;\n",
       "  border-bottom: 2px solid var(--sklearn-color-text-on-default-background);\n",
       "  flex-grow: 1;\n",
       "}\n",
       "\n",
       "#sk-container-id-2 div.sk-parallel {\n",
       "  display: flex;\n",
       "  align-items: stretch;\n",
       "  justify-content: center;\n",
       "  background-color: var(--sklearn-color-background);\n",
       "  position: relative;\n",
       "}\n",
       "\n",
       "#sk-container-id-2 div.sk-parallel-item {\n",
       "  display: flex;\n",
       "  flex-direction: column;\n",
       "}\n",
       "\n",
       "#sk-container-id-2 div.sk-parallel-item:first-child::after {\n",
       "  align-self: flex-end;\n",
       "  width: 50%;\n",
       "}\n",
       "\n",
       "#sk-container-id-2 div.sk-parallel-item:last-child::after {\n",
       "  align-self: flex-start;\n",
       "  width: 50%;\n",
       "}\n",
       "\n",
       "#sk-container-id-2 div.sk-parallel-item:only-child::after {\n",
       "  width: 0;\n",
       "}\n",
       "\n",
       "/* Serial-specific style estimator block */\n",
       "\n",
       "#sk-container-id-2 div.sk-serial {\n",
       "  display: flex;\n",
       "  flex-direction: column;\n",
       "  align-items: center;\n",
       "  background-color: var(--sklearn-color-background);\n",
       "  padding-right: 1em;\n",
       "  padding-left: 1em;\n",
       "}\n",
       "\n",
       "\n",
       "/* Toggleable style: style used for estimator/Pipeline/ColumnTransformer box that is\n",
       "clickable and can be expanded/collapsed.\n",
       "- Pipeline and ColumnTransformer use this feature and define the default style\n",
       "- Estimators will overwrite some part of the style using the `sk-estimator` class\n",
       "*/\n",
       "\n",
       "/* Pipeline and ColumnTransformer style (default) */\n",
       "\n",
       "#sk-container-id-2 div.sk-toggleable {\n",
       "  /* Default theme specific background. It is overwritten whether we have a\n",
       "  specific estimator or a Pipeline/ColumnTransformer */\n",
       "  background-color: var(--sklearn-color-background);\n",
       "}\n",
       "\n",
       "/* Toggleable label */\n",
       "#sk-container-id-2 label.sk-toggleable__label {\n",
       "  cursor: pointer;\n",
       "  display: flex;\n",
       "  width: 100%;\n",
       "  margin-bottom: 0;\n",
       "  padding: 0.5em;\n",
       "  box-sizing: border-box;\n",
       "  text-align: center;\n",
       "  align-items: start;\n",
       "  justify-content: space-between;\n",
       "  gap: 0.5em;\n",
       "}\n",
       "\n",
       "#sk-container-id-2 label.sk-toggleable__label .caption {\n",
       "  font-size: 0.6rem;\n",
       "  font-weight: lighter;\n",
       "  color: var(--sklearn-color-text-muted);\n",
       "}\n",
       "\n",
       "#sk-container-id-2 label.sk-toggleable__label-arrow:before {\n",
       "  /* Arrow on the left of the label */\n",
       "  content: \"▸\";\n",
       "  float: left;\n",
       "  margin-right: 0.25em;\n",
       "  color: var(--sklearn-color-icon);\n",
       "}\n",
       "\n",
       "#sk-container-id-2 label.sk-toggleable__label-arrow:hover:before {\n",
       "  color: var(--sklearn-color-text);\n",
       "}\n",
       "\n",
       "/* Toggleable content - dropdown */\n",
       "\n",
       "#sk-container-id-2 div.sk-toggleable__content {\n",
       "  max-height: 0;\n",
       "  max-width: 0;\n",
       "  overflow: hidden;\n",
       "  text-align: left;\n",
       "  /* unfitted */\n",
       "  background-color: var(--sklearn-color-unfitted-level-0);\n",
       "}\n",
       "\n",
       "#sk-container-id-2 div.sk-toggleable__content.fitted {\n",
       "  /* fitted */\n",
       "  background-color: var(--sklearn-color-fitted-level-0);\n",
       "}\n",
       "\n",
       "#sk-container-id-2 div.sk-toggleable__content pre {\n",
       "  margin: 0.2em;\n",
       "  border-radius: 0.25em;\n",
       "  color: var(--sklearn-color-text);\n",
       "  /* unfitted */\n",
       "  background-color: var(--sklearn-color-unfitted-level-0);\n",
       "}\n",
       "\n",
       "#sk-container-id-2 div.sk-toggleable__content.fitted pre {\n",
       "  /* unfitted */\n",
       "  background-color: var(--sklearn-color-fitted-level-0);\n",
       "}\n",
       "\n",
       "#sk-container-id-2 input.sk-toggleable__control:checked~div.sk-toggleable__content {\n",
       "  /* Expand drop-down */\n",
       "  max-height: 200px;\n",
       "  max-width: 100%;\n",
       "  overflow: auto;\n",
       "}\n",
       "\n",
       "#sk-container-id-2 input.sk-toggleable__control:checked~label.sk-toggleable__label-arrow:before {\n",
       "  content: \"▾\";\n",
       "}\n",
       "\n",
       "/* Pipeline/ColumnTransformer-specific style */\n",
       "\n",
       "#sk-container-id-2 div.sk-label input.sk-toggleable__control:checked~label.sk-toggleable__label {\n",
       "  color: var(--sklearn-color-text);\n",
       "  background-color: var(--sklearn-color-unfitted-level-2);\n",
       "}\n",
       "\n",
       "#sk-container-id-2 div.sk-label.fitted input.sk-toggleable__control:checked~label.sk-toggleable__label {\n",
       "  background-color: var(--sklearn-color-fitted-level-2);\n",
       "}\n",
       "\n",
       "/* Estimator-specific style */\n",
       "\n",
       "/* Colorize estimator box */\n",
       "#sk-container-id-2 div.sk-estimator input.sk-toggleable__control:checked~label.sk-toggleable__label {\n",
       "  /* unfitted */\n",
       "  background-color: var(--sklearn-color-unfitted-level-2);\n",
       "}\n",
       "\n",
       "#sk-container-id-2 div.sk-estimator.fitted input.sk-toggleable__control:checked~label.sk-toggleable__label {\n",
       "  /* fitted */\n",
       "  background-color: var(--sklearn-color-fitted-level-2);\n",
       "}\n",
       "\n",
       "#sk-container-id-2 div.sk-label label.sk-toggleable__label,\n",
       "#sk-container-id-2 div.sk-label label {\n",
       "  /* The background is the default theme color */\n",
       "  color: var(--sklearn-color-text-on-default-background);\n",
       "}\n",
       "\n",
       "/* On hover, darken the color of the background */\n",
       "#sk-container-id-2 div.sk-label:hover label.sk-toggleable__label {\n",
       "  color: var(--sklearn-color-text);\n",
       "  background-color: var(--sklearn-color-unfitted-level-2);\n",
       "}\n",
       "\n",
       "/* Label box, darken color on hover, fitted */\n",
       "#sk-container-id-2 div.sk-label.fitted:hover label.sk-toggleable__label.fitted {\n",
       "  color: var(--sklearn-color-text);\n",
       "  background-color: var(--sklearn-color-fitted-level-2);\n",
       "}\n",
       "\n",
       "/* Estimator label */\n",
       "\n",
       "#sk-container-id-2 div.sk-label label {\n",
       "  font-family: monospace;\n",
       "  font-weight: bold;\n",
       "  display: inline-block;\n",
       "  line-height: 1.2em;\n",
       "}\n",
       "\n",
       "#sk-container-id-2 div.sk-label-container {\n",
       "  text-align: center;\n",
       "}\n",
       "\n",
       "/* Estimator-specific */\n",
       "#sk-container-id-2 div.sk-estimator {\n",
       "  font-family: monospace;\n",
       "  border: 1px dotted var(--sklearn-color-border-box);\n",
       "  border-radius: 0.25em;\n",
       "  box-sizing: border-box;\n",
       "  margin-bottom: 0.5em;\n",
       "  /* unfitted */\n",
       "  background-color: var(--sklearn-color-unfitted-level-0);\n",
       "}\n",
       "\n",
       "#sk-container-id-2 div.sk-estimator.fitted {\n",
       "  /* fitted */\n",
       "  background-color: var(--sklearn-color-fitted-level-0);\n",
       "}\n",
       "\n",
       "/* on hover */\n",
       "#sk-container-id-2 div.sk-estimator:hover {\n",
       "  /* unfitted */\n",
       "  background-color: var(--sklearn-color-unfitted-level-2);\n",
       "}\n",
       "\n",
       "#sk-container-id-2 div.sk-estimator.fitted:hover {\n",
       "  /* fitted */\n",
       "  background-color: var(--sklearn-color-fitted-level-2);\n",
       "}\n",
       "\n",
       "/* Specification for estimator info (e.g. \"i\" and \"?\") */\n",
       "\n",
       "/* Common style for \"i\" and \"?\" */\n",
       "\n",
       ".sk-estimator-doc-link,\n",
       "a:link.sk-estimator-doc-link,\n",
       "a:visited.sk-estimator-doc-link {\n",
       "  float: right;\n",
       "  font-size: smaller;\n",
       "  line-height: 1em;\n",
       "  font-family: monospace;\n",
       "  background-color: var(--sklearn-color-background);\n",
       "  border-radius: 1em;\n",
       "  height: 1em;\n",
       "  width: 1em;\n",
       "  text-decoration: none !important;\n",
       "  margin-left: 0.5em;\n",
       "  text-align: center;\n",
       "  /* unfitted */\n",
       "  border: var(--sklearn-color-unfitted-level-1) 1pt solid;\n",
       "  color: var(--sklearn-color-unfitted-level-1);\n",
       "}\n",
       "\n",
       ".sk-estimator-doc-link.fitted,\n",
       "a:link.sk-estimator-doc-link.fitted,\n",
       "a:visited.sk-estimator-doc-link.fitted {\n",
       "  /* fitted */\n",
       "  border: var(--sklearn-color-fitted-level-1) 1pt solid;\n",
       "  color: var(--sklearn-color-fitted-level-1);\n",
       "}\n",
       "\n",
       "/* On hover */\n",
       "div.sk-estimator:hover .sk-estimator-doc-link:hover,\n",
       ".sk-estimator-doc-link:hover,\n",
       "div.sk-label-container:hover .sk-estimator-doc-link:hover,\n",
       ".sk-estimator-doc-link:hover {\n",
       "  /* unfitted */\n",
       "  background-color: var(--sklearn-color-unfitted-level-3);\n",
       "  color: var(--sklearn-color-background);\n",
       "  text-decoration: none;\n",
       "}\n",
       "\n",
       "div.sk-estimator.fitted:hover .sk-estimator-doc-link.fitted:hover,\n",
       ".sk-estimator-doc-link.fitted:hover,\n",
       "div.sk-label-container:hover .sk-estimator-doc-link.fitted:hover,\n",
       ".sk-estimator-doc-link.fitted:hover {\n",
       "  /* fitted */\n",
       "  background-color: var(--sklearn-color-fitted-level-3);\n",
       "  color: var(--sklearn-color-background);\n",
       "  text-decoration: none;\n",
       "}\n",
       "\n",
       "/* Span, style for the box shown on hovering the info icon */\n",
       ".sk-estimator-doc-link span {\n",
       "  display: none;\n",
       "  z-index: 9999;\n",
       "  position: relative;\n",
       "  font-weight: normal;\n",
       "  right: .2ex;\n",
       "  padding: .5ex;\n",
       "  margin: .5ex;\n",
       "  width: min-content;\n",
       "  min-width: 20ex;\n",
       "  max-width: 50ex;\n",
       "  color: var(--sklearn-color-text);\n",
       "  box-shadow: 2pt 2pt 4pt #999;\n",
       "  /* unfitted */\n",
       "  background: var(--sklearn-color-unfitted-level-0);\n",
       "  border: .5pt solid var(--sklearn-color-unfitted-level-3);\n",
       "}\n",
       "\n",
       ".sk-estimator-doc-link.fitted span {\n",
       "  /* fitted */\n",
       "  background: var(--sklearn-color-fitted-level-0);\n",
       "  border: var(--sklearn-color-fitted-level-3);\n",
       "}\n",
       "\n",
       ".sk-estimator-doc-link:hover span {\n",
       "  display: block;\n",
       "}\n",
       "\n",
       "/* \"?\"-specific style due to the `<a>` HTML tag */\n",
       "\n",
       "#sk-container-id-2 a.estimator_doc_link {\n",
       "  float: right;\n",
       "  font-size: 1rem;\n",
       "  line-height: 1em;\n",
       "  font-family: monospace;\n",
       "  background-color: var(--sklearn-color-background);\n",
       "  border-radius: 1rem;\n",
       "  height: 1rem;\n",
       "  width: 1rem;\n",
       "  text-decoration: none;\n",
       "  /* unfitted */\n",
       "  color: var(--sklearn-color-unfitted-level-1);\n",
       "  border: var(--sklearn-color-unfitted-level-1) 1pt solid;\n",
       "}\n",
       "\n",
       "#sk-container-id-2 a.estimator_doc_link.fitted {\n",
       "  /* fitted */\n",
       "  border: var(--sklearn-color-fitted-level-1) 1pt solid;\n",
       "  color: var(--sklearn-color-fitted-level-1);\n",
       "}\n",
       "\n",
       "/* On hover */\n",
       "#sk-container-id-2 a.estimator_doc_link:hover {\n",
       "  /* unfitted */\n",
       "  background-color: var(--sklearn-color-unfitted-level-3);\n",
       "  color: var(--sklearn-color-background);\n",
       "  text-decoration: none;\n",
       "}\n",
       "\n",
       "#sk-container-id-2 a.estimator_doc_link.fitted:hover {\n",
       "  /* fitted */\n",
       "  background-color: var(--sklearn-color-fitted-level-3);\n",
       "}\n",
       "</style><div id=\"sk-container-id-2\" class=\"sk-top-container\"><div class=\"sk-text-repr-fallback\"><pre>GaussianProcessClassifier(kernel=1**2 * RBF(length_scale=1))</pre><b>In a Jupyter environment, please rerun this cell to show the HTML representation or trust the notebook. <br />On GitHub, the HTML representation is unable to render, please try loading this page with nbviewer.org.</b></div><div class=\"sk-container\" hidden><div class=\"sk-item\"><div class=\"sk-estimator fitted sk-toggleable\"><input class=\"sk-toggleable__control sk-hidden--visually\" id=\"sk-estimator-id-2\" type=\"checkbox\" checked><label for=\"sk-estimator-id-2\" class=\"sk-toggleable__label fitted sk-toggleable__label-arrow\"><div><div>GaussianProcessClassifier</div></div><div><a class=\"sk-estimator-doc-link fitted\" rel=\"noreferrer\" target=\"_blank\" href=\"https://scikit-learn.org/1.6/modules/generated/sklearn.gaussian_process.GaussianProcessClassifier.html\">?<span>Documentation for GaussianProcessClassifier</span></a><span class=\"sk-estimator-doc-link fitted\">i<span>Fitted</span></span></div></label><div class=\"sk-toggleable__content fitted\"><pre>GaussianProcessClassifier(kernel=1**2 * RBF(length_scale=1))</pre></div> </div></div></div></div>"
      ],
      "text/plain": [
       "GaussianProcessClassifier(kernel=1**2 * RBF(length_scale=1))"
      ]
     },
     "execution_count": 13,
     "metadata": {},
     "output_type": "execute_result"
    }
   ],
   "source": [
    "# Create the Gaussian process classifier\n",
    "gp = GaussianProcessClassifier(kernel=kernel)\n",
    "\n",
    "# Fit the model to the training data\n",
    "gp.fit(X_train_conv_standardized, y_train)"
   ]
  },
  {
   "cell_type": "code",
   "execution_count": 14,
   "metadata": {},
   "outputs": [
    {
     "name": "stdout",
     "output_type": "stream",
     "text": [
      "The accuracy on testing data is  1.0\n"
     ]
    }
   ],
   "source": [
    "# Make predictions on the test data\n",
    "y_pred = gp.predict(X_test_conv_standardized)\n",
    "\n",
    "# Evaluate the model\n",
    "accuracy = accuracy_score(y_test, y_pred)\n",
    "print(\"The accuracy on testing data is \", str(accuracy))"
   ]
  },
  {
   "cell_type": "code",
   "execution_count": 15,
   "metadata": {},
   "outputs": [
    {
     "name": "stdout",
     "output_type": "stream",
     "text": [
      "Predicted labels:  [1 0 1 1 0 1 1 0 0 0 1 1 1 0 0 1 1 0 0 1 1 1 1 0 0 0 1 1 1 0 0 0 0 0 0 0 1\n",
      " 1 1 1]\n"
     ]
    }
   ],
   "source": [
    "print(\"Predicted labels: \", y_pred)"
   ]
  },
  {
   "cell_type": "code",
   "execution_count": 16,
   "metadata": {},
   "outputs": [
    {
     "data": {
      "image/png": "[encoded data removed]",
      "text/plain": [
       "<Figure size 640x480 with 1 Axes>"
      ]
     },
     "metadata": {},
     "output_type": "display_data"
    }
   ],
   "source": [
    "# Show predict probability\n",
    "y_pred_prob = gp.predict_proba(X_test_conv_standardized)\n",
    "# print(y_pred_prob)\n",
    "\n",
    "# Plot prediction probability\n",
    "plt.bar(range(len(y_pred_prob)), y_pred_prob[:, 1])\n",
    "\n",
    "# Draw a line at probability 0.5\n",
    "plt.axhline(y=0.5, color='black', linewidth=0.5)\n",
    "\n",
    "plt.xlabel('Sample Index')\n",
    "plt.ylabel('Probability of Being 1')\n",
    "plt.title('Prediction Probability')\n",
    "plt.show()"
   ]
  },
  {
   "cell_type": "markdown",
   "metadata": {},
   "source": [
    "We can see that the model still maintains its high accuracy in prediction even though we have images with smaller size. It is worth noting that the model is now more confident in the classification between $0$ and $1$. As shown in the plot, most of the prediction probabilites of being $1$ is rather really high or really low. "
   ]
  },
  {
   "cell_type": "markdown",
   "metadata": {},
   "source": [
    "### Weighted Convolutional Kernel"
   ]
  },
  {
   "cell_type": "markdown",
   "metadata": {},
   "source": [
    "In this part, we experiment with a different type of convolution. In the previous patch, all the pixels contribute equal weights in the summation. However, some pixels may contain more information such as those on the edges of the digits. Increasing the weights of those pixels may contribute to the result of classification. Mathematically, we change the $f(x)$ defined in the invariant convolutional case by \n",
    "\\begin{align*}\n",
    "    f(x) = \\sum_p w_p g(x^{[p]}), \n",
    "\\end{align*}\n",
    "where weights $\\{w_p\\}_{p=1}^P$ adjusts the importance of the pixel value at each location in the image. "
   ]
  },
  {
   "cell_type": "code",
   "execution_count": 17,
   "metadata": {},
   "outputs": [],
   "source": [
    "# Set the default float type to float32 to save memory\n",
    "tf.keras.backend.set_floatx('float32')\n",
    "gpflow.config.set_default_float(tf.float32)"
   ]
  },
  {
   "cell_type": "code",
   "execution_count": 18,
   "metadata": {},
   "outputs": [],
   "source": [
    "# Define the convolutional kernel\n",
    "class Conv(Kernel):\n",
    "    \"\"\"\n",
    "    A custom convolutional kernel for use in Gaussian Processes (GPs).\n",
    "    This kernel is designed to extract patches from an input image and\n",
    "    apply a base kernel to compare these patches between two images.\n",
    "\n",
    "    Parameters:\n",
    "    - basekernel: A kernel object used to compute pairwise similarities between patches.\n",
    "    - img_size: Tuple specifying the dimensions of the input image (height, width).\n",
    "    - patch_size: Tuple specifying the dimensions of each patch (height, width).\n",
    "    - colour_channels: Number of color channels in the image (e.g., 1 for grayscale, 3 for RGB).\n",
    "    \"\"\"\n",
    "    def __init__(self, basekernel, img_size, patch_size, colour_channels=1):\n",
    "        super().__init__()\n",
    "        \n",
    "        self.img_size = img_size # Size of the input image\n",
    "        self.patch_size = patch_size # Size of the patch\n",
    "        self.basekernel = basekernel # Base kernel for comparing patches\n",
    "        self.colour_channels = colour_channels # Number of color channels\n",
    "        \n",
    "        self.num_patches = ((self.img_size[0]- self.patch_size[0] + 1) *(self.img_size[1]- self.patch_size[1] + 1) *colour_channels) # Number of patches\n",
    "        self.basekernel.active_dims = slice(0, numpy. prod(patch_size)* colour_channels) # Set active dimensions for the base kernel\n",
    "        \n",
    "    def _reshape_X(self, X):\n",
    "        \"\"\"\n",
    "        Reshape the input data X into the shape required for image operations.\n",
    "        Parameters:\n",
    "        - X: The input tensor of shape (num_samples, num_features).\n",
    "        \n",
    "        Returns:\n",
    "        - Tensor reshaped into (num_samples, height, width, channels).\n",
    "        \"\"\"\n",
    "        return tf.reshape(X, (-1, self.img_size[0], self.img_size[1], self.colour_channels))\n",
    "    \n",
    "    def _extract_patches(self, X):\n",
    "        \"\"\"\n",
    "        Extract patches from the input images using TensorFlow's patch extraction.\n",
    "        Parameters:\n",
    "        - X: The input tensor (reshaped into images).\n",
    "        \n",
    "        Returns:\n",
    "        - A tensor of extracted patches, reshaped into \n",
    "          (num_samples, num_patches, patch_dim), where patch_dim is the flattened\n",
    "          size of each patch.\n",
    "        \"\"\"\n",
    "        # Reshape input into image format\n",
    "        X_reshaped = self._reshape_X(X)\n",
    "        \n",
    "        # Extract patches from images using sliding windows\n",
    "        patches = tf.image.extract_patches(images=X_reshaped,sizes=[1, self.patch_size[0], self.patch_size[1], 1], strides=[1, 1, 1, 1],rates=[1, 1, 1, 1], padding=\"VALID\")\n",
    "\n",
    "        # Flatten patches into vectors of size (patch_dim)\n",
    "        patch_dim = self.patch_size[0] * self.patch_size[1] *self.colour_channels\n",
    "        return tf.reshape(patches, [-1, self.num_patches,patch_dim])\n",
    "    \n",
    "    def K(self, X, X2=None):\n",
    "        \"\"\"\n",
    "        Compute the covariance matrix between two sets of inputs using the convolutional kernel.\n",
    "        Parameters:\n",
    "        - X: The first input tensor.\n",
    "        - X2: The second input tensor. Defaults to X if not provided.\n",
    "        \n",
    "        Returns:\n",
    "        - The covariance matrix of shape (num_samples_X, num_samples_X2).\n",
    "        \"\"\"\n",
    "        if X2 is None:\n",
    "            X2 = X # If X2 is not provided, use X for self-similarity\n",
    "        \n",
    "        # Extract patches from both inputs\n",
    "        patches_X = self._extract_patches(X)\n",
    "        patches_X2 = self._extract_patches(X2)\n",
    "        \n",
    "        # Flatten patches for compatibility with the base kernel\n",
    "        patches_X_flat = tf.reshape(patches_X, [-1, tf.shape(patches_X)[-1]])\n",
    "        patches_X2_flat = tf.reshape(patches_X2, [-1, tf.shape(patches_X2)[-1]])\n",
    "        \n",
    "        # Compute pairwise similarities using the base kernel\n",
    "        K_matrix = self.basekernel.K(patches_X_flat, patches_X2_flat)\n",
    "        \n",
    "        # Reshape the kernel matrix to account for patches\n",
    "        K_matrix_reshaped = tf.reshape(K_matrix, [tf.shape(X)[0],self.num_patches, tf.shape(X2)[0], self.num_patches])\n",
    "        \n",
    "        # Compute the final kernel matrix by averaging over all patches\n",
    "        return tf.reduce_sum(K_matrix_reshaped, axis=[1, 3]) / (self.num_patches ** 2)\n",
    "    \n",
    "    def K_diag(self, X):\n",
    "        \"\"\"\n",
    "        Compute the diagonal of the covariance matrix (variance) for the inputs.\n",
    "        Parameters:\n",
    "        - X: The input tensor.\n",
    "        \n",
    "        Returns:\n",
    "        - A tensor containing the diagonal elements of the covariance matrix.\n",
    "        \"\"\"\n",
    "        \n",
    "        # Extract patches from the input\n",
    "        patches_X = self._extract_patches(X)\n",
    "        \n",
    "        # Flatten patches for compatibility with the base kernel\n",
    "        patches_X_flat = tf.reshape(patches_X, [-1, tf.shape(patches_X)[-1]])\n",
    "        \n",
    "        # Compute the diagonal of the kernel matrix for each patch\n",
    "        K_diag = self.basekernel.K_diag(patches_X_flat)\n",
    "        \n",
    "        # Sum over all patches and normalize by the number of patches\n",
    "        return tf.reduce_sum(tf.reshape(K_diag, [tf.shape(X)[0], self.num_patches]), axis=1) / self.num_patches\n",
    "    "
   ]
  },
  {
   "cell_type": "code",
   "execution_count": 19,
   "metadata": {},
   "outputs": [],
   "source": [
    "# Convert the training and testing data to TensorFlow tensors\n",
    "y_train_np = numpy. array(y_train).reshape(-1, 1)\n",
    "X_train_stand_tf = tf.convert_to_tensor(X_train_standardized, dtype=tf.float32)\n",
    "y_train_tf = tf.convert_to_tensor(y_train_np, dtype=tf.float32)"
   ]
  },
  {
   "cell_type": "code",
   "execution_count": 20,
   "metadata": {},
   "outputs": [
    {
     "name": "stdout",
     "output_type": "stream",
     "text": [
      "╒════════════════════════════════════╤═══════════╤══════════════════╤═════════╤═════════════╤═════════╤═════════╤═════════╕\n",
      "│ name                               │ class     │ transform        │ prior   │ trainable   │ shape   │ dtype   │   value │\n",
      "╞════════════════════════════════════╪═══════════╪══════════════════╪═════════╪═════════════╪═════════╪═════════╪═════════╡\n",
      "│ GPR.kernel.basekernel.variance     │ Parameter │ Softplus         │         │ True        │ ()      │ float32 │       1 │\n",
      "├────────────────────────────────────┼───────────┼──────────────────┼─────────┼─────────────┼─────────┼─────────┼─────────┤\n",
      "│ GPR.kernel.basekernel.lengthscales │ Parameter │ Softplus         │         │ True        │ ()      │ float32 │       1 │\n",
      "├────────────────────────────────────┼───────────┼──────────────────┼─────────┼─────────────┼─────────┼─────────┼─────────┤\n",
      "│ GPR.likelihood.variance            │ Parameter │ Softplus + Shift │         │ True        │ ()      │ float32 │       1 │\n",
      "╘════════════════════════════════════╧═══════════╧══════════════════╧═════════╧═════════════╧═════════╧═════════╧═════════╛\n"
     ]
    }
   ],
   "source": [
    "# Define the convolutional kernel\n",
    "base_kernel = gpflow.kernels.SquaredExponential()\n",
    "conv_kernel = Conv(basekernel=base_kernel, img_size=(28, 28), patch_size=(5, 5))\n",
    "\n",
    "y_train_np = numpy.array(y_train).reshape(-1, 1)\n",
    "model = gpflow.models.GPR(data=(X_train_stand_tf, y_train_tf), kernel=conv_kernel, mean_function=None)\n",
    "gpflow.utilities.print_summary(model)"
   ]
  },
  {
   "cell_type": "code",
   "execution_count": 21,
   "metadata": {},
   "outputs": [],
   "source": [
    "# Optimize the model\n",
    "opt = gpflow.optimizers.Scipy()\n",
    "opt_logs = opt.minimize(model.training_loss, model.trainable_variables, options=dict(maxiter=100))"
   ]
  },
  {
   "cell_type": "code",
   "execution_count": 22,
   "metadata": {},
   "outputs": [],
   "source": [
    "# Convert the testing data to TensorFlow tensors\n",
    "y_test_np = numpy. array(y_test).reshape(-1, 1)\n",
    "X_test_stand_tf = tf.convert_to_tensor(X_test_standardized, dtype=tf.float32)\n",
    "y_test_tf = tf.convert_to_tensor(y_test_np, dtype=tf.float32)"
   ]
  },
  {
   "cell_type": "code",
   "execution_count": 23,
   "metadata": {},
   "outputs": [],
   "source": [
    "# Make predictions on the test data\n",
    "mean, var = model.predict_y(X_test_stand_tf)\n",
    "pred_labels = numpy.round(mean.numpy()).astype(int)"
   ]
  },
  {
   "cell_type": "code",
   "execution_count": 24,
   "metadata": {},
   "outputs": [
    {
     "name": "stdout",
     "output_type": "stream",
     "text": [
      "Predicted labels:  [1 0 1 1 0 1 1 0 0 0 1 1 1 0 0 1 1 0 0 1 1 1 1 0 0 0 1 1 1 0 0 0 0 0 0 0 1\n",
      " 1 1 1]\n"
     ]
    }
   ],
   "source": [
    "# Reshape pred_labels to 1D array\n",
    "pred_labels = pred_labels.flatten()\n",
    "print(\"Predicted labels: \", pred_labels)"
   ]
  },
  {
   "cell_type": "code",
   "execution_count": 25,
   "metadata": {},
   "outputs": [
    {
     "name": "stdout",
     "output_type": "stream",
     "text": [
      "The accuracy on testing data is  1.0\n"
     ]
    }
   ],
   "source": [
    "accuracy = accuracy_score(y_test, pred_labels)\n",
    "print(\"The accuracy on testing data is \", str(accuracy))"
   ]
  },
  {
   "cell_type": "code",
   "execution_count": 26,
   "metadata": {},
   "outputs": [
    {
     "data": {
      "image/png": "[encoded data removed]",
      "text/plain": [
       "<Figure size 640x480 with 2 Axes>"
      ]
     },
     "metadata": {},
     "output_type": "display_data"
    }
   ],
   "source": [
    "# Show confusion matrix\n",
    "cm = confusion_matrix(y_test, pred_labels)\n",
    "sns.heatmap(cm, annot=True, fmt='d', cmap='Blues')\n",
    "plt.xlabel('Predicted labels')\n",
    "plt.ylabel('True labels')\n",
    "plt.title('Confusion Matrix')\n",
    "plt.show()"
   ]
  },
  {
   "cell_type": "code",
   "execution_count": 27,
   "metadata": {},
   "outputs": [],
   "source": [
    "# Convert mean to numpy array\n",
    "mean_np = mean.numpy()\n",
    "mean_np = mean_np.reshape(int(mean.shape[0]), 1)\n",
    "mean_np = mean_np.flatten()"
   ]
  },
  {
   "cell_type": "code",
   "execution_count": 28,
   "metadata": {},
   "outputs": [
    {
     "data": {
      "image/png": "[encoded data removed]",
      "text/plain": [
       "<Figure size 640x480 with 1 Axes>"
      ]
     },
     "metadata": {},
     "output_type": "display_data"
    }
   ],
   "source": [
    "# Show bar plot of the probabilities\n",
    "plt.bar(range(len(mean_np)), mean_np)\n",
    "\n",
    "# # Label the correct class \n",
    "# for i in range(len(y_test)):\n",
    "#     if y_test[i] == 0:\n",
    "#         plt.text(i, -0.1, '0', ha='center', va='bottom')\n",
    "#     else:\n",
    "#         plt.text(i, -0.1, '1', ha='center', va='bottom')\n",
    "        \n",
    "# # Label the predicted class using red text\n",
    "# for i in range(len(y_test)):\n",
    "#     if pred_labels[i] == 0:\n",
    "#         plt.text(i, -0.1, '0', ha='center', va='top', color='red')\n",
    "#     else:\n",
    "#         plt.text(i, -0.1, '1', ha='center', va='top', color='red')\n",
    "        \n",
    "# Draw a line at probability 0.5\n",
    "plt.axhline(y=0.5, color='black', linewidth=0.5)\n",
    "        \n",
    "plt.xlabel('Sample index')\n",
    "plt.ylabel('Predicted Mean')\n",
    "plt.title('Prediction Results of Weighted Convolutional Kernel')\n",
    "plt.show()\n"
   ]
  },
  {
   "cell_type": "markdown",
   "metadata": {},
   "source": [
    "Here the prediction gives the predicted mean of each image, which explains why some of the values are greater than $1$ or smaller than $0$. We can see that the model gives more confident predictions comparing to the previous case using invariant convolutional kernel. The result shows that by applying a properly weighted convolutional kernel, we could create a better classification model. The convolutional kernel is also helpful in reducing the input size when the data has high dimension. "
   ]
  },
  {
   "cell_type": "markdown",
   "metadata": {
    "deletable": false,
    "editable": false,
    "nbgrader": {
     "cell_type": "markdown",
     "checksum": "87d6ad005559ded09934219c910ab7e3",
     "grade": false,
     "grade_id": "cell-8139016f051ab235",
     "locked": true,
     "schema_version": 3,
     "solution": false,
     "task": false
    },
    "slideshow": {
     "slide_type": ""
    },
    "tags": []
   },
   "source": [
    "## Discussion [10 pts]\n",
    "\n",
    "Evaluate the results of your project including \n",
    "* Why should I believe that your numerical results are correct (convergence, test cases etc)?\n",
    "* Did the project work (in your opinion)?\n",
    "* If yes:  what would be the next steps to try\n",
    "* If no:  Explain why your approach did not work and what you might do to fix it.\n"
   ]
  },
  {
   "cell_type": "markdown",
   "metadata": {
    "deletable": false,
    "editable": true,
    "nbgrader": {
     "cell_type": "markdown",
     "checksum": "c9a6bc1bd11c0e30eac1ac25f6ca71bb",
     "grade": true,
     "grade_id": "cell-596162f90cd1e909",
     "locked": false,
     "points": 10,
     "schema_version": 3,
     "solution": true,
     "task": false
    },
    "slideshow": {
     "slide_type": ""
    },
    "tags": []
   },
   "source": [
    "The result for this project should be correct as we divide the samples into training and testing sets randomly, each of them has enough number of samples for the model to learn or validate the prediction. The model has no information on the testing set during the training step. \n",
    "\n",
    "The project works as it correctly gives a model using weighted convolutional kernel GP classification. However, due to the high computation complexity required during the optimization of kernel parameters, we can only limit the number of training samples to $40$. \n",
    "\n",
    "In the paper from Blomqvist et al., a more sophisticated multilayer convolutional kernel is proposed.[2] If computation resource allows, we could improve the model with more weighted convolutional layers, which could significantly reduce the dimension of the images. We could also add more color channels to the model, allowing us to classify images with colors. "
   ]
  }
 ],
 "metadata": {
  "kernelspec": {
   "display_name": "gp",
   "language": "python",
   "name": "python3"
  },
  "language_info": {
   "codemirror_mode": {
    "name": "ipython",
    "version": 3
   },
   "file_extension": ".py",
   "mimetype": "text/x-python",
   "name": "python",
   "nbconvert_exporter": "python",
   "pygments_lexer": "ipython3",
   "version": "3.12.8"
  },
  "latex_envs": {
   "bibliofile": "biblio.bib",
   "cite_by": "apalike",
   "current_citInitial": 1,
   "eqLabelWithNumbers": true,
   "eqNumInitial": 0
  }
 },
 "nbformat": 4,
 "nbformat_minor": 4
}
