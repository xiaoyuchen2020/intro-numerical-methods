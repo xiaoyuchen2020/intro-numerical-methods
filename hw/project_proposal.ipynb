{
 "cells": [
  {
   "cell_type": "code",
   "execution_count": null,
   "metadata": {},
   "outputs": [],
   "source": [
    "%matplotlib inline\n",
    "import numpy\n",
    "import matplotlib.pyplot as plt\n",
    "import pandas as pd"
   ]
  },
  {
   "cell_type": "markdown",
   "metadata": {
    "deletable": false,
    "editable": false,
    "nbgrader": {
     "cell_type": "markdown",
     "checksum": "9f827ee9648f98c50760d3fb939f92a7",
     "grade": false,
     "grade_id": "cell-c4123d20c3a14019",
     "locked": true,
     "schema_version": 3,
     "solution": false,
     "task": false
    }
   },
   "source": [
    "# Proposal for  the Final Project\n",
    "\n",
    "This notebook is primarily to get you started thinking about what you would like to do for a project and as input for mini-conferences that we can have to help you refine the scope and deliverables for the project.\n",
    "\n",
    "It will be worth **10 points** if it is completed (there are no wrong answers here except for no answers).  \n",
    "\n",
    "----------------------------\n",
    "\n",
    "#### Some background on the project\n",
    "\n",
    "The purpose of the project is 2-fold\n",
    "\n",
    "* To give you an opportunity to work on a problem you are truly interested in (as this is the best way to actually learn something)\n",
    "* To demonstrate to me that you understand the overall workflow of problem solving from problem selection to implementation to discussion \n",
    "\n",
    "You can choose any subject area that interests you as long as there is a computational component to it.  However, please do not reuse projects or homeworks you have done in other classes.  This should be **your** original work.\n",
    "\n",
    "\n",
    "\n"
   ]
  },
  {
   "cell_type": "markdown",
   "metadata": {
    "deletable": false,
    "editable": false,
    "nbgrader": {
     "cell_type": "markdown",
     "checksum": "eed56ea80bcbe9eb5a66f7cabfe5e516",
     "grade": false,
     "grade_id": "cell-318b53f4ed873060",
     "locked": true,
     "schema_version": 3,
     "solution": false,
     "task": false
    }
   },
   "source": [
    "## Instructions\n",
    "\n",
    "With a few paragraphs (max),  propose a problem that you would like to work on for the independent class project. \n",
    "\n",
    "Your proposal should include the following:\n",
    "\n",
    "* A brief statement of the general problem (e.g. Solve an ODE model for pandemics, explore/reproduce an algorithm you saw in a class or paper)\n",
    "* A brief statement of why the problem is important (to you or to a larger audience, or both)\n",
    "* A brief statement of the computational tools you expect to use or want to explore.\n",
    "* A brief statement of what you hope to gain from the project\n",
    "\n",
    "**Notes/Comments:**\n",
    "\n",
    "* you are not limited to methods we talked about in class (e.g. you could explore spectral methods, ML algorithms etc)\n",
    "* Some good approaches for picking a problem include\n",
    "  * There is a classic paper on some problem that you would like to learn by reproducing some of their results\n",
    "  * You are currently engaged in research, and there is some relevant technique/problem you would like to explore\n",
    "  * There is a subject we covered that you want to explore in more depth.\n",
    "  \n",
    "Again...I am relatively agnostic to problem choice as long as it's computational in nature and of interest to you.  Write down your best thoughts and we can iterate.  \n",
    "\n",
    "    \n"
   ]
  },
  {
   "cell_type": "markdown",
   "metadata": {
    "deletable": false,
    "nbgrader": {
     "cell_type": "markdown",
     "checksum": "0491145dac927b85233f047f4495779a",
     "grade": true,
     "grade_id": "cell-f3a6a5fa3a14f053",
     "locked": false,
     "points": 10,
     "schema_version": 3,
     "solution": true,
     "task": false
    }
   },
   "source": [
    "Topic: Exploring the Efficiency of Gaussian Process Regression in High-Dimensional Problems\n",
    "\n",
    "Summary: Gaussian process is a stochastic process such that every finite collection of those random variables has a multivariate normal distribution. Benefiting from its inherited property of normal distribution, it is useful in approximating models in statistical modeling. One way of utilizing it will be using Gaussian process regression to approximate a computationally expansive model to reduce the computational cost. However, the computational complexity for Gaussian process itself increases rapidly with the increasing size or dimension of the data. The project will investigate methods such as inducing points to approximate large datasets, exploring different covariance functions to better capture relationships in data, and testing various sampling strategies to enhance model performance and scalability. By benchmarking these techniques on real-world datasets, this project aims to demonstrate practical improvements in computational efficiency while maintaining or improving prediction accuracy, thereby making Gaussian Process regression more accessible for high-dimensional problems across diverse fields.\n",
    "\n",
    "The problem is important as many real world models in areas like physics and medical are complex, high-dimensional, and computationally demanding. Efficient Gaussian process regression acting as surrogate could significantly reduce the computational burden in these areas.\n",
    "\n",
    "The tools that will be used include Python and scikit-learn library for modeling Gaussian process, and possibly some R programming if needed. \n",
    "\n",
    "During this project, I hope I can get a deeper understanding of Gaussian Process theory, especially as it applies to high-dimensional problems, and gain practical experience in applying advanced approximation techniques. In addition, hopefully an efficient Gaussian process regression model for some real world data set. "
   ]
  }
 ],
 "metadata": {
  "kernelspec": {
   "display_name": "Python 3 (ipykernel)",
   "language": "python",
   "name": "python3"
  },
  "language_info": {
   "codemirror_mode": {
    "name": "ipython",
    "version": 3
   },
   "file_extension": ".py",
   "mimetype": "text/x-python",
   "name": "python",
   "nbconvert_exporter": "python",
   "pygments_lexer": "ipython3",
   "version": "3.11.5"
  },
  "latex_envs": {
   "bibliofile": "biblio.bib",
   "cite_by": "apalike",
   "current_citInitial": 1,
   "eqLabelWithNumbers": true,
   "eqNumInitial": 0
  }
 },
 "nbformat": 4,
 "nbformat_minor": 4
}
