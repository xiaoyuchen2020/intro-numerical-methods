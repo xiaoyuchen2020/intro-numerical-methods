{
 "cells": [
  {
   "cell_type": "code",
   "execution_count": 1,
   "metadata": {},
   "outputs": [],
   "source": [
    "# import openml\n",
    "# import matplotlib.pyplot as plt\n",
    "# import numpy as np\n",
    "# # Fetch the MNIST784 dataset from OpenML\n",
    "# dataset = openml.datasets.get_dataset(554, download_data=False,download_qualities=False, download_features_meta_data=False)\n",
    "\n",
    "# # Get the data as a pandas dataframe\n",
    "# df, *_ = dataset.get_data()\n",
    "\n",
    "# # Display one random image from the dataset\n",
    "# import random\n",
    "# random_idx = random.randint(0, len(df)- 1)\n",
    "# random_image = df.iloc[random_idx, :-1].values.astype(np.float32).reshape(28, 28) # Convert to float32\n",
    "# print(random_idx)\n",
    "# # Plot the image\n",
    "# plt.imshow(random_image, cmap=\"gray\")\n",
    "# plt.title(f\"MNIST784 Image (Label: {df.iloc[random_idx,-1]})\")\n",
    "# plt.axis(\"off\")\n",
    "# plt.show()"
   ]
  },
  {
   "cell_type": "code",
   "execution_count": 2,
   "metadata": {},
   "outputs": [],
   "source": [
    "# # Representative List of \"Good looking\" MNIST Images\n",
    "# idx_list = [65223, 53589, 42820, 67231, 69885, 13231, 60713]"
   ]
  },
  {
   "cell_type": "code",
   "execution_count": 3,
   "metadata": {},
   "outputs": [],
   "source": [
    "# def extract_patches(image, patch_size=3, stride=1):\n",
    "\n",
    "#     patches = []\n",
    "#     # Calculate how many patches we can extract in both dimensions\n",
    "#     for i in range(0, image.shape[0]- patch_size + 1, stride):\n",
    "#         for j in range(0, image.shape[1]- patch_size + 1, stride):\n",
    "#             patch = image[i:i+patch_size, j:j+patch_size]\n",
    "#             patches.append(patch)\n",
    "#     return patches\n",
    "\n",
    "# mnist_image_example = df.iloc[60713, :-1].values.astype(np.float32).reshape(28, 28)\n",
    "\n",
    "# # Extract 3x3 patches\n",
    "# patches = extract_patches(mnist_image_example, patch_size=5,stride=1)\n",
    "\n",
    "# # Verify the total number of patches and the shape of the first patch\n",
    "# total_patches = len(patches)\n",
    "# patch_shape = patches[0].shape if patches else None\n",
    "\n",
    "# total_patches, patch_shape\n",
    "\n",
    "# def visualize_patches_with_colored_titles(image, patches,  start_index=0, patch_size=5, stride=1):\n",
    "#     colors = [\"red\", \"green\", \"blue\", \"magenta\"]\n",
    "#     fig = plt.figure(figsize=(10, 5))\n",
    "#     # Plot the original image with highlighted patches\n",
    "#     ax1 = fig.add_subplot(1, 2, 1)\n",
    "#     ax1.imshow(image, cmap=\"gray\")\n",
    "#     ax1.set_title(\"Original Image\")\n",
    "#     ax1.axis(\"off\")\n",
    "    \n",
    "#     # Draw rectangles around the patches in different colors\n",
    "#     num_patches_per_row = image.shape[1]- patch_size + 1\n",
    "#     for i in range(4):\n",
    "#         if start_index + i < len(patches):\n",
    "#             row = (start_index + i) // num_patches_per_row *stride\n",
    "#             col = (start_index + i) % num_patches_per_row *stride\n",
    "#             rect = plt.Rectangle((col-0.5, row-0.5), patch_size,patch_size, linewidth=1, edgecolor=colors[i], facecolor=\"none\")\n",
    "#             ax1.add_patch(rect)\n",
    "        \n",
    "#     # Adjust subplot for the patches\n",
    "#     ax2 = fig.add_subplot(2, 4, 3)\n",
    "#     ax3 = fig.add_subplot(2, 4, 4)\n",
    "#     ax4 = fig.add_subplot(2, 4, 7)\n",
    "#     ax5 = fig.add_subplot(2, 4, 8)\n",
    "#     axs = [ax2, ax3, ax4, ax5]\n",
    "    \n",
    "#     # Plot each of the 4 patches in the adjusted subplot positions with title colors matching the rectangles\n",
    "#     for i, ax in enumerate(axs):\n",
    "#         patch_index = start_index + i\n",
    "#         if patch_index < len(patches):\n",
    "#             ax.imshow(patches[patch_index], cmap=\"gray\")\n",
    "#             ax.set_title(f\"Patch {patch_index}\", color=colors[i])\n",
    "#         ax.axis(\"off\")\n",
    "\n",
    "#     plt.tight_layout()\n",
    "#     plt.show()\n",
    "    \n",
    "# # Try again with the color-coordinated titles\n",
    "# visualize_patches_with_colored_titles(mnist_image_example,patches, start_index=196)"
   ]
  },
  {
   "cell_type": "code",
   "execution_count": 4,
   "metadata": {},
   "outputs": [],
   "source": [
    "# import matplotlib.pyplot as plt\n",
    "# import matplotlib.patches as patchesas"
   ]
  },
  {
   "cell_type": "code",
   "execution_count": 5,
   "metadata": {},
   "outputs": [],
   "source": [
    "# # Adjusted to specify just the top-left corner and the side length of the square\n",
    "# square_params = {2518: ((10.5, 13.5), 8), # Top-left (x, y) and side length for the \"2\"\n",
    "# 31540: ((10.5, 11.5), 8), # Top-left (x, y) and side length for the \"8\"\n",
    "# }\n",
    "\n",
    "# plt.figure(figsize=(8, 4))\n",
    "# for i, idx in enumerate([2518, 31540]):\n",
    "#     plt.subplot(1, 2, i + 1)\n",
    "#     image_data = df.drop(columns=[\"class\"]).iloc[idx].values.reshape(28, 28)\n",
    "#     plt.imshow(image_data, cmap=\"gray\")\n",
    "    \n",
    "#     top_left, side_length = square_params[idx]\n",
    "    \n",
    "#     patch = patches.Rectangle(top_left, side_length, side_length,linewidth=1, edgecolor=\"r\", facecolor=\"none\")\n",
    "#     plt.gca().add_patch(patch)\n",
    "    \n",
    "#     plt.title(f\"Index: {idx}\")\n",
    "#     plt.axis(\"off\")\n",
    "    \n",
    "# plt.show()\n",
    " \n",
    "# def extract_patches(image, patch_size=3, stride=1):\n",
    "#     patches = []\n",
    "#     for i in range(0, image.shape[0]- patch_size + 1, stride):\n",
    "#         for j in range(0, image.shape[1]- patch_size + 1, stride):\n",
    "#             patch = image[i:i+patch_size, j:j+patch_size]\n",
    "#             patches.append(patch)\n",
    "#     return patches\n",
    "\n",
    "# mnist_image_example = df.iloc[60713, :-1].values.astype(np. float32).reshape(28, 28)\n",
    "# patches = extract_patches(mnist_image_example, patch_size=5, stride=1)"
   ]
  },
  {
   "cell_type": "code",
   "execution_count": 6,
   "metadata": {},
   "outputs": [],
   "source": [
    "# import matplotlib.pyplot as plt\n",
    "# import numpy as np\n",
    "\n",
    "# def visualize_patches(patches, patch_size=16):\n",
    "#     total_patches = len(patches)\n",
    "#     grid_size = int(np.ceil(np.sqrt(total_patches)))\n",
    "#     fig, axs = plt.subplots(grid_size, grid_size, figsize=(grid_size * 2, grid_size * 2))\n",
    "    \n",
    "#     if total_patches == 1:\n",
    "#         axs = np.array([[axs]])\n",
    "#     elif grid_size == 1:\n",
    "#         axs = np.expand_dims(axs, 0)\n",
    "        \n",
    "#     for i in range(grid_size ** 2):\n",
    "#         row = i // grid_size\n",
    "#         col = i % grid_size\n",
    "#         if i < total_patches:\n",
    "#             axs[row, col].imshow(patches[i], cmap=\"gray\", aspect= \"auto\")\n",
    "#             axs[row, col].axis(\"off\")\n",
    "#         else:\n",
    "#             axs[row, col].axis(\"off\")\n",
    "    \n",
    "#     plt.tight_layout()\n",
    "#     plt.show()\n",
    "    \n",
    "# visualize_patches(patches, patch_size=5)"
   ]
  },
  {
   "cell_type": "code",
   "execution_count": 1,
   "metadata": {},
   "outputs": [
    {
     "name": "stdout",
     "output_type": "stream",
     "text": [
      "WARNING:tensorflow:From c:\\Users\\31040\\anaconda3\\envs\\gp\\Lib\\site-packages\\tf_keras\\src\\losses.py:2976: The name tf.losses.sparse_softmax_cross_entropy is deprecated. Please use tf.compat.v1.losses.sparse_softmax_cross_entropy instead.\n",
      "\n",
      "WARNING:tensorflow:From c:\\Users\\31040\\anaconda3\\envs\\gp\\Lib\\site-packages\\tensorflow_probability\\python\\internal\\backend\\numpy\\_utils.py:48: The name tf.logging.TaskLevelStatusMessage is deprecated. Please use tf.compat.v1.logging.TaskLevelStatusMessage instead.\n",
      "\n",
      "WARNING:tensorflow:From c:\\Users\\31040\\anaconda3\\envs\\gp\\Lib\\site-packages\\tensorflow_probability\\python\\internal\\backend\\numpy\\_utils.py:48: The name tf.control_flow_v2_enabled is deprecated. Please use tf.compat.v1.control_flow_v2_enabled instead.\n",
      "\n"
     ]
    }
   ],
   "source": [
    "import openml\n",
    "import numpy as np\n",
    "import tensorflow as tf\n",
    "import matplotlib.pyplot as plt\n",
    "import gpflow\n",
    "from gpflow.kernels import Kernel\n",
    "from gpflow.utilities import positive\n",
    "from sklearn.model_selection import train_test_split"
   ]
  },
  {
   "cell_type": "code",
   "execution_count": 2,
   "metadata": {},
   "outputs": [],
   "source": [
    "mnist = openml.datasets.get_dataset(554, download_data=True)\n",
    "X, y, _, attribute_names = mnist.get_data(target=mnist.default_target_attribute)\n",
    "\n",
    "X_np = np.array(X)\n",
    "mnist_subset_n = 50\n",
    "\n",
    "X_small = X_np[:mnist_subset_n] # Taking the first 10 images\n",
    "y_small = y[:mnist_subset_n].astype(np.float64)\n",
    "\n",
    "X_small_reshaped = X_small.reshape(-1, 28, 28, 1) / 255.0\n",
    "\n",
    "X_small_flat = X_small_reshaped.reshape(-1, 28*28)\n",
    "\n",
    "X_train, X_test, y_train, y_test = train_test_split(X_small_flat, y_small, test_size=0.2, random_state=42)"
   ]
  },
  {
   "cell_type": "code",
   "execution_count": 5,
   "metadata": {},
   "outputs": [
    {
     "data": {
      "text/plain": [
       "array([0.        , 0.        , 0.        , 0.        , 0.        ,\n",
       "       0.        , 0.        , 0.        , 0.        , 0.        ,\n",
       "       0.        , 0.        , 0.        , 0.        , 0.        ,\n",
       "       0.        , 0.        , 0.        , 0.        , 0.        ,\n",
       "       0.        , 0.        , 0.        , 0.        , 0.        ,\n",
       "       0.        , 0.        , 0.        , 0.        , 0.        ,\n",
       "       0.        , 0.        , 0.        , 0.        , 0.        ,\n",
       "       0.        , 0.        , 0.        , 0.        , 0.        ,\n",
       "       0.        , 0.        , 0.        , 0.        , 0.        ,\n",
       "       0.        , 0.        , 0.        , 0.        , 0.        ,\n",
       "       0.        , 0.        , 0.        , 0.        , 0.        ,\n",
       "       0.        , 0.        , 0.        , 0.        , 0.        ,\n",
       "       0.        , 0.        , 0.        , 0.        , 0.        ,\n",
       "       0.        , 0.        , 0.        , 0.        , 0.        ,\n",
       "       0.        , 0.        , 0.        , 0.        , 0.        ,\n",
       "       0.        , 0.        , 0.        , 0.        , 0.        ,\n",
       "       0.        , 0.        , 0.        , 0.        , 0.        ,\n",
       "       0.        , 0.        , 0.        , 0.        , 0.        ,\n",
       "       0.        , 0.        , 0.        , 0.        , 0.        ,\n",
       "       0.        , 0.        , 0.        , 0.        , 0.        ,\n",
       "       0.        , 0.        , 0.        , 0.        , 0.        ,\n",
       "       0.        , 0.        , 0.        , 0.        , 0.        ,\n",
       "       0.        , 0.        , 0.        , 0.        , 0.        ,\n",
       "       0.        , 0.        , 0.        , 0.        , 0.        ,\n",
       "       0.        , 0.        , 0.        , 0.        , 0.        ,\n",
       "       0.        , 0.        , 0.        , 0.        , 0.        ,\n",
       "       0.        , 0.        , 0.        , 0.        , 0.        ,\n",
       "       0.        , 0.        , 0.        , 0.        , 0.        ,\n",
       "       0.        , 0.        , 0.        , 0.04705882, 0.38823529,\n",
       "       0.35686275, 0.55686275, 0.60784314, 0.96470588, 0.71372549,\n",
       "       0.60784314, 0.60784314, 0.60784314, 0.60784314, 0.51372549,\n",
       "       0.20392157, 0.        , 0.        , 0.        , 0.        ,\n",
       "       0.        , 0.        , 0.        , 0.        , 0.        ,\n",
       "       0.        , 0.        , 0.        , 0.        , 0.        ,\n",
       "       0.        , 0.54117647, 0.99607843, 0.99607843, 0.99607843,\n",
       "       0.99607843, 0.99607843, 0.99607843, 0.99607843, 0.99607843,\n",
       "       0.99607843, 0.99607843, 0.99607843, 0.98823529, 0.82352941,\n",
       "       0.47843137, 0.12941176, 0.        , 0.        , 0.        ,\n",
       "       0.        , 0.        , 0.        , 0.        , 0.        ,\n",
       "       0.        , 0.        , 0.        , 0.        , 0.8627451 ,\n",
       "       0.99607843, 0.99607843, 0.99607843, 0.92156863, 0.74117647,\n",
       "       0.74117647, 0.74117647, 0.74117647, 0.58823529, 0.74117647,\n",
       "       0.80392157, 0.99607843, 0.99607843, 0.99607843, 0.29411765,\n",
       "       0.        , 0.        , 0.        , 0.        , 0.        ,\n",
       "       0.        , 0.        , 0.        , 0.        , 0.        ,\n",
       "       0.        , 0.        , 0.1372549 , 0.29019608, 0.1372549 ,\n",
       "       0.1372549 , 0.09803922, 0.        , 0.        , 0.        ,\n",
       "       0.        , 0.        , 0.        , 0.05098039, 0.87843137,\n",
       "       0.99607843, 0.99607843, 0.6       , 0.        , 0.        ,\n",
       "       0.        , 0.        , 0.        , 0.        , 0.        ,\n",
       "       0.        , 0.        , 0.        , 0.        , 0.        ,\n",
       "       0.        , 0.        , 0.        , 0.        , 0.        ,\n",
       "       0.        , 0.        , 0.        , 0.        , 0.        ,\n",
       "       0.        , 0.35294118, 0.99607843, 0.99607843, 0.96862745,\n",
       "       0.20784314, 0.        , 0.        , 0.        , 0.        ,\n",
       "       0.        , 0.        , 0.        , 0.        , 0.        ,\n",
       "       0.        , 0.        , 0.        , 0.        , 0.        ,\n",
       "       0.        , 0.        , 0.        , 0.        , 0.        ,\n",
       "       0.        , 0.        , 0.02352941, 0.59607843, 0.96470588,\n",
       "       0.99607843, 0.99607843, 0.19215686, 0.        , 0.        ,\n",
       "       0.        , 0.        , 0.        , 0.        , 0.        ,\n",
       "       0.        , 0.        , 0.        , 0.        , 0.        ,\n",
       "       0.        , 0.        , 0.        , 0.        , 0.        ,\n",
       "       0.        , 0.        , 0.        , 0.        , 0.25882353,\n",
       "       0.61960784, 0.99607843, 0.99607843, 0.97647059, 0.40392157,\n",
       "       0.03137255, 0.        , 0.        , 0.        , 0.        ,\n",
       "       0.        , 0.        , 0.        , 0.        , 0.        ,\n",
       "       0.        , 0.        , 0.        , 0.        , 0.        ,\n",
       "       0.        , 0.        , 0.        , 0.        , 0.        ,\n",
       "       0.        , 0.21176471, 0.98431373, 0.99607843, 0.99607843,\n",
       "       0.99607843, 0.97254902, 0.29019608, 0.01960784, 0.        ,\n",
       "       0.        , 0.        , 0.        , 0.        , 0.        ,\n",
       "       0.        , 0.        , 0.        , 0.        , 0.        ,\n",
       "       0.        , 0.        , 0.        , 0.        , 0.        ,\n",
       "       0.        , 0.        , 0.        , 0.        , 0.54901961,\n",
       "       0.99607843, 0.99607843, 0.99607843, 0.99607843, 0.99607843,\n",
       "       0.99607843, 0.79215686, 0.49019608, 0.17647059, 0.        ,\n",
       "       0.        , 0.        , 0.        , 0.        , 0.        ,\n",
       "       0.        , 0.        , 0.        , 0.        , 0.        ,\n",
       "       0.        , 0.        , 0.        , 0.        , 0.        ,\n",
       "       0.        , 0.        , 0.22745098, 0.70980392, 0.91764706,\n",
       "       0.99607843, 0.99607843, 0.99607843, 0.99607843, 0.99607843,\n",
       "       0.99607843, 0.98823529, 0.54901961, 0.08627451, 0.        ,\n",
       "       0.        , 0.        , 0.        , 0.        , 0.        ,\n",
       "       0.        , 0.        , 0.        , 0.        , 0.        ,\n",
       "       0.        , 0.        , 0.        , 0.        , 0.        ,\n",
       "       0.        , 0.        , 0.11764706, 0.19607843, 0.28627451,\n",
       "       0.60784314, 0.99215686, 0.99607843, 0.99607843, 0.99607843,\n",
       "       0.99607843, 0.74901961, 0.00784314, 0.        , 0.        ,\n",
       "       0.        , 0.        , 0.        , 0.        , 0.        ,\n",
       "       0.        , 0.        , 0.        , 0.        , 0.        ,\n",
       "       0.        , 0.        , 0.        , 0.        , 0.        ,\n",
       "       0.        , 0.        , 0.        , 0.        , 0.35686275,\n",
       "       0.78431373, 0.99607843, 0.99607843, 0.99607843, 0.99607843,\n",
       "       0.4627451 , 0.        , 0.        , 0.        , 0.        ,\n",
       "       0.        , 0.        , 0.        , 0.        , 0.        ,\n",
       "       0.        , 0.        , 0.        , 0.        , 0.        ,\n",
       "       0.        , 0.        , 0.        , 0.        , 0.        ,\n",
       "       0.        , 0.        , 0.        , 0.01568627, 0.75294118,\n",
       "       0.99607843, 0.99607843, 0.99607843, 0.60392157, 0.        ,\n",
       "       0.        , 0.        , 0.        , 0.        , 0.        ,\n",
       "       0.        , 0.        , 0.        , 0.        , 0.        ,\n",
       "       0.        , 0.        , 0.        , 0.        , 0.        ,\n",
       "       0.        , 0.        , 0.        , 0.        , 0.        ,\n",
       "       0.        , 0.        , 0.55294118, 0.99607843, 0.99607843,\n",
       "       0.99607843, 0.45490196, 0.        , 0.        , 0.        ,\n",
       "       0.        , 0.        , 0.        , 0.        , 0.        ,\n",
       "       0.        , 0.        , 0.        , 0.        , 0.        ,\n",
       "       0.09803922, 0.49411765, 0.3372549 , 0.        , 0.        ,\n",
       "       0.        , 0.        , 0.        , 0.        , 0.01176471,\n",
       "       0.7372549 , 0.99607843, 0.99607843, 0.98039216, 0.23921569,\n",
       "       0.        , 0.        , 0.        , 0.        , 0.        ,\n",
       "       0.        , 0.        , 0.        , 0.        , 0.        ,\n",
       "       0.        , 0.        , 0.09411765, 0.81960784, 0.99607843,\n",
       "       0.05882353, 0.        , 0.        , 0.        , 0.        ,\n",
       "       0.        , 0.09019608, 0.5372549 , 0.99607843, 0.99607843,\n",
       "       0.99607843, 0.81960784, 0.        , 0.        , 0.        ,\n",
       "       0.        , 0.        , 0.        , 0.        , 0.        ,\n",
       "       0.        , 0.        , 0.        , 0.        , 0.        ,\n",
       "       0.65882353, 0.99607843, 0.99607843, 0.18823529, 0.03529412,\n",
       "       0.        , 0.        , 0.03529412, 0.49803922, 0.94509804,\n",
       "       0.99607843, 0.99607843, 1.        , 0.94901961, 0.24705882,\n",
       "       0.        , 0.        , 0.        , 0.        , 0.        ,\n",
       "       0.        , 0.        , 0.        , 0.        , 0.        ,\n",
       "       0.        , 0.        , 0.        , 0.39607843, 0.99607843,\n",
       "       0.99607843, 0.99607843, 0.80392157, 0.74509804, 0.74509804,\n",
       "       0.80392157, 0.99607843, 0.99607843, 0.99607843, 0.99607843,\n",
       "       0.94901961, 0.2627451 , 0.        , 0.        , 0.        ,\n",
       "       0.        , 0.        , 0.        , 0.        , 0.        ,\n",
       "       0.        , 0.        , 0.        , 0.        , 0.        ,\n",
       "       0.        , 0.12941176, 0.65098039, 0.99607843, 0.99607843,\n",
       "       0.99607843, 0.99607843, 0.99607843, 0.99607843, 0.99607843,\n",
       "       0.99607843, 0.98039216, 0.54117647, 0.21568627, 0.        ,\n",
       "       0.        , 0.        , 0.        , 0.        , 0.        ,\n",
       "       0.        , 0.        , 0.        , 0.        , 0.        ,\n",
       "       0.        , 0.        , 0.        , 0.        , 0.        ,\n",
       "       0.02745098, 0.34509804, 0.60392157, 0.45490196, 0.76078431,\n",
       "       0.76078431, 0.60392157, 0.60392157, 0.34509804, 0.19215686,\n",
       "       0.        , 0.        , 0.        , 0.        , 0.        ,\n",
       "       0.        , 0.        , 0.        , 0.        , 0.        ,\n",
       "       0.        , 0.        , 0.        , 0.        , 0.        ,\n",
       "       0.        , 0.        , 0.        , 0.        , 0.        ,\n",
       "       0.        , 0.        , 0.        , 0.        , 0.        ,\n",
       "       0.        , 0.        , 0.        , 0.        , 0.        ,\n",
       "       0.        , 0.        , 0.        , 0.        , 0.        ,\n",
       "       0.        , 0.        , 0.        , 0.        , 0.        ,\n",
       "       0.        , 0.        , 0.        , 0.        , 0.        ,\n",
       "       0.        , 0.        , 0.        , 0.        , 0.        ,\n",
       "       0.        , 0.        , 0.        , 0.        , 0.        ,\n",
       "       0.        , 0.        , 0.        , 0.        , 0.        ,\n",
       "       0.        , 0.        , 0.        , 0.        , 0.        ,\n",
       "       0.        , 0.        , 0.        , 0.        , 0.        ,\n",
       "       0.        , 0.        , 0.        , 0.        , 0.        ,\n",
       "       0.        , 0.        , 0.        , 0.        , 0.        ,\n",
       "       0.        , 0.        , 0.        , 0.        , 0.        ,\n",
       "       0.        , 0.        , 0.        , 0.        , 0.        ,\n",
       "       0.        , 0.        , 0.        , 0.        ])"
      ]
     },
     "execution_count": 5,
     "metadata": {},
     "output_type": "execute_result"
    }
   ],
   "source": [
    "X_train[0]"
   ]
  },
  {
   "cell_type": "code",
   "execution_count": 7,
   "metadata": {},
   "outputs": [
    {
     "data": {
      "text/plain": [
       "(40,)"
      ]
     },
     "execution_count": 7,
     "metadata": {},
     "output_type": "execute_result"
    }
   ],
   "source": [
    "y_train.shape"
   ]
  },
  {
   "cell_type": "code",
   "execution_count": 9,
   "metadata": {},
   "outputs": [],
   "source": [
    "class Conv(Kernel):\n",
    "    def __init__(self, basekern, img_size, patch_size, colour_channels=1):\n",
    "        super().__init__()\n",
    "        \n",
    "        self.img_size = img_size\n",
    "        self.patch_size = patch_size\n",
    "        self.basekern = basekern\n",
    "        self.colour_channels = colour_channels\n",
    "        \n",
    "        self.num_patches = ((self.img_size[0]- self.patch_size[0] + 1) *(self.img_size[1]- self.patch_size[1] + 1) *colour_channels)\n",
    "        \n",
    "        self.basekern.active_dims = slice(0, np.prod(patch_size)* colour_channels)\n",
    "        \n",
    "    def _reshape_X(self, X):\n",
    "        return tf.reshape(X, (-1, self.img_size[0], self.img_size[1], self.colour_channels))\n",
    "    \n",
    "    def _extract_patches(self, X):\n",
    "        X_reshaped = self._reshape_X(X)\n",
    "        patches = tf.image.extract_patches(images=X_reshaped,sizes=[1, self.patch_size[0], self.patch_size[1], 1], strides=[1, 1, 1, 1],rates=[1, 1, 1, 1], padding=\"VALID\")\n",
    "\n",
    "        patch_dim = self.patch_size[0] * self.patch_size[1] *self.colour_channels\n",
    "        return tf.reshape(patches, [-1, self.num_patches,patch_dim])\n",
    "    \n",
    "    def K(self, X, X2=None):\n",
    "        if X2 is None:\n",
    "            X2 = X\n",
    "            \n",
    "        patches_X = self._extract_patches(X)\n",
    "        patches_X2 = self._extract_patches(X2)\n",
    "        \n",
    "        patches_X_flat = tf.reshape(patches_X, [-1, tf.shape(patches_X)[-1]])\n",
    "        patches_X2_flat = tf.reshape(patches_X2, [-1, tf.shape(patches_X2)[-1]])\n",
    "        \n",
    "        K_matrix = self.basekern.K(patches_X_flat, patches_X2_flat)\n",
    "        \n",
    "        K_matrix_reshaped = tf.reshape(K_matrix, [tf.shape(X)[0],self.num_patches, tf.shape(X2)[0], self.num_patches])\n",
    "         \n",
    "        return tf.reduce_sum(K_matrix_reshaped, axis=[1, 3]) / (self.num_patches ** 2)\n",
    "    \n",
    "    \n",
    "    def K_diag(self, X):\n",
    "        patches_X = self._extract_patches(X)\n",
    "        patches_X_flat = tf.reshape(patches_X, [-1, tf.shape(patches_X)[-1]])\n",
    "        \n",
    "        K_diag = self.basekern.K_diag(patches_X_flat)\n",
    "        \n",
    "        return tf.reduce_sum(tf.reshape(K_diag, [tf.shape(X)[0], self.num_patches]), axis=1) / self.num_patches"
   ]
  },
  {
   "cell_type": "code",
   "execution_count": 10,
   "metadata": {},
   "outputs": [
    {
     "name": "stdout",
     "output_type": "stream",
     "text": [
      "(40, 784)\n",
      "(40,)\n"
     ]
    },
    {
     "data": {
      "text/plain": [
       "pandas.core.series.Series"
      ]
     },
     "execution_count": 10,
     "metadata": {},
     "output_type": "execute_result"
    }
   ],
   "source": [
    "print(X_train.shape)\n",
    "print(y_train.shape)\n",
    "type(X_train)\n",
    "type(y_train)"
   ]
  },
  {
   "cell_type": "code",
   "execution_count": 11,
   "metadata": {},
   "outputs": [
    {
     "name": "stdout",
     "output_type": "stream",
     "text": [
      "(40, 1)\n",
      "╒══════════════════════════════════╤═══════════╤══════════════════╤═════════╤═════════════╤═════════╤═════════╤═════════╕\n",
      "│ name                             │ class     │ transform        │ prior   │ trainable   │ shape   │ dtype   │   value │\n",
      "╞══════════════════════════════════╪═══════════╪══════════════════╪═════════╪═════════════╪═════════╪═════════╪═════════╡\n",
      "│ GPR.kernel.basekern.variance     │ Parameter │ Softplus         │         │ True        │ ()      │ float64 │       1 │\n",
      "├──────────────────────────────────┼───────────┼──────────────────┼─────────┼─────────────┼─────────┼─────────┼─────────┤\n",
      "│ GPR.kernel.basekern.lengthscales │ Parameter │ Softplus         │         │ True        │ ()      │ float64 │       1 │\n",
      "├──────────────────────────────────┼───────────┼──────────────────┼─────────┼─────────────┼─────────┼─────────┼─────────┤\n",
      "│ GPR.likelihood.variance          │ Parameter │ Softplus + Shift │         │ True        │ ()      │ float64 │       1 │\n",
      "╘══════════════════════════════════╧═══════════╧══════════════════╧═════════╧═════════════╧═════════╧═════════╧═════════╛\n"
     ]
    }
   ],
   "source": [
    "base_kernel = gpflow.kernels.SquaredExponential()\n",
    "conv_kernel = Conv(basekern=base_kernel, img_size=(28, 28), patch_size=(3, 3), colour_channels=1)\n",
    " \n",
    "y_train_np = y_train.to_numpy()[:, None]\n",
    "print(y_train_np.shape)\n",
    "\n",
    "model = gpflow.models.GPR(data=(X_train, y_train_np), kernel=conv_kernel, mean_function=None)\n",
    "\n",
    "gpflow.utilities.print_summary(model)"
   ]
  },
  {
   "cell_type": "code",
   "execution_count": 12,
   "metadata": {},
   "outputs": [],
   "source": [
    "import time"
   ]
  },
  {
   "cell_type": "code",
   "execution_count": 13,
   "metadata": {},
   "outputs": [
    {
     "name": "stdout",
     "output_type": "stream",
     "text": [
      " Time taken to optimise is 124.624 for subset size of 50\n"
     ]
    }
   ],
   "source": [
    "start_time = time.time()\n",
    "opt = gpflow.optimizers.Scipy()\n",
    "\n",
    "opt_logs = opt.minimize(model.training_loss, model.trainable_variables, options=dict(maxiter=100))\n",
    "end_time = time.time()\n",
    "\n",
    "opt_time = end_time- start_time\n",
    "\n",
    "print(f\" Time taken to optimise is {opt_time:.3f} for subset size of {mnist_subset_n}\")"
   ]
  },
  {
   "cell_type": "code",
   "execution_count": 14,
   "metadata": {},
   "outputs": [
    {
     "name": "stdout",
     "output_type": "stream",
     "text": [
      " Time taken to predict is 3.171 for subset size of 50\n"
     ]
    }
   ],
   "source": [
    "mean, var = model.predict_y(X_test)\n",
    "pred_labels = np.round(mean.numpy()).astype(int)\n",
    "\n",
    "end_pred_time = time.time()- end_time\n",
    "\n",
    "print(f\" Time taken to predict is {end_pred_time:.3f} for subset size of {mnist_subset_n}\")"
   ]
  },
  {
   "cell_type": "code",
   "execution_count": 15,
   "metadata": {},
   "outputs": [
    {
     "data": {
      "image/png": "[encoded data removed]",
      "text/plain": [
       "<Figure size 2000x400 with 5 Axes>"
      ]
     },
     "metadata": {},
     "output_type": "display_data"
    }
   ],
   "source": [
    "n_images = 5\n",
    "fig, axes = plt.subplots(1, n_images, figsize=(20, 4))\n",
    "\n",
    "for i, ax in enumerate(axes.flat):\n",
    "    ax.imshow(X_test[i].reshape(28, 28), cmap=\"gray\")\n",
    "    ax.set_title(f\"Predicted: {pred_labels[i][0]}, Actual: {y_test.iloc[i]:.0f}\")\n",
    "    ax.axis(\"off\")\n",
    "    \n",
    "plt.show()"
   ]
  },
  {
   "cell_type": "code",
   "execution_count": 16,
   "metadata": {},
   "outputs": [
    {
     "name": "stdout",
     "output_type": "stream",
     "text": [
      "Accuracy: 0.100\n"
     ]
    }
   ],
   "source": [
    "from sklearn.metrics import accuracy_score\n",
    "\n",
    "accuracy = accuracy_score(y_test, pred_labels)\n",
    "print(f\"Accuracy: {accuracy:.3f}\")"
   ]
  }
 ],
 "metadata": {
  "kernelspec": {
   "display_name": "gp",
   "language": "python",
   "name": "python3"
  },
  "language_info": {
   "codemirror_mode": {
    "name": "ipython",
    "version": 3
   },
   "file_extension": ".py",
   "mimetype": "text/x-python",
   "name": "python",
   "nbconvert_exporter": "python",
   "pygments_lexer": "ipython3",
   "version": "3.12.8"
  }
 },
 "nbformat": 4,
 "nbformat_minor": 2
}
